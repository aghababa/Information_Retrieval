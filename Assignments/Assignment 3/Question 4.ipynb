{
  "cells": [
    {
      "cell_type": "code",
      "execution_count": 3,
      "metadata": {
        "id": "6znaUIUB8psX"
      },
      "outputs": [],
      "source": [
        "import numpy as np\n",
        "from scipy import linalg as LA"
      ]
    },
    {
      "cell_type": "markdown",
      "metadata": {
        "id": "_y56zFsSSmWD"
      },
      "source": [
        "# User-based Collaborative Filtering"
      ]
    },
    {
      "cell_type": "code",
      "execution_count": 125,
      "metadata": {
        "id": "HeiUR2Z98pef"
      },
      "outputs": [],
      "source": [
        "def sim(x, y):\n",
        "    I_x = np.where(x !=0)[0]\n",
        "    I_y = np.where(y !=0)[0]\n",
        "    r_x_bar = np.mean(x[I_x])\n",
        "    r_y_bar = np.mean(y[I_y])\n",
        "    I = np.where(x * y != 0)[0]\n",
        "    x = x[I] - r_x_bar\n",
        "    y = y[I] - r_y_bar\n",
        "    similarity = np.dot(x, y)/(LA.norm(x) * LA.norm(y))\n",
        "    return similarity"
      ]
    },
    {
      "cell_type": "code",
      "execution_count": 126,
      "metadata": {
        "id": "cZWKKlUb8paP"
      },
      "outputs": [],
      "source": [
        "Alice = np.array([5, 2, 3, 4, 0, 0])\n",
        "Bob = np.array([2, 2, 2, 3, 0, 0])\n",
        "user1 = np.array([3,1,2,3,3,2])\n",
        "user2 = np.array([3,3,4,3,3,2])\n",
        "user3 = np.array([3,2,1,5,4,1])\n",
        "user4 = np.array([2,3,3,4,1,4])"
      ]
    },
    {
      "cell_type": "code",
      "execution_count": 127,
      "metadata": {
        "colab": {
          "base_uri": "https://localhost:8080/"
        },
        "id": "J9i3yJ96_w5f",
        "outputId": "56ed6d30-7bf1-42e6-fa9e-6435b4a33c16"
      },
      "outputs": [
        {
          "name": "stdout",
          "output_type": "stream",
          "text": [
            "Similarity of user1 with Bob: 0.5196152422706632 \n",
            "\n",
            "Similarity of user2 with Bob: -0.2886751345948129 \n",
            "\n",
            "Similarity of user3 with Bob: 0.8769192333232019 \n",
            "\n",
            "Similarity of user4 with Bob: 0.7947194142390264 \n",
            "\n"
          ]
        }
      ],
      "source": [
        "i = 1\n",
        "for user in [user1, user2, user3, user4]:\n",
        "    print(f\"Similarity of user{i} with Bob: {sim(Bob, user)} \\n\")\n",
        "    i += 1"
      ]
    },
    {
      "cell_type": "code",
      "execution_count": 128,
      "metadata": {
        "colab": {
          "base_uri": "https://localhost:8080/"
        },
        "id": "fHOJXdPq8pYH",
        "outputId": "6f5dba82-a961-45b4-befd-c54e6715227c"
      },
      "outputs": [
        {
          "name": "stdout",
          "output_type": "stream",
          "text": [
            "Similarity of user1 with Bob: 0.9391485505499116 \n",
            "\n",
            "Similarity of user2 with Bob: -0.22360679774997896 \n",
            "\n",
            "Similarity of user3 with Bob: 0.528312335697959 \n",
            "\n",
            "Similarity of user4 with Bob: -0.3077935056255462 \n",
            "\n"
          ]
        }
      ],
      "source": [
        "i = 1\n",
        "for user in [user1, user2, user3, user4]:\n",
        "    print(f\"Similarity of user{i} with Bob: {sim(Alice, user)} \\n\")\n",
        "    i += 1"
      ]
    },
    {
      "cell_type": "code",
      "execution_count": 129,
      "metadata": {
        "id": "vZQjorO8D4Vu"
      },
      "outputs": [],
      "source": [
        "def pred(x, i, kNN_users):\n",
        "    '''\n",
        "    x: user\n",
        "    i: item\n",
        "    kNN_users: k nearest neighbors to x\n",
        "    returns: prediction value of recommending item i to the user x\n",
        "    '''\n",
        "    a = sum([sim(x, y) * (y[i] - np.mean(y)) for y in kNN_users])\n",
        "    b = sum([sim(x, y) for y in kNN_users])\n",
        "    I = np.where(x != 0)[0]\n",
        "    x = x[I]\n",
        "    prediction = np.mean(x) + a/b\n",
        "    return prediction"
      ]
    },
    {
      "cell_type": "code",
      "execution_count": 131,
      "metadata": {
        "colab": {
          "base_uri": "https://localhost:8080/"
        },
        "id": "8YTIf8eID4Rn",
        "outputId": "f19ab473-9069-483e-a40c-f30492d01be7"
      },
      "outputs": [
        {
          "data": {
            "text/plain": [
              "(4.40667866773553, 2.6866426645289394)"
            ]
          },
          "execution_count": 131,
          "metadata": {},
          "output_type": "execute_result"
        }
      ],
      "source": [
        "pred(Alice, i=4, kNN_users=[user1, user3]), pred(Alice, i=5, kNN_users=[user1, user3])"
      ]
    },
    {
      "cell_type": "code",
      "execution_count": 130,
      "metadata": {
        "colab": {
          "base_uri": "https://localhost:8080/"
        },
        "id": "dpfadhCbD4Tu",
        "outputId": "86bd6a98-feac-4402-d2c5-c16e61534e13"
      },
      "outputs": [
        {
          "data": {
            "text/plain": [
              "(2.077857564336493, 1.9303379687515587)"
            ]
          },
          "execution_count": 130,
          "metadata": {},
          "output_type": "execute_result"
        }
      ],
      "source": [
        "pred(Bob, i=4, kNN_users=[user3, user4]), pred(Bob, i=5, kNN_users=[user3, user4])"
      ]
    },
    {
      "cell_type": "code",
      "execution_count": 132,
      "metadata": {
        "colab": {
          "base_uri": "https://localhost:8080/"
        },
        "id": "nwB0THoqHTIw",
        "outputId": "e77ec1ed-5198-4ad8-e154-68d1829805bc"
      },
      "outputs": [
        {
          "name": "stdout",
          "output_type": "stream",
          "text": [
            "4.046660666132235\n",
            "2.4066786677355303\n",
            "2.6866426645289394\n",
            "4.766696669338826\n",
            "4.40667866773553\n",
            "2.6866426645289394\n"
          ]
        }
      ],
      "source": [
        "for i in range(6):\n",
        "    print(pred(Alice, i, kNN_users=[user1, user3]))"
      ]
    },
    {
      "cell_type": "code",
      "execution_count": 133,
      "metadata": {
        "colab": {
          "base_uri": "https://localhost:8080/"
        },
        "id": "tBjmjhh-HTGb",
        "outputId": "71cd0fe0-bfff-449f-cec8-bcd161cc0192"
      },
      "outputs": [
        {
          "name": "stdout",
          "output_type": "stream",
          "text": [
            "2.0286843658081817\n",
            "1.9795111672798702\n",
            "1.4549245680157146\n",
            "4.028684365808182\n",
            "2.077857564336493\n",
            "1.9303379687515587\n"
          ]
        }
      ],
      "source": [
        "for i in range(6):\n",
        "    print(pred(Bob, i, kNN_users=[user3, user4]))"
      ]
    },
    {
      "cell_type": "markdown",
      "metadata": {
        "id": "2TmblW1pSvSc"
      },
      "source": [
        "# Item-based Collaborative Filtering"
      ]
    },
    {
      "cell_type": "code",
      "execution_count": 134,
      "metadata": {
        "id": "tw4G9xNUKpBW"
      },
      "outputs": [],
      "source": [
        "def sim_items(i, j):\n",
        "    I_i = np.where(i !=0)[0]\n",
        "    I_j = np.where(j !=0)[0]\n",
        "    r_i_bar = np.mean(i[I_i])\n",
        "    r_j_bar = np.mean(j[I_j])\n",
        "    I = np.where(i * j != 0)[0]\n",
        "    i = i[I] - r_i_bar\n",
        "    j = j[I] - r_j_bar\n",
        "    similarity = np.dot(i, j)/(LA.norm(i) * LA.norm(j))\n",
        "    return similarity"
      ]
    },
    {
      "cell_type": "code",
      "execution_count": 137,
      "metadata": {
        "colab": {
          "base_uri": "https://localhost:8080/"
        },
        "id": "DaS78X2VKo-2",
        "outputId": "e0fec07d-3221-412a-a177-e829ceac0633"
      },
      "outputs": [
        {
          "data": {
            "text/plain": [
              "array([[3, 3, 3, 2, 5, 2],\n",
              "       [1, 3, 2, 3, 2, 2],\n",
              "       [2, 4, 1, 3, 3, 2],\n",
              "       [3, 3, 5, 4, 4, 3],\n",
              "       [3, 3, 4, 1, 0, 0],\n",
              "       [2, 2, 1, 4, 0, 0]])"
            ]
          },
          "execution_count": 137,
          "metadata": {},
          "output_type": "execute_result"
        }
      ],
      "source": [
        "users = np.array([[3, 1, 2, 3, 3, 2], \n",
        "                  [3, 3, 4, 3, 3, 2],\n",
        "                  [3, 2, 1, 5, 4, 1],\n",
        "                  [2, 3, 3, 4, 1, 4], \n",
        "                  [5, 2, 3, 4, 0, 0], \n",
        "                  [2, 2, 2, 3, 0, 0]])\n",
        "items = users.T\n",
        "Alice = users[0]\n",
        "Bob = users[1]\n",
        "user1 = users[2]\n",
        "user2 = users[3]\n",
        "user3 = users[4]\n",
        "user4 = users[5]\n",
        "\n",
        "items"
      ]
    },
    {
      "cell_type": "code",
      "execution_count": 140,
      "metadata": {
        "colab": {
          "base_uri": "https://localhost:8080/"
        },
        "id": "M8bXd02UHtyj",
        "outputId": "414071ba-7c53-4ad0-bd27-14942c50f2a0"
      },
      "outputs": [
        {
          "name": "stdout",
          "output_type": "stream",
          "text": [
            "Similarity of item 0 to item 4 with Alice: 0.8029550685469661 \n",
            "\n",
            "Similarity of item 1 to item 4 with Alice: -0.48177304112817965 \n",
            "\n",
            "Similarity of item 2 to item 4 with Alice: -0.512989176042577 \n",
            "\n",
            "Similarity of item 3 to item 4 with Alice: 0.20647416048350553 \n",
            "\n"
          ]
        }
      ],
      "source": [
        "for i in range(4):\n",
        "    print(f\"Similarity of item {i} to item 4 with Alice: {sim_items(items[4], items[i])} \\n\")"
      ]
    },
    {
      "cell_type": "code",
      "execution_count": 141,
      "metadata": {
        "colab": {
          "base_uri": "https://localhost:8080/"
        },
        "id": "bicpCnKuYYqX",
        "outputId": "a7c60f66-24aa-4634-b34a-bdffa948f2e1"
      },
      "outputs": [
        {
          "name": "stdout",
          "output_type": "stream",
          "text": [
            "Similarity of item 0 to item 5 with Alice: -0.8029550685469661 \n",
            "\n",
            "Similarity of item 1 to item 5 with Alice: 0.48177304112817965 \n",
            "\n",
            "Similarity of item 2 to item 5 with Alice: 0.512989176042577 \n",
            "\n",
            "Similarity of item 3 to item 5 with Alice: -0.20647416048350553 \n",
            "\n"
          ]
        }
      ],
      "source": [
        "for i in range(4):\n",
        "    print(f\"Similarity of item {i} to item 5 with Alice: {sim_items(items[5], items[i])} \\n\")"
      ]
    },
    {
      "cell_type": "code",
      "execution_count": 143,
      "metadata": {
        "id": "WsmBEorDnVg5"
      },
      "outputs": [],
      "source": [
        "def pred_item(i, x, kNN_items):\n",
        "    '''\n",
        "    x: user\n",
        "    i: item\n",
        "    kNN_items: k nearest neighbors to x\n",
        "    returns: prediction value of recommending item i to the user x\n",
        "    '''\n",
        "    a = sum([sim_items(i, j) * (j[x] - np.mean(j)) for j in kNN_items])\n",
        "    b = sum([sim_items(i, j) for j in kNN_items])\n",
        "    I = np.where(i != 0)[0]\n",
        "    i = i[I]\n",
        "    prediction = np.mean(i) + a/b\n",
        "    return prediction"
      ]
    },
    {
      "cell_type": "code",
      "execution_count": 144,
      "metadata": {
        "colab": {
          "base_uri": "https://localhost:8080/"
        },
        "id": "nDoB1aS4nedP",
        "outputId": "723e79b5-a250-4503-9a5a-4c96354e9f01"
      },
      "outputs": [
        {
          "data": {
            "text/plain": [
              "(4.409090909090909, 2.4271268330513465)"
            ]
          },
          "execution_count": 144,
          "metadata": {},
          "output_type": "execute_result"
        }
      ],
      "source": [
        "# Alice\n",
        "pred_item(items[4], 4, kNN_items=[items[0], items[3]]), \\\n",
        "pred_item(items[5], 4, kNN_items=[items[1], items[2]])"
      ]
    },
    {
      "cell_type": "code",
      "execution_count": 145,
      "metadata": {
        "colab": {
          "base_uri": "https://localhost:8080/"
        },
        "id": "NDN9c_x-yXii",
        "outputId": "0cae2ca2-2db3-4f80-a549-ee548e9567ff"
      },
      "outputs": [
        {
          "data": {
            "text/plain": [
              "(1.8181818181818181, 1.9114365834743268)"
            ]
          },
          "execution_count": 145,
          "metadata": {},
          "output_type": "execute_result"
        }
      ],
      "source": [
        "# Bob\n",
        "pred_item(items[4], 5, kNN_items=[items[0], items[3]]), \\\n",
        "pred_item(items[5], 5, kNN_items=[items[1], items[2]])"
      ]
    }
  ],
  "metadata": {
    "colab": {
      "collapsed_sections": [
        "4qMfDYSAYjFI",
        "l8U82GA3YjFJ",
        "rAAnY9APYjFJ",
        "6Gv7UljGYjFK",
        "Uxm4e7kUYjFM",
        "gLLPrbVXYjFM",
        "LYBnQhynYjFN",
        "OYKzthvnYjFN",
        "JwmPljcYYjFN",
        "-5SK4L_yYjFO",
        "LLzrBWiFYjFO"
      ],
      "name": "Learning Formulas.ipynb",
      "provenance": []
    },
    "kernelspec": {
      "display_name": "Python 3 (ipykernel)",
      "language": "python",
      "name": "python3"
    },
    "language_info": {
      "codemirror_mode": {
        "name": "ipython",
        "version": 3
      },
      "file_extension": ".py",
      "mimetype": "text/x-python",
      "name": "python",
      "nbconvert_exporter": "python",
      "pygments_lexer": "ipython3",
      "version": "3.7.11"
    }
  },
  "nbformat": 4,
  "nbformat_minor": 0
}
