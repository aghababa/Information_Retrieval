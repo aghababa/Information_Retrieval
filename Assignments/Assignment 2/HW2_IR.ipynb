{
  "nbformat": 4,
  "nbformat_minor": 0,
  "metadata": {
    "kernelspec": {
      "display_name": "Python 3 (ipykernel)",
      "language": "python",
      "name": "python3"
    },
    "language_info": {
      "codemirror_mode": {
        "name": "ipython",
        "version": 3
      },
      "file_extension": ".py",
      "mimetype": "text/x-python",
      "name": "python",
      "nbconvert_exporter": "python",
      "pygments_lexer": "ipython3",
      "version": "3.7.11"
    },
    "colab": {
      "name": "HW2_IR.ipynb",
      "provenance": [],
      "collapsed_sections": []
    }
  },
  "cells": [
    {
      "cell_type": "code",
      "metadata": {
        "id": "ixG8uOZcl9My"
      },
      "source": [
        "import numpy as np\n",
        "import math"
      ],
      "execution_count": null,
      "outputs": []
    },
    {
      "cell_type": "code",
      "metadata": {
        "id": "IQEOEOgt2_pk"
      },
      "source": [
        "def relevance(T, alpha):\n",
        "    rel = [0] * len(T)\n",
        "    for i in range(len(T)):\n",
        "        r = [0] * len(T)\n",
        "        for k in range(len(T[0])):\n",
        "            r[k] = sum([T[j][k] for j in range(0, i)])\n",
        "        rel[i] = sum([T[i][k] * (1 - alpha)**r[k] for k in range(len(T[0]))])\n",
        "    return rel\n",
        "\n",
        "def a_nDCG(T, alpha):\n",
        "    nDCG = 0\n",
        "    r = relevance(T, alpha)\n",
        "    nDCG = sum([r[i]/math.log(i+2, 2) for i in range(len(T))])\n",
        "    return nDCG"
      ],
      "execution_count": null,
      "outputs": []
    },
    {
      "cell_type": "code",
      "metadata": {
        "colab": {
          "base_uri": "https://localhost:8080/"
        },
        "id": "33aZakpeRck7",
        "outputId": "8e028d22-997d-4bbd-e605-4d9ec0cb693c"
      },
      "source": [
        "import itertools\n",
        "\n",
        "alpha = 0.5\n",
        "aiDCG_list = []\n",
        "for perm in list(itertools.permutations(np.arange(len(d)))):\n",
        "    T = d[list(perm)]\n",
        "    aiDCG_list.append(a_nDCG(T, alpha))\n",
        "print(\"a-iDCG:\", max(aiDCG_list))"
      ],
      "execution_count": null,
      "outputs": [
        {
          "output_type": "stream",
          "name": "stdout",
          "text": [
            "a-iDCG: 6.389375864773976\n"
          ]
        }
      ]
    },
    {
      "cell_type": "code",
      "metadata": {
        "colab": {
          "base_uri": "https://localhost:8080/"
        },
        "id": "OK7PgTSp2_MJ",
        "outputId": "af7c357d-f85b-453b-bb37-8fa6cc7a4d1e"
      },
      "source": [
        "d = np.array([[0,0,0,1,0,0],\n",
        "     [0,0,0,0,0,0],\n",
        "     [0,1,1,0,1,0],\n",
        "     [0,0,0,0,0,0],\n",
        "     [1,0,0,0,0,1],\n",
        "     [1,0,0,0,0,0],\n",
        "     [0,0,0,0,0,0],\n",
        "     [1,1,0,1,0,1]])\n",
        "\n",
        "T1 = [d[0], d[4], d[2], d[3], d[1], d[5], d[6], d[7]]\n",
        "T2 = [d[0], d[4], d[7], d[3], d[6], d[5], d[1], d[2]]\n",
        "\n",
        "a_nDCG(T1, 0.5), a_nDCG(T2, 0.5), a_nDCG(T1, 0.5)/max(aiDCG_list), a_nDCG(T2, 0.5)/max(aiDCG_list)"
      ],
      "execution_count": null,
      "outputs": [
        {
          "output_type": "execute_result",
          "data": {
            "text/plain": [
              "(4.492026635071951, 4.3895734958842425, 0.7030462333320339, 0.6870113120257831)"
            ]
          },
          "metadata": {},
          "execution_count": 18
        }
      ]
    },
    {
      "cell_type": "code",
      "metadata": {
        "colab": {
          "base_uri": "https://localhost:8080/"
        },
        "id": "IpRM7hQKTa_Z",
        "outputId": "1b10b6b3-9b46-45ae-f515-6778258ed8b6"
      },
      "source": [
        "import itertools\n",
        "\n",
        "alpha = 0\n",
        "iDCG_list = []\n",
        "for perm in list(itertools.permutations(np.arange(len(d)))):\n",
        "    T = d[list(perm)]\n",
        "    iDCG_list.append(a_nDCG(T, alpha))\n",
        "print(\"iDCG:\", max(iDCG_list))"
      ],
      "execution_count": null,
      "outputs": [
        {
          "output_type": "stream",
          "name": "stdout",
          "text": [
            "iDCG: 7.710318626022307\n"
          ]
        }
      ]
    },
    {
      "cell_type": "code",
      "metadata": {
        "colab": {
          "base_uri": "https://localhost:8080/"
        },
        "id": "FyfvqjqWkEfM",
        "outputId": "7348c1dc-75ae-4655-bf0c-037105a8c733"
      },
      "source": [
        "a_nDCG(T1, 0), a_nDCG(T2, 0), a_nDCG(T1, 0)/max(iDCG_list), a_nDCG(T2, 0)/max(iDCG_list)"
      ],
      "execution_count": null,
      "outputs": [
        {
          "output_type": "execute_result",
          "data": {
            "text/plain": [
              "(5.379926201393851, 5.564461324608122, 0.6977566638084985, 0.7216901913531925)"
            ]
          },
          "metadata": {},
          "execution_count": 17
        }
      ]
    }
  ]
}