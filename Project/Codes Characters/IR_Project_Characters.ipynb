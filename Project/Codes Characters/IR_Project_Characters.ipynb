{
  "nbformat": 4,
  "nbformat_minor": 0,
  "metadata": {
    "colab": {
      "name": "IR_Project_characters.ipynb",
      "provenance": [],
      "collapsed_sections": [
        "ubAIAs89PJw8",
        "AfbIPquYs0B0",
        "FvCrw-XVT1mL",
        "fbVNMAwhZmAV",
        "Y1IjMDNXWl-g",
        "prEAqI933_SS",
        "v9BAgZgze_Ms"
      ]
    },
    "kernelspec": {
      "name": "python3",
      "display_name": "Python 3"
    },
    "language_info": {
      "name": "python"
    }
  },
  "cells": [
    {
      "cell_type": "code",
      "metadata": {
        "id": "YlTyxo7OwZxt"
      },
      "source": [
        "#pip install tslearn"
      ],
      "execution_count": null,
      "outputs": []
    },
    {
      "cell_type": "code",
      "metadata": {
        "id": "MZH7NCEv48Qg"
      },
      "source": [
        "import glob\n",
        "import numpy as np \n",
        "import time\n",
        "import math\n",
        "import random\n",
        "from scipy import linalg as LA\n",
        "import pandas as pd\n",
        "import matplotlib as mpl\n",
        "import matplotlib.pyplot as plt\n",
        "from termcolor import colored\n",
        "import csv\n",
        "import scipy.io\n",
        "#import tslearn\n",
        "#from tslearn.metrics import dtw"
      ],
      "execution_count": 95,
      "outputs": []
    },
    {
      "cell_type": "code",
      "metadata": {
        "colab": {
          "base_uri": "https://localhost:8080/"
        },
        "id": "pXSk-bXx5CAi",
        "outputId": "160e975e-b715-4531-f359-1c44f3016c03"
      },
      "source": [
        "from google.colab import drive\n",
        "drive.mount(\"/content/gdrive\")"
      ],
      "execution_count": 96,
      "outputs": [
        {
          "output_type": "stream",
          "name": "stdout",
          "text": [
            "Drive already mounted at /content/gdrive; to attempt to forcibly remount, call drive.mount(\"/content/gdrive\", force_remount=True).\n"
          ]
        }
      ]
    },
    {
      "cell_type": "markdown",
      "metadata": {
        "id": "pVX9IslfJ3Ru"
      },
      "source": [
        "# Reading and preprocessing data"
      ]
    },
    {
      "cell_type": "code",
      "metadata": {
        "id": "_1DBswla5aSq"
      },
      "source": [
        "mat = scipy.io.loadmat('/content/gdrive/My Drive/Research/Characters/mixoutALL_shifted.mat')"
      ],
      "execution_count": 97,
      "outputs": []
    },
    {
      "cell_type": "code",
      "metadata": {
        "colab": {
          "base_uri": "https://localhost:8080/"
        },
        "id": "j50vupLyyU6M",
        "outputId": "ec385d4c-547c-4ba6-aad6-3bd87fe98b89"
      },
      "source": [
        "labels = mat['consts'][0][0][4][0]\n",
        "labels"
      ],
      "execution_count": 98,
      "outputs": [
        {
          "output_type": "execute_result",
          "data": {
            "text/plain": [
              "array([ 1,  1,  1, ..., 20, 20, 20], dtype=uint8)"
            ]
          },
          "metadata": {},
          "execution_count": 98
        }
      ]
    },
    {
      "cell_type": "code",
      "metadata": {
        "id": "3mi8qJS748Ql",
        "colab": {
          "base_uri": "https://localhost:8080/"
        },
        "outputId": "be414044-cf63-40c0-aa89-76124726bd61"
      },
      "source": [
        "data = [0] * len(mat['mixout'][0])\n",
        "for j in range(len(data)):\n",
        "    data[j] = [0] * len(mat['mixout'][0][j][0])\n",
        "    data[j][0] = np.zeros(2)\n",
        "    for i in range(1, len(mat['mixout'][0][j][0])):\n",
        "        data[j][i] = data[j][i-1] + mat['mixout'][0][j][:2, i]\n",
        "    data[j] = np.array(data[j])\n",
        "        \n",
        "data = np.array(data, dtype=object)\n",
        "data.shape"
      ],
      "execution_count": 99,
      "outputs": [
        {
          "output_type": "execute_result",
          "data": {
            "text/plain": [
              "(2858,)"
            ]
          },
          "metadata": {},
          "execution_count": 99
        }
      ]
    },
    {
      "cell_type": "code",
      "metadata": {
        "id": "Fn51ycL3iecr"
      },
      "source": [
        "np.random.seed(10)\n",
        "I = np.random.permutation(len(data))[:300]\n",
        "data = data[I]"
      ],
      "execution_count": 100,
      "outputs": []
    },
    {
      "cell_type": "code",
      "metadata": {
        "colab": {
          "base_uri": "https://localhost:8080/"
        },
        "id": "H9UZ65xutraI",
        "outputId": "f720a81a-b7d4-4be0-f7c6-096b19f9f188"
      },
      "source": [
        "I"
      ],
      "execution_count": 101,
      "outputs": [
        {
          "output_type": "execute_result",
          "data": {
            "text/plain": [
              "array([ 174,  449,  778,  543,   29, 1942, 2098, 2669, 2040, 2716, 2499,\n",
              "       2537, 2154, 2288, 2749, 1361, 1264, 1161,   25, 1724,  148, 2142,\n",
              "       2774,  855, 1206, 1935, 2300,  755, 2250, 1094, 2282, 1985,  854,\n",
              "       2235, 2706,  437,  264, 1352, 2579, 1559, 1144,  775,  263,  934,\n",
              "       1400,  101,  887, 2540, 1869, 1451, 1745, 1708, 2375, 1122, 1769,\n",
              "       2464, 2448, 2143, 1567, 2071, 2592,  621, 1822,  539,  528,  729,\n",
              "       2101, 1179, 2790, 1511, 1529, 1506, 1249, 2238,  353,  230, 1631,\n",
              "         37, 1059, 1132, 2077, 2004,  311, 1292,  210, 2772, 1145, 2616,\n",
              "       1695, 1357,  510, 1101, 1051,  484,  764, 2713, 2123,  822, 1356,\n",
              "        579,  379,  839, 2211, 2019,  701, 2161, 1620, 2536, 1592, 1734,\n",
              "        592,  948, 1175,  945, 2436, 1593, 2029, 2738, 1893,  828, 1358,\n",
              "         95, 1588, 2387,  492, 1775, 2595,   85, 1035,  219, 1933, 2153,\n",
              "       1068, 1485, 1036, 1947, 1719, 1680, 1850, 1141, 2186, 2139, 2259,\n",
              "       1167, 1845,  604,  731,  196,  235, 2744,  707,  908, 1297, 1065,\n",
              "       2730, 1771,  961, 1432, 1837, 1951, 2150, 1475, 2121, 2573, 2617,\n",
              "       1610, 1370,  588, 2844,  275, 1090, 1923, 2662, 1600, 1029, 1129,\n",
              "       2476, 1163,  110, 2353,  781, 2220, 1890,   28,  147,  212, 2321,\n",
              "       2555, 1561,  359,  853,  183, 2417, 2049, 1518,  216,   57,  628,\n",
              "        613, 2799,  176, 2794, 1653,  404, 1682, 2236,   90, 1493,  761,\n",
              "       1404, 1977, 1442, 1693, 2671,  736, 1628, 2773,  241, 2406, 1523,\n",
              "       2487, 1673, 1812, 2257, 1207,  365, 1213, 1256, 1625, 1703, 2180,\n",
              "       1189, 2147, 1461, 1363, 2807, 2061, 2237,  831,   68, 1749, 1684,\n",
              "       1569, 2349,  912,  794,  329, 2768, 2333,   81, 2299, 1779, 2648,\n",
              "        326,  871, 1082, 1209,   64,  609,  684,  703,   27, 2676,  134,\n",
              "        862, 2664, 2291,  857,  895, 2072, 1556,   16, 1394, 1521, 2179,\n",
              "       1907,  695, 2156, 2165, 2324, 1337, 1911,  773, 2834,  795,  582,\n",
              "       1579, 1427, 1150, 2128, 1060, 2125, 1276,  454,  719, 1501, 2089,\n",
              "        869, 2511, 1199])"
            ]
          },
          "metadata": {},
          "execution_count": 101
        }
      ]
    },
    {
      "cell_type": "markdown",
      "metadata": {
        "id": "prEAqI933_SS"
      },
      "source": [
        "# DTW distances"
      ]
    },
    {
      "cell_type": "code",
      "metadata": {
        "id": "3XeX95gcshth"
      },
      "source": [
        "def calculate_dists_dtw_tslearn(data, path): \n",
        "    start_time = time.time() \n",
        "    n = len(data)\n",
        "    A = []\n",
        "    for i in range(n-1):\n",
        "        for j in range(i+1, n):\n",
        "            A.append(tslearn.metrics.dtw(data[i], data[j]))\n",
        "    A = np.array(A)\n",
        "    tri = np.zeros((n, n))\n",
        "    tri[np.triu_indices(n, 1)] = A\n",
        "    for i in range(1, n):\n",
        "        for j in range(i):\n",
        "            tri[i][j] = tri[j][i]\n",
        "    np.savetxt(path, tri, delimiter=',')\n",
        "\n",
        "    total_time = time.time() - start_time\n",
        "    return total_time"
      ],
      "execution_count": 8,
      "outputs": []
    },
    {
      "cell_type": "code",
      "metadata": {
        "id": "_WFrB24k9Qqy"
      },
      "source": [
        "path = '/content/gdrive/My Drive/IR Project/Characters/'"
      ],
      "execution_count": 102,
      "outputs": []
    },
    {
      "cell_type": "code",
      "metadata": {
        "id": "1MreFyXBuAnC"
      },
      "source": [
        "# Run just for once\n",
        "#calculate_dists_dtw_tslearn(data, path=path+'dtw-characters.csv')"
      ],
      "execution_count": 103,
      "outputs": []
    },
    {
      "cell_type": "code",
      "metadata": {
        "colab": {
          "base_uri": "https://localhost:8080/",
          "height": 206
        },
        "id": "c699Y9L9xTmL",
        "outputId": "a8fa442c-869d-4f10-c88c-0967b9b1213e"
      },
      "source": [
        "dists_dtw = np.array(pd.read_csv(path+'dtw-characters.csv', header=None))\n",
        "dists_df = pd.read_csv(path+'dtw-characters.csv', header=None)\n",
        "#dists[:5, :5]\n",
        "dists_df.head()[[0,1,2,3,4,5,6,7,8,9]]"
      ],
      "execution_count": 104,
      "outputs": [
        {
          "output_type": "execute_result",
          "data": {
            "text/html": [
              "<div>\n",
              "<style scoped>\n",
              "    .dataframe tbody tr th:only-of-type {\n",
              "        vertical-align: middle;\n",
              "    }\n",
              "\n",
              "    .dataframe tbody tr th {\n",
              "        vertical-align: top;\n",
              "    }\n",
              "\n",
              "    .dataframe thead th {\n",
              "        text-align: right;\n",
              "    }\n",
              "</style>\n",
              "<table border=\"1\" class=\"dataframe\">\n",
              "  <thead>\n",
              "    <tr style=\"text-align: right;\">\n",
              "      <th></th>\n",
              "      <th>0</th>\n",
              "      <th>1</th>\n",
              "      <th>2</th>\n",
              "      <th>3</th>\n",
              "      <th>4</th>\n",
              "      <th>5</th>\n",
              "      <th>6</th>\n",
              "      <th>7</th>\n",
              "      <th>8</th>\n",
              "      <th>9</th>\n",
              "    </tr>\n",
              "  </thead>\n",
              "  <tbody>\n",
              "    <tr>\n",
              "      <th>0</th>\n",
              "      <td>0.000000</td>\n",
              "      <td>73.217389</td>\n",
              "      <td>70.737265</td>\n",
              "      <td>105.108616</td>\n",
              "      <td>85.428258</td>\n",
              "      <td>75.122541</td>\n",
              "      <td>85.666920</td>\n",
              "      <td>106.827505</td>\n",
              "      <td>106.043748</td>\n",
              "      <td>84.374732</td>\n",
              "    </tr>\n",
              "    <tr>\n",
              "      <th>1</th>\n",
              "      <td>73.217389</td>\n",
              "      <td>0.000000</td>\n",
              "      <td>50.492406</td>\n",
              "      <td>31.401462</td>\n",
              "      <td>34.971335</td>\n",
              "      <td>49.513084</td>\n",
              "      <td>41.827890</td>\n",
              "      <td>55.573685</td>\n",
              "      <td>33.748713</td>\n",
              "      <td>27.762267</td>\n",
              "    </tr>\n",
              "    <tr>\n",
              "      <th>2</th>\n",
              "      <td>70.737265</td>\n",
              "      <td>50.492406</td>\n",
              "      <td>0.000000</td>\n",
              "      <td>63.140881</td>\n",
              "      <td>38.499044</td>\n",
              "      <td>36.876185</td>\n",
              "      <td>30.871332</td>\n",
              "      <td>40.029573</td>\n",
              "      <td>63.922013</td>\n",
              "      <td>39.504046</td>\n",
              "    </tr>\n",
              "    <tr>\n",
              "      <th>3</th>\n",
              "      <td>105.108616</td>\n",
              "      <td>31.401462</td>\n",
              "      <td>63.140881</td>\n",
              "      <td>0.000000</td>\n",
              "      <td>40.013779</td>\n",
              "      <td>64.026406</td>\n",
              "      <td>48.592620</td>\n",
              "      <td>52.143227</td>\n",
              "      <td>14.000957</td>\n",
              "      <td>34.277480</td>\n",
              "    </tr>\n",
              "    <tr>\n",
              "      <th>4</th>\n",
              "      <td>85.428258</td>\n",
              "      <td>34.971335</td>\n",
              "      <td>38.499044</td>\n",
              "      <td>40.013779</td>\n",
              "      <td>0.000000</td>\n",
              "      <td>34.251575</td>\n",
              "      <td>28.390781</td>\n",
              "      <td>33.562414</td>\n",
              "      <td>42.144397</td>\n",
              "      <td>32.077731</td>\n",
              "    </tr>\n",
              "  </tbody>\n",
              "</table>\n",
              "</div>"
            ],
            "text/plain": [
              "            0          1          2  ...           7           8          9\n",
              "0    0.000000  73.217389  70.737265  ...  106.827505  106.043748  84.374732\n",
              "1   73.217389   0.000000  50.492406  ...   55.573685   33.748713  27.762267\n",
              "2   70.737265  50.492406   0.000000  ...   40.029573   63.922013  39.504046\n",
              "3  105.108616  31.401462  63.140881  ...   52.143227   14.000957  34.277480\n",
              "4   85.428258  34.971335  38.499044  ...   33.562414   42.144397  32.077731\n",
              "\n",
              "[5 rows x 10 columns]"
            ]
          },
          "metadata": {},
          "execution_count": 104
        }
      ]
    },
    {
      "cell_type": "code",
      "metadata": {
        "colab": {
          "base_uri": "https://localhost:8080/"
        },
        "id": "q4OT_5ffI0xG",
        "outputId": "6b3e02c0-77ef-4304-f115-665eaeb2fe88"
      },
      "source": [
        "dists_dtw.shape"
      ],
      "execution_count": 105,
      "outputs": [
        {
          "output_type": "execute_result",
          "data": {
            "text/plain": [
              "(2858, 2858)"
            ]
          },
          "metadata": {},
          "execution_count": 105
        }
      ]
    },
    {
      "cell_type": "code",
      "metadata": {
        "id": "_yaS-zgiaJle"
      },
      "source": [
        "ranked_inverted_index_dtw = np.argsort(dists_dtw, 1)"
      ],
      "execution_count": 106,
      "outputs": []
    },
    {
      "cell_type": "code",
      "metadata": {
        "id": "53pmOjJkb5nR"
      },
      "source": [
        "#np.savetxt(path+'ranked_inverted_index_dtw.csv', ranked_inverted_index_dtw, delimiter=',')"
      ],
      "execution_count": 107,
      "outputs": []
    },
    {
      "cell_type": "code",
      "metadata": {
        "colab": {
          "base_uri": "https://localhost:8080/"
        },
        "id": "WNtplSWecJan",
        "outputId": "5cb39e19-521f-48b4-e8de-ec366447b819"
      },
      "source": [
        "ranks_dtw = np.vectorize(int)(np.array(pd.read_csv(path+'ranked_inverted_index_dtw.csv', header=None)))\n",
        "ranks_dtw"
      ],
      "execution_count": 108,
      "outputs": [
        {
          "output_type": "execute_result",
          "data": {
            "text/plain": [
              "array([[   0,   22,   73, ..., 1337, 1336, 2710],\n",
              "       [   1,   12,    9, ..., 1337, 2710, 2095],\n",
              "       [   2,   49,   13, ..., 1336, 2710, 2095],\n",
              "       ...,\n",
              "       [2855, 2845, 2854, ..., 1336, 1337, 2710],\n",
              "       [2856, 1352, 2833, ..., 1336, 1337, 2710],\n",
              "       [2857, 2844, 2849, ..., 1336, 1337, 2710]])"
            ]
          },
          "metadata": {},
          "execution_count": 108
        }
      ]
    },
    {
      "cell_type": "code",
      "metadata": {
        "colab": {
          "base_uri": "https://localhost:8080/"
        },
        "id": "-nifSrMuirJ8",
        "outputId": "801b6b1a-6c9c-47f9-8511-99c6d8ef529c"
      },
      "source": [
        "dists_dtw = dists_dtw[I][:,I]\n",
        "dists_dtw.shape"
      ],
      "execution_count": 109,
      "outputs": [
        {
          "output_type": "execute_result",
          "data": {
            "text/plain": [
              "(300, 300)"
            ]
          },
          "metadata": {},
          "execution_count": 109
        }
      ]
    },
    {
      "cell_type": "code",
      "metadata": {
        "colab": {
          "base_uri": "https://localhost:8080/"
        },
        "id": "ztz01SURjYUW",
        "outputId": "d854d29f-e8b8-40de-8834-1ae28d3045fa"
      },
      "source": [
        "ranks_dtw = ranks_dtw[I][:, I]\n",
        "ranks_dtw.shape"
      ],
      "execution_count": 110,
      "outputs": [
        {
          "output_type": "execute_result",
          "data": {
            "text/plain": [
              "(300, 300)"
            ]
          },
          "metadata": {},
          "execution_count": 110
        }
      ]
    },
    {
      "cell_type": "markdown",
      "metadata": {
        "id": "3QDO5FcsY8Ax"
      },
      "source": [
        "# Vectorizing trajectories"
      ]
    },
    {
      "cell_type": "markdown",
      "metadata": {
        "id": "HNNAYApufH5o"
      },
      "source": [
        "## Functions"
      ]
    },
    {
      "cell_type": "code",
      "metadata": {
        "id": "E4Q4gb9hiv8Y"
      },
      "source": [
        "n_x_grids = 50\n",
        "n_y_grids = 50\n",
        "path = '/content/gdrive/My Drive/IR Project/Characters/'\n",
        "sigma_coeff = 3\n",
        "M = len(data)\n",
        "reduction_dim = 25\n",
        "option= 'binary' #'multipass'\n",
        "max_limit = 50"
      ],
      "execution_count": 111,
      "outputs": []
    },
    {
      "cell_type": "code",
      "metadata": {
        "id": "BKVAHls23t6V"
      },
      "source": [
        "def getGridsXAndY(data, n_x_grids, n_y_grids, path=None):\n",
        "    '''\n",
        "    path = '/content/gdrive/My Drive/IR Project/Characters/'\n",
        "    return: x, y-linspaces in the rectangle (x_min, y_min), (x_max, y_max)\n",
        "    '''\n",
        "    x_min, y_min = np.min([np.min(data[i], axis=0) for i in range(len(data))], axis=0)\n",
        "    x_max, y_max = np.max([np.max(data[i], axis=0) for i in range(len(data))], axis=0)\n",
        "    x_margin = 0.01 * (x_max - x_min)\n",
        "    y_margin = 0.01 * (y_max - y_min)\n",
        "    x = np.linspace(x_min - x_margin, x_max + x_margin, n_x_grids+1)\n",
        "    y = np.linspace(y_min - y_margin, y_max + y_margin, n_y_grids+1)\n",
        "    if path:\n",
        "        np.savetxt(path+\"x.csv\", x.reshape(1, len(x)), delimiter=\",\")\n",
        "        np.savetxt(path+\"y.csv\", y.reshape(1, len(y)), delimiter=\",\")\n",
        "        np.savetxt(path+\"minMaxs.csv\", [x_min, y_min, x_max, y_max], delimiter=\"'\")\n",
        "    return x, y, x_min, y_min, x_max, y_max"
      ],
      "execution_count": 112,
      "outputs": []
    },
    {
      "cell_type": "code",
      "metadata": {
        "id": "okTLSYdr-VZE"
      },
      "source": [
        "x, y, x_min, y_min, x_max, y_max = getGridsXAndY(data, n_x_grids, n_y_grids, path)\n",
        "n_x_grids = len(x) - 1\n",
        "n_y_grids = len(y) - 1"
      ],
      "execution_count": 113,
      "outputs": []
    },
    {
      "cell_type": "code",
      "metadata": {
        "id": "eKjw9vCss00P"
      },
      "source": [
        "def centersSimilarityMatrix(sigma_coeff=5, path=None):\n",
        "    '''\n",
        "    Gives the similarity matrix of centers of grids using Gauusian kernel\n",
        "    '''\n",
        "    tensor = np.zeros((n_x_grids, n_y_grids, 2))\n",
        "    for i in range(n_x_grids):\n",
        "        for j in range(n_y_grids): # range(self.n_y_grids - 1, -1, -1)\n",
        "            tensor[i][j] = [(x[i]+x[i+1])/2, (y[j]+y[j+1])/2]\n",
        "    tensor = tensor.reshape(-1,2)\n",
        "    simMatrix = np.ones((len(tensor), len(tensor)))\n",
        "    sigma = sigma_coeff * ((y_max-y_min)+(x_max-x_min))/(n_x_grids + n_y_grids)\n",
        "    for i in range(len(tensor) - 1):\n",
        "        simMatrix[i][i+1:] = np.exp(-np.sum((tensor[i+1:]-tensor[i])*(tensor[i+1:]-tensor[i]), \n",
        "                                             axis=1)/sigma**2)\n",
        "    for i in range(len(tensor) - 1):\n",
        "        simMatrix[:,i][i+1:] = simMatrix[i][i+1:]\n",
        "    return simMatrix"
      ],
      "execution_count": 114,
      "outputs": []
    },
    {
      "cell_type": "code",
      "metadata": {
        "colab": {
          "base_uri": "https://localhost:8080/"
        },
        "id": "H_CGss9GdH8T",
        "outputId": "e375fc5f-f84c-473b-edef-ffd5a2bce30e"
      },
      "source": [
        "C = centersSimilarityMatrix(sigma_coeff, path=None)\n",
        "C.shape"
      ],
      "execution_count": 115,
      "outputs": [
        {
          "output_type": "execute_result",
          "data": {
            "text/plain": [
              "(2500, 2500)"
            ]
          },
          "metadata": {},
          "execution_count": 115
        }
      ]
    },
    {
      "cell_type": "code",
      "metadata": {
        "id": "uN2ILY67s0xn"
      },
      "source": [
        "def vectorizeLineSegment(LineSegment): \n",
        "    '''\n",
        "    LineSegment: of shape (2, 2); coordinates of start and end are given; [[x1, y1], [x2, y2]]\n",
        "    return: a binary vector of length n_x_grids x n_y_grids, which shows if \n",
        "            LineSegment has occured in each grid or not\n",
        "    '''\n",
        "    array = np.zeros((n_x_grids, n_y_grids))\n",
        "    p1, p2 = LineSegment\n",
        "    slope = (p2-p1)[1]/((p2-p1)[0] + 1e-10)\n",
        "    i1 = np.where(x - p1[0] < 0)[0][-1]\n",
        "    i2 = np.where(x - p2[0] < 0)[0][-1]\n",
        "    xIdxStart = min(i1, i2)\n",
        "    xIdxEnd = max(i1, i2)\n",
        "\n",
        "    if xIdxEnd != xIdxStart:\n",
        "        ''' dealing with start point of lineSegment'''\n",
        "        if i1 < i2:\n",
        "            j_start = np.where(y - p1[1] < 0)[0][-1]\n",
        "            y_val_end = slope * (x[i1+1] - p1[0]) + p1[1]\n",
        "        else:\n",
        "            j_start = np.where(y - p2[1] < 0)[0][-1]\n",
        "            y_val_end = slope * (x[i2+1] - p1[0]) + p1[1]\n",
        "        j_end = np.where(y - y_val_end < 0)[0][-1]\n",
        "        array[xIdxStart][np.arange(min(j_start, j_end), max(j_start, j_end)+1)] = 1\n",
        "\n",
        "        ''' dealing with end point of lineSegment'''\n",
        "        if i1 < i2:\n",
        "            j_end = np.where(y - p2[1] < 0)[0][-1]\n",
        "            y_val_start = slope * (x[i2] - p1[0]) + p1[1]\n",
        "        else:\n",
        "            j_end = np.where(y - p1[1] < 0)[0][-1]\n",
        "            y_val_start = slope * (x[i1] - p1[0]) + p1[1]\n",
        "        j_start = np.where(y - y_val_start < 0)[0][-1]\n",
        "        array[xIdxEnd][np.arange(min(j_start, j_end), max(j_start, j_end)+1)] = 1\n",
        "\n",
        "        ''' dealing with non-endpoints of lineSegment'''\n",
        "        for i in range(xIdxStart+1, xIdxEnd):\n",
        "            y_val_start = slope * (x[i] - p1[0]) + p1[1]\n",
        "            y_val_end = slope * (x[i+1] - p1[0]) + p1[1]\n",
        "            j_start = np.where(y - y_val_start < 0)[0][-1]\n",
        "            j_end = np.where(y - y_val_end < 0)[0][-1]\n",
        "            array[i][np.arange(min(j_start, j_end), max(j_start, j_end)+1)] = 1\n",
        "    else:\n",
        "        y_val_start = min(p1[1], p2[1])\n",
        "        y_val_end = max(p1[1], p2[1])\n",
        "        j_start = np.where(y - y_val_start < 0)[0][-1]\n",
        "        j_end = np.where(y - y_val_end < 0)[0][-1]\n",
        "        array[xIdxStart][np.arange(min(j_start, j_end), max(j_start, j_end)+1)] = 1\n",
        "    return array.reshape(n_x_grids * n_y_grids)"
      ],
      "execution_count": 116,
      "outputs": []
    },
    {
      "cell_type": "code",
      "metadata": {
        "id": "-w9MzXnlwykE"
      },
      "source": [
        "def vectorizeTrajectory(trajectory, option): # T --> T_tilda\n",
        "    '''\n",
        "    trajectory: of shape (m, 2)\n",
        "    return: a vector of length n_x_grids x n_y_grids, which shows the number \n",
        "            of occurences of trajectory in each grid\n",
        "    '''\n",
        "    A = [vectorizeLineSegment(trajectory[i:i+2]) for i in range(len(trajectory) - 1)]\n",
        "    if option == 'multipass':\n",
        "        return np.sum(A, axis=0)\n",
        "    elif option == 'binary':\n",
        "        return np.sign(np.sum(A, axis=0))\n",
        "\n",
        "\n",
        "def vectorizeData(data, option): # data --> D_tilda\n",
        "    ''' \n",
        "    vectorizes vectorizeTrajectory() over data \n",
        "    '''\n",
        "    mappedData = [vectorizeTrajectory(data[i], option) for i in range(len(data))]\n",
        "    return np.array(mappedData).T"
      ],
      "execution_count": 117,
      "outputs": []
    },
    {
      "cell_type": "code",
      "metadata": {
        "colab": {
          "base_uri": "https://localhost:8080/"
        },
        "id": "AG1xn0UYS9pk",
        "outputId": "93677c63-7a83-4574-a163-c5e8cc7965b0"
      },
      "source": [
        "start_time = time.time()\n",
        "print(\"option:\", option)\n",
        "D_tilda = vectorizeData(data, option)\n",
        "print(time.time() - start_time)"
      ],
      "execution_count": 118,
      "outputs": [
        {
          "output_type": "stream",
          "name": "stdout",
          "text": [
            "option: binary\n",
            "2.2215585708618164\n"
          ]
        }
      ]
    },
    {
      "cell_type": "code",
      "metadata": {
        "id": "r4kpzj_9c6wx"
      },
      "source": [
        "import scipy \n",
        "\n",
        "def dimReductionData(data, option, reduction_dim, path=None):\n",
        "    '''\n",
        "    Performs dimentionality reduction using SVD of similarity matrix C of centers of grids\n",
        "    path='/content/gdrive/My Drive/IR Project/'\n",
        "    '''\n",
        "    D_tilda = vectorizeData(data, option)\n",
        "    Delta, P = np.linalg.eigh(C, UPLO='L')\n",
        "    I = np.where(Delta <= 1e-15)[0]\n",
        "    Delta[I] = 0\n",
        "    Delta_0 = Delta \n",
        "    D_tilda_tilda = np.diag(np.sqrt(Delta_0)) @ P.T @ D_tilda\n",
        "    U, S, Vt = scipy.linalg.svd(D_tilda_tilda)\n",
        "    U_e = U[:, :reduction_dim] \n",
        "    if path:\n",
        "        np.savetxt(path+\"Delta_0_sqrt_\"+option+\".csv\", np.sqrt(Delta_0).reshape(1,len(Delta_0)), delimiter=',')\n",
        "        np.savetxt(path+\"Pt_\"+option+\".csv\", P.T, delimiter=',')\n",
        "        np.savetxt(path+\"U_e_\"+option+\".csv\", U_e, delimiter=',')\n",
        "    return np.sqrt(Delta_0), P.T, U_e, U_e.T @ D_tilda_tilda"
      ],
      "execution_count": 119,
      "outputs": []
    },
    {
      "cell_type": "code",
      "metadata": {
        "id": "60U0R1s5c6ob",
        "colab": {
          "base_uri": "https://localhost:8080/"
        },
        "outputId": "1a526b27-0c5e-4c54-f9cb-f0bbf9ecb064"
      },
      "source": [
        "s = time.time()\n",
        "print('option:', option)\n",
        "Delta_0_sqrt, Pt, U_e, reducedData = dimReductionData(data, option, reduction_dim, path)\n",
        "\n",
        "print(reducedData.shape)\n",
        "print(time.time() - s)"
      ],
      "execution_count": 120,
      "outputs": [
        {
          "output_type": "stream",
          "name": "stdout",
          "text": [
            "option: binary\n",
            "(25, 300)\n",
            "21.848055839538574\n"
          ]
        }
      ]
    },
    {
      "cell_type": "code",
      "metadata": {
        "id": "hjTsblxks0vZ"
      },
      "source": [
        "def gridAggregateDist(traj1, traj2, option):\n",
        "    '''\n",
        "    Calculates the Grid Aggregated Distance between two trajectories traj1 and traj2 \n",
        "    with respect to centers matrix C; normalized by the number of grids\n",
        "    '''\n",
        "    traj_1 = vectorizeTrajectory(traj1, option)\n",
        "    traj_2 = vectorizeTrajectory(traj2, option)\n",
        "    dist = ((traj_1 - traj_2).T @ Pt.T @ np.diag(Delta_0_sqrt**2) @ Pt @ (traj_1 - traj_2))\n",
        "    return np.sqrt(dist)/(n_x_grids * n_y_grids)"
      ],
      "execution_count": 121,
      "outputs": []
    },
    {
      "cell_type": "code",
      "metadata": {
        "id": "g2Ku2UtsR4_S"
      },
      "source": [
        "def gridAggregateDistVectorized(traj_vectorized, data_vectorized, option):\n",
        "    '''\n",
        "    Calculates the Grid Aggregated Distance between traj_vectorized and data_vectorized \n",
        "    (which is an array of vectorized trajectories) with respect to centers matrix C; \n",
        "    normalized by the number of grids\n",
        "    '''\n",
        "    c = np.diag(Delta_0_sqrt) @ Pt @ (data_vectorized - traj_vectorized).T\n",
        "    dists = np.sum(c * c, 0)\n",
        "    return np.sqrt(dists)/(n_x_grids * n_y_grids)"
      ],
      "execution_count": 122,
      "outputs": []
    },
    {
      "cell_type": "code",
      "metadata": {
        "id": "6jmdPAKjgnhY"
      },
      "source": [
        "def dimReducedQuery(query, option):\n",
        "    Min_x, Min_y = np.min(query, axis=0)\n",
        "    Max_x, Max_y = np.max(query, axis=0)\n",
        "    if (x[0] < Min_x and y[0] < Min_y and Max_x < x[-1] and Max_y < y[-1]):\n",
        "        T_q_tilda = vectorizeTrajectory(query, option=option) # vectorizedQuery\n",
        "        T_q_tilda_tilda = np.diag(Delta_0_sqrt) @ Pt @ T_q_tilda\n",
        "        T_q_e_tilda_tilda = U_e.T @ T_q_tilda_tilda\n",
        "        return T_q_e_tilda_tilda \n",
        "    else:\n",
        "        print(colored(f\"The query is not in the specified range of data.\\n \\\n",
        "        Please enter a query in the valid rectangular area: \\n \\\n",
        "        {[x[0], x[-1]]}x{[y[0], y[-1]]}\", \"yellow\"))\n",
        "        return"
      ],
      "execution_count": 123,
      "outputs": []
    },
    {
      "cell_type": "code",
      "metadata": {
        "colab": {
          "base_uri": "https://localhost:8080/",
          "height": 265
        },
        "id": "snHsSRrz__qF",
        "outputId": "35b67c9d-d8e4-4402-f9d1-6ca75c2000d3"
      },
      "source": [
        "for i in range(len(data)):\n",
        "    plt.plot(data[i][:,0], data[i][:,1])\n",
        "    plt.plot(x, y)\n",
        "plt.show()"
      ],
      "execution_count": 124,
      "outputs": [
        {
          "output_type": "display_data",
          "data": {
            "image/png": "[encoded data removed]",
            "text/plain": [
              "<Figure size 432x288 with 1 Axes>"
            ]
          },
          "metadata": {
            "needs_background": "light"
          }
        }
      ]
    },
    {
      "cell_type": "code",
      "metadata": {
        "id": "GwWEIaP1iMpp"
      },
      "source": [
        "def queryRankList(query, reduction_dim, option, max_limit, k=None, r=None): \n",
        "    '''\n",
        "    returns a list; the indices of the trajectories to be retrieved for the query\n",
        "    '''\n",
        "    mappedReducedQuery = dimReducedQuery(query, option=option)\n",
        "    distQueryFromReducedData = LA.norm(reducedData - mappedReducedQuery.reshape(reduction_dim,1), \n",
        "                                       axis=0) / (n_x_grids * n_y_grids)\n",
        "    distQueryFromReducedDataSortedIndices = np.argsort(distQueryFromReducedData)\n",
        "    if k:\n",
        "        return distQueryFromReducedDataSortedIndices[:k]\n",
        "    elif r:\n",
        "        idx = np.where(distQueryFromReducedData < r)[0]\n",
        "        return idx[:max_limit]\n",
        "    else:\n",
        "        print(colored(\"Please specify k or r\", \"yellow\"))\n",
        "        return"
      ],
      "execution_count": 125,
      "outputs": []
    },
    {
      "cell_type": "code",
      "metadata": {
        "id": "t0BAulKGiMmv"
      },
      "source": [
        "def dataRankedLists(data_vectorized, reducedData, option, path=None): \n",
        "    # get real dists of data points with grid aggregated distance\n",
        "    n = len(data)\n",
        "    distsData = np.zeros((n, n))\n",
        "    for j in range(n-1):\n",
        "        distsData[j][j+1:] = gridAggregateDistVectorized(data_vectorized[j], \n",
        "                                                         data_vectorized[j+1:], \n",
        "                                                         option=option)\n",
        "    distsData = distsData + distsData.T\n",
        "    distsDataArgSorts = np.argsort(distsData)\n",
        "    if path:\n",
        "        np.savetxt(path+\"distsData_\"+option+\".csv\", distsData, delimiter=\",\")\n",
        "        np.savetxt(path+\"distsDataArgSorts_\"+option+\".csv\", distsDataArgSorts, delimiter=\",\")\n",
        "\n",
        "    # get dists of data points after dim reduction\n",
        "    distsReducedData = np.zeros((n,n))\n",
        "    for j in range(n-1):\n",
        "        a = LA.norm(reducedData[j] - reducedData[j+1:], axis=1)/(n_x_grids * n_y_grids)\n",
        "        distsReducedData[j][j+1:] = a\n",
        "    distsReducedData = distsReducedData + distsReducedData.T\n",
        "    distsReducedDataArgSorts = np.argsort(distsReducedData)\n",
        "    if path:\n",
        "        np.savetxt(path+\"distsReducedData_\"+option+\".csv\", distsReducedData, delimiter=\",\")\n",
        "        np.savetxt(path+\"distsReducedDataArgSorts_\"+option+\".csv\", distsReducedDataArgSorts, delimiter=\",\")\n",
        "    return distsData, distsDataArgSorts, distsReducedData, distsReducedDataArgSorts"
      ],
      "execution_count": 126,
      "outputs": []
    },
    {
      "cell_type": "code",
      "metadata": {
        "id": "G4r184Ub7rQ4",
        "colab": {
          "base_uri": "https://localhost:8080/"
        },
        "outputId": "90e38903-de05-46f8-8f65-c1e224f30ab2"
      },
      "source": [
        "start_time = time.time()\n",
        "print('option:', option)\n",
        "distsData, distsDataArgSorts, distsReducedData, distsReducedDataArgSorts = \\\n",
        "                        dataRankedLists(D_tilda.T, reducedData.T, option, path)\n",
        "print(time.time() - start_time) "
      ],
      "execution_count": 127,
      "outputs": [
        {
          "output_type": "stream",
          "name": "stdout",
          "text": [
            "option: binary\n",
            "306.35557556152344\n"
          ]
        }
      ]
    },
    {
      "cell_type": "code",
      "metadata": {
        "colab": {
          "base_uri": "https://localhost:8080/"
        },
        "id": "w2sX5rSSedJt",
        "outputId": "77eeeb99-db5f-4bb0-ad28-090f15a064ce"
      },
      "source": [
        "sum(np.argsort(distsData[0]) != np.argsort(distsReducedData[0]))"
      ],
      "execution_count": 128,
      "outputs": [
        {
          "output_type": "execute_result",
          "data": {
            "text/plain": [
              "240"
            ]
          },
          "metadata": {},
          "execution_count": 128
        }
      ]
    },
    {
      "cell_type": "code",
      "metadata": {
        "colab": {
          "base_uri": "https://localhost:8080/"
        },
        "id": "72FMmpzYr3Yn",
        "outputId": "9fc3bfdb-8104-4312-84e1-02ce5ca27515"
      },
      "source": [
        "data_ranked_list_dtw = np.argsort(dists_dtw)\n",
        "data_ranked_list_dtw.shape"
      ],
      "execution_count": 129,
      "outputs": [
        {
          "output_type": "execute_result",
          "data": {
            "text/plain": [
              "(300, 300)"
            ]
          },
          "metadata": {},
          "execution_count": 129
        }
      ]
    },
    {
      "cell_type": "code",
      "metadata": {
        "id": "6GDsBXhN7acS"
      },
      "source": [
        "def precisionAndRecallData(data, N, max_limit, distsData, distsDataArgSorts, \n",
        "                           distsReducedData, distsReducedDataArgSorts, k=None, r=None): \n",
        "    '''\n",
        "    calculates percision and recall for all data points as well as \n",
        "    the average of percision and recall for all data @N (Note: This is not AP)\n",
        "    This function is not sensitive to k if k>=N.\n",
        "    Note: Don't give values for both k and r (one of them should be None).\n",
        "    '''\n",
        "    percision = np.zeros(len(data))\n",
        "    recall = np.zeros(len(data))\n",
        "    if (k and r):\n",
        "        for j in range(len(data)):\n",
        "            c = 0\n",
        "            for i in range(N):\n",
        "                if distsReducedDataArgSorts[j][i] in distsDataArgSorts[j][:N]:\n",
        "                    c += 1\n",
        "            percision[j] = c/N\n",
        "            recall[j] = c/N\n",
        "        percision_k = percision.copy()\n",
        "        recall_k = recall.copy()\n",
        "        for j in range(len(data)):\n",
        "            d = 0\n",
        "            idx = np.where(distsData[j] < r)[0][:min(max_limit, N)]\n",
        "            idx_red = np.where(distsReducedData[j] < r)[0][:min(max_limit, N)]\n",
        "            for i in range(len(idx_red)):\n",
        "                if idx_red[i] in idx:\n",
        "                    d += 1\n",
        "            percision[j] = d/len(idx_red)\n",
        "            recall[j] = d/len(idx)\n",
        "        return {f\"k={k}:\": [percision_k, recall_k, np.mean(percision_k), np.mean(recall_k)],\n",
        "                f\"r={r}:\": [percision, recall, np.mean(percision), np.mean(recall)]}\n",
        "    elif k:\n",
        "        for j in range(len(data)):\n",
        "            c = 0\n",
        "            for i in range(N):\n",
        "                if distsReducedDataArgSorts[j][i] in distsDataArgSorts[j][:N]:\n",
        "                    c += 1\n",
        "            percision[j] = c/N\n",
        "            recall[j] = c/N\n",
        "        return percision, recall, np.mean(percision), np.mean(recall)\n",
        "    elif r:\n",
        "        for j in range(len(data)):\n",
        "            c = 0\n",
        "            idx = np.where(distsData[j] < r)[0]\n",
        "            idx_red = np.where(distsReducedData[j] < r)[0]\n",
        "            I = np.argsort(distsData[j][idx])\n",
        "            idx = idx[I][:min(max_limit, N)]\n",
        "            J = np.argsort(distsReducedData[j][idx_red])\n",
        "            idx_red = idx_red[J][:min(max_limit, N)]\n",
        "            for i in range(len(idx_red)):\n",
        "                if idx_red[i] in idx:\n",
        "                    c += 1\n",
        "            percision[j] = c/len(idx_red)\n",
        "            recall[j] = c/len(idx)\n",
        "        return percision, recall, np.mean(percision), np.mean(recall)\n",
        "    else:\n",
        "        print(colored(\"Pleas specify the value of k or r.\", \"yellow\"))"
      ],
      "execution_count": 130,
      "outputs": []
    },
    {
      "cell_type": "markdown",
      "metadata": {
        "id": "Lh2p98tegtf-"
      },
      "source": [
        "### Average of percisions of all data points where each is used as kNN queries"
      ]
    },
    {
      "cell_type": "markdown",
      "metadata": {
        "id": "lmXe0250tHCk"
      },
      "source": [
        "With GAD as ground truth"
      ]
    },
    {
      "cell_type": "code",
      "metadata": {
        "colab": {
          "base_uri": "https://localhost:8080/"
        },
        "id": "gEx8Jxi_RuEM",
        "outputId": "2d002a8d-3345-42d9-e4f8-5d9945f5160b"
      },
      "source": [
        "# Note: for kNN queries percision and recall are the same\n",
        "print(\"option:\", option)\n",
        "percision = []\n",
        "recall = []\n",
        "mean_percision = []\n",
        "mean_recall = []\n",
        "\n",
        "for k in [5, 10, 20]:\n",
        "    a, b, c, d = precisionAndRecallData(data, N=k, max_limit=50, \n",
        "                            distsData=distsData, distsDataArgSorts=distsDataArgSorts, \n",
        "                            distsReducedData=distsReducedData, \n",
        "                            distsReducedDataArgSorts=distsReducedDataArgSorts, k=k, r=None)\n",
        "    percision.append(a)\n",
        "    recall.append(b)\n",
        "    mean_percision.append(c)\n",
        "    mean_recall.append(d)\n",
        "\n",
        "#print(colored(f\"percision: {percision}\", 'yellow'))\n",
        "#print(\"recall:\", recall)\n",
        "print(colored(f\"mean_percision: {np.array(mean_percision)}\", 'yellow'))\n",
        "print(\"mean_recall:\", np.array(mean_recall))"
      ],
      "execution_count": 131,
      "outputs": [
        {
          "output_type": "stream",
          "name": "stdout",
          "text": [
            "option: binary\n",
            "\u001b[33mmean_percision: [0.91066667 0.94       0.95383333]\u001b[0m\n",
            "mean_recall: [0.91066667 0.94       0.95383333]\n"
          ]
        }
      ]
    },
    {
      "cell_type": "code",
      "metadata": {
        "colab": {
          "base_uri": "https://localhost:8080/"
        },
        "id": "1uMNCWgnUhCz",
        "outputId": "6e362486-1acb-4288-c33f-916e6b124afe"
      },
      "source": [
        "# Note: for kNN queries percision and recall are the same\n",
        "print(\"option:\", option)\n",
        "percision = []\n",
        "recall = []\n",
        "mean_percision = []\n",
        "mean_recall = []\n",
        "\n",
        "for k in [5, 10, 20]:\n",
        "    a, b, c, d = precisionAndRecallData(data, N=k, max_limit=50,  \n",
        "                            distsData=distsData, distsDataArgSorts=distsDataArgSorts, \n",
        "                            distsReducedData=distsReducedData, \n",
        "                            distsReducedDataArgSorts=distsReducedDataArgSorts, k=k, r=None)\n",
        "    percision.append(a)\n",
        "    recall.append(b)\n",
        "    mean_percision.append(c)\n",
        "    mean_recall.append(d)\n",
        "\n",
        "#print(colored(f\"percision: {percision}\", 'yellow'))\n",
        "#print(\"recall:\", recall)\n",
        "print(colored(f\"mean_percision: {np.array(mean_percision)}\", 'yellow'))\n",
        "print(\"mean_recall:\", np.array(mean_recall))"
      ],
      "execution_count": 61,
      "outputs": [
        {
          "output_type": "stream",
          "name": "stdout",
          "text": [
            "option: multipass\n",
            "\u001b[33mmean_percision: [0.83733333 0.83033333 0.84583333]\u001b[0m\n",
            "mean_recall: [0.83733333 0.83033333 0.84583333]\n"
          ]
        }
      ]
    },
    {
      "cell_type": "markdown",
      "metadata": {
        "id": "JDIaRQ3-s7f_"
      },
      "source": [
        "With dtw as ground truth"
      ]
    },
    {
      "cell_type": "code",
      "metadata": {
        "colab": {
          "base_uri": "https://localhost:8080/"
        },
        "id": "0XumN_t4UyHd",
        "outputId": "6ebdc3f2-cb34-4cc9-94eb-ec46f4877446"
      },
      "source": [
        "np.max(dists_dtw/1e5), np.mean(dists_dtw/1e5), np.max(distsData), np.mean(distsData)"
      ],
      "execution_count": 154,
      "outputs": [
        {
          "output_type": "execute_result",
          "data": {
            "text/plain": [
              "(0.018899771820952878,\n",
              " 0.004341583874847304,\n",
              " 0.017540528196754328,\n",
              " 0.00901724674814411)"
            ]
          },
          "metadata": {},
          "execution_count": 154
        }
      ]
    },
    {
      "cell_type": "markdown",
      "metadata": {
        "id": "UQRuSs6Unu9E"
      },
      "source": [
        "dtw"
      ]
    },
    {
      "cell_type": "code",
      "metadata": {
        "colab": {
          "base_uri": "https://localhost:8080/"
        },
        "id": "WxdJqX78R2aX",
        "outputId": "c6d9f8a1-9d67-495e-8471-8143bf9f9048"
      },
      "source": [
        "# Note: for kNN queries percision and recall are the same\n",
        "print(\"option:\", option)\n",
        "percision = []\n",
        "recall = []\n",
        "mean_percision = []\n",
        "mean_recall = []\n",
        "\n",
        "for k in [5, 10, 20]:\n",
        "    a, b, c, d = precisionAndRecallData(data, N=k, max_limit=50, \n",
        "                            distsData=dists_dtw/1e5, distsDataArgSorts=data_ranked_list_dtw, \n",
        "                            distsReducedData=distsReducedData, \n",
        "                            distsReducedDataArgSorts=distsReducedDataArgSorts, k=k, r=None)\n",
        "    percision.append(a)\n",
        "    recall.append(b)\n",
        "    mean_percision.append(c)\n",
        "    mean_recall.append(d)\n",
        "\n",
        "#print(colored(f\"percision: {percision}\", 'yellow'))\n",
        "#print(\"recall:\", recall)\n",
        "print(colored(f\"mean_percision: {np.array(mean_percision)}\", 'yellow'))\n",
        "print(\"mean_recall:\", np.array(mean_recall))"
      ],
      "execution_count": 133,
      "outputs": [
        {
          "output_type": "stream",
          "name": "stdout",
          "text": [
            "option: binary\n",
            "\u001b[33mmean_percision: [0.606      0.62866667 0.61583333]\u001b[0m\n",
            "mean_recall: [0.606      0.62866667 0.61583333]\n"
          ]
        }
      ]
    },
    {
      "cell_type": "markdown",
      "metadata": {
        "id": "UeSV3j0wnxfo"
      },
      "source": [
        "dtw"
      ]
    },
    {
      "cell_type": "code",
      "metadata": {
        "colab": {
          "base_uri": "https://localhost:8080/"
        },
        "id": "yCysS-y9segs",
        "outputId": "9c7d2f22-7d67-412b-9e8a-f15a01908aaf"
      },
      "source": [
        "# Note: for kNN queries percision and recall are the same\n",
        "print(\"option:\", option)\n",
        "percision = []\n",
        "recall = []\n",
        "mean_percision = []\n",
        "mean_recall = []\n",
        "\n",
        "for k in [5, 10, 20]:\n",
        "    a, b, c, d = precisionAndRecallData(data, N=k, max_limit=50, \n",
        "                            distsData=dists_dtw/1e4, distsDataArgSorts=data_ranked_list_dtw, \n",
        "                            distsReducedData=distsReducedData, \n",
        "                            distsReducedDataArgSorts=distsReducedDataArgSorts, k=k, r=None)\n",
        "    percision.append(a)\n",
        "    recall.append(b)\n",
        "    mean_percision.append(c)\n",
        "    mean_recall.append(d)\n",
        "\n",
        "#print(colored(f\"percision: {percision}\", 'yellow'))\n",
        "#print(\"recall:\", recall)\n",
        "print(colored(f\"mean_percision: {np.array(mean_percision)}\", 'yellow'))\n",
        "print(\"mean_recall:\", np.array(mean_recall))"
      ],
      "execution_count": 67,
      "outputs": [
        {
          "output_type": "stream",
          "name": "stdout",
          "text": [
            "option: multipass\n",
            "\u001b[33mmean_percision: [0.71466667 0.693      0.63633333]\u001b[0m\n",
            "mean_recall: [0.71466667 0.693      0.63633333]\n"
          ]
        }
      ]
    },
    {
      "cell_type": "markdown",
      "metadata": {
        "id": "fE8KpOEzg_jC"
      },
      "source": [
        "### Averages of percisions and recalls of all data points where each is used as range queries"
      ]
    },
    {
      "cell_type": "code",
      "metadata": {
        "colab": {
          "base_uri": "https://localhost:8080/"
        },
        "id": "P5QDba1thmzf",
        "outputId": "d511a0f5-c49f-4130-f6d8-57056748d6bb"
      },
      "source": [
        "np.max(distsData), np.max(distsReducedData)"
      ],
      "execution_count": 134,
      "outputs": [
        {
          "output_type": "execute_result",
          "data": {
            "text/plain": [
              "(0.017540528196754328, 0.017156539508832124)"
            ]
          },
          "metadata": {},
          "execution_count": 134
        }
      ]
    },
    {
      "cell_type": "markdown",
      "metadata": {
        "id": "i3FiVGL2tm-z"
      },
      "source": [
        "With GAD as ground truth"
      ]
    },
    {
      "cell_type": "code",
      "metadata": {
        "colab": {
          "base_uri": "https://localhost:8080/"
        },
        "id": "yRAt4Ol2R4ez",
        "outputId": "b3d16554-2612-4871-9717-f1a79756d028"
      },
      "source": [
        "print(\"option:\", option)\n",
        "percision = []\n",
        "recall = []\n",
        "mean_percision = []\n",
        "mean_recall = []\n",
        "\n",
        "for r in [0.002, 0.005, 0.01]:\n",
        "    a, b, c, d = precisionAndRecallData(data, N=10, max_limit=50, \n",
        "                            distsData=distsData, distsDataArgSorts=distsDataArgSorts, \n",
        "                            distsReducedData=distsReducedData, \n",
        "                            distsReducedDataArgSorts=distsReducedDataArgSorts, k=None, r=r)\n",
        "    percision.append(a)\n",
        "    recall.append(b)\n",
        "    mean_percision.append(c)\n",
        "    mean_recall.append(d)\n",
        "\n",
        "#print(colored(f\"percision: {percision}\", 'yellow'))\n",
        "#print(\"recall:\", recall)\n",
        "print(colored(f\"mean_percision: {np.array(mean_percision)}\", 'yellow'))\n",
        "print(\"mean_recall:\", np.array(mean_recall))"
      ],
      "execution_count": 135,
      "outputs": [
        {
          "output_type": "stream",
          "name": "stdout",
          "text": [
            "option: binary\n",
            "\u001b[33mmean_percision: [0.77196164 0.83718386 0.94      ]\u001b[0m\n",
            "mean_recall: [1.    0.968 0.94 ]\n"
          ]
        }
      ]
    },
    {
      "cell_type": "code",
      "metadata": {
        "colab": {
          "base_uri": "https://localhost:8080/"
        },
        "id": "aa7IY8E1VBpA",
        "outputId": "32dc92ae-a9d6-41c4-8f43-6e321b924ad4"
      },
      "source": [
        "print(\"option:\", option)\n",
        "percision = []\n",
        "recall = []\n",
        "mean_percision = []\n",
        "mean_recall = []\n",
        "\n",
        "for r in [0.002, 0.005, 0.01]:\n",
        "    a, b, c, d = precisionAndRecallData(data, N=10, max_limit=50,\n",
        "                            distsData=distsData, distsDataArgSorts=distsDataArgSorts, \n",
        "                            distsReducedData=distsReducedData, \n",
        "                            distsReducedDataArgSorts=distsReducedDataArgSorts, k=None, r=r)\n",
        "    percision.append(a)\n",
        "    recall.append(b)\n",
        "    mean_percision.append(c)\n",
        "    mean_recall.append(d)\n",
        "\n",
        "#print(colored(f\"percision: {percision}\", 'yellow'))\n",
        "#print(\"recall:\", recall)\n",
        "print(colored(f\"mean_percision: {np.array(mean_percision)}\", 'yellow'))\n",
        "print(\"mean_recall:\", np.array(mean_recall))"
      ],
      "execution_count": 89,
      "outputs": [
        {
          "output_type": "stream",
          "name": "stdout",
          "text": [
            "option: multipass\n",
            "\u001b[33mmean_percision: [1.         0.97333333 0.81742328]\u001b[0m\n",
            "mean_recall: [1. 1. 1.]\n"
          ]
        }
      ]
    },
    {
      "cell_type": "markdown",
      "metadata": {
        "id": "ZprrIOH8tOhl"
      },
      "source": [
        " With dtw as ground truth"
      ]
    },
    {
      "cell_type": "code",
      "metadata": {
        "colab": {
          "base_uri": "https://localhost:8080/"
        },
        "id": "7-MV2gtNR54-",
        "outputId": "6d8647a3-6cb0-45eb-87cb-61a0c0fcf5b2"
      },
      "source": [
        "print(\"option:\", option)\n",
        "percision = []\n",
        "recall = []\n",
        "mean_percision = []\n",
        "mean_recall = []\n",
        "\n",
        "for r in [0.002, 0.005, 0.01]:\n",
        "    a, b, c, d = precisionAndRecallData(data, N=10, max_limit=50, \n",
        "                            distsData=dists_dtw/1e5, distsDataArgSorts=data_ranked_list_dtw, \n",
        "                            distsReducedData=distsReducedData, \n",
        "                            distsReducedDataArgSorts=distsReducedDataArgSorts, k=None, r=r)\n",
        "    percision.append(a)\n",
        "    recall.append(b)\n",
        "    mean_percision.append(c)\n",
        "    mean_recall.append(d)\n",
        "\n",
        "#print(colored(f\"percision: {percision}\", 'yellow'))\n",
        "#print(\"recall:\", recall)\n",
        "print(colored(f\"mean_percision: {np.array(mean_percision)}\", 'yellow'))\n",
        "print(\"mean_recall:\", np.array(mean_recall))"
      ],
      "execution_count": 136,
      "outputs": [
        {
          "output_type": "stream",
          "name": "stdout",
          "text": [
            "option: binary\n",
            "\u001b[33mmean_percision: [0.95335185 0.6541045  0.62866667]\u001b[0m\n",
            "mean_recall: [0.21795503 0.60048148 0.62866667]\n"
          ]
        }
      ]
    },
    {
      "cell_type": "code",
      "metadata": {
        "colab": {
          "base_uri": "https://localhost:8080/"
        },
        "id": "aJeKcCPatRJe",
        "outputId": "de66a764-3104-411c-8c84-99e2dbd6b466"
      },
      "source": [
        "print(\"option:\", option)\n",
        "percision = []\n",
        "recall = []\n",
        "mean_percision = []\n",
        "mean_recall = []\n",
        "\n",
        "for r in [0.002, 0.005, 0.01]:\n",
        "    a, b, c, d = precisionAndRecallData(data, N=10, max_limit=50, \n",
        "                            distsData=dists_dtw/1e4, distsDataArgSorts=data_ranked_list_dtw, \n",
        "                            distsReducedData=distsReducedData, \n",
        "                            distsReducedDataArgSorts=distsReducedDataArgSorts, k=None, r=r)\n",
        "    percision.append(a)\n",
        "    recall.append(b)\n",
        "    mean_percision.append(c)\n",
        "    mean_recall.append(d)\n",
        "\n",
        "#print(colored(f\"percision: {percision}\", 'yellow'))\n",
        "#print(\"recall:\", recall)\n",
        "print(colored(f\"mean_percision: {np.array(mean_percision)}\", 'yellow'))\n",
        "print(\"mean_recall:\", np.array(mean_recall))"
      ],
      "execution_count": 72,
      "outputs": [
        {
          "output_type": "stream",
          "name": "stdout",
          "text": [
            "option: multipass\n",
            "\u001b[33mmean_percision: [1.         0.99333333 0.99094444]\u001b[0m\n",
            "mean_recall: [0.99333333 0.70894841 0.31017063]\n"
          ]
        }
      ]
    },
    {
      "cell_type": "code",
      "metadata": {
        "id": "ftathFPCMmJa"
      },
      "source": [
        "def precisionAndRecallDataPoint(index, N, max_limit, distsData, distsDataArgSorts, \n",
        "                                distsReducedData, distsReducedDataArgSorts, k=None, r=None): \n",
        "    '''\n",
        "    calculates percision and recall for one data point (as a query) @ N\n",
        "    index: the index of data point\n",
        "    This function is not sensitive to k if k >= N\n",
        "    '''\n",
        "    if k:\n",
        "        c = 0\n",
        "        for i in range(N):\n",
        "            if distsReducedDataArgSorts[index][i] in distsDataArgSorts[index][:N]:\n",
        "                c += 1\n",
        "        percision = c/N\n",
        "        recall = c/N\n",
        "        return percision, recall\n",
        "    elif r:\n",
        "        c = 0\n",
        "        idx = np.where(distsData[index] < r)[0]\n",
        "        idx_red = np.where(distsReducedData[index] < r)[0]\n",
        "        I = np.argsort(distsData[index][idx])\n",
        "        idx = idx[I][:min(max_limit, N)]\n",
        "        J = np.argsort(distsReducedData[index][idx_red])\n",
        "        idx_red = idx_red[J][:min(max_limit, N)]\n",
        "        for i in range(len(idx_red)):\n",
        "            if idx_red[i] in idx:\n",
        "                c += 1\n",
        "        percision = c/len(idx_red)\n",
        "        recall = c/len(idx)\n",
        "        return percision, recall\n",
        "    else:\n",
        "        print(colored(\"Pleas specify the value of k or r.\", \"yellow\"))"
      ],
      "execution_count": 137,
      "outputs": []
    },
    {
      "cell_type": "code",
      "metadata": {
        "id": "LmXpSgnI7aZk"
      },
      "source": [
        "def averagePrecisionData(data, path, max_limit, reduction_dim, reducedData,  \n",
        "                         option, k=None, r=None, dtw=False):\n",
        "    '''\n",
        "    calculates average percision (AP) for all data points as well as \n",
        "    the average of AP on all data points as queries (i.e. MAP)\n",
        "    path='/content/gdrive/My Drive/IR Project/'\n",
        "    Note: Don't give values for both k and r (one of them should be None).\n",
        "    '''\n",
        "    if dtw:\n",
        "        distsData = dists_dtw/1e5\n",
        "        distsDataArgSorts = data_ranked_list_dtw\n",
        "    else:\n",
        "        distsData = np.array(pd.read_csv(path+\"distsData_\"+option+\".csv\", header=None))\n",
        "        distsDataArgSorts = np.array(pd.read_csv(path+\"distsDataArgSorts_\"+option+\".csv\", header=None))\n",
        "    \n",
        "    distsReducedData = np.array(pd.read_csv(path+\"distsReducedData_\"+option+\".csv\", header=None))\n",
        "    distsReducedDataArgSorts = np.array(pd.read_csv(path+\"distsReducedDataArgSorts_\"+option+\".csv\", header=None))\n",
        "    n = len(data)\n",
        "    AP = np.zeros(n)\n",
        "    if k:\n",
        "        AP_temp = np.zeros((k, n))\n",
        "        for i in range(k):\n",
        "            percision, _, _, _ = precisionAndRecallData(data, i+1, max_limit,\n",
        "                                    distsData, distsDataArgSorts, distsReducedData, \n",
        "                                    distsReducedDataArgSorts, k=k, r=r)\n",
        "            for t in range(n):\n",
        "                if distsReducedDataArgSorts[t][i] in distsDataArgSorts[t]:\n",
        "                    AP_temp[i][t] = percision[t] \n",
        "\n",
        "        AP = np.mean(AP_temp, 0)\n",
        "        MAP = np.mean(AP)\n",
        "        return AP, MAP\n",
        "    elif r:\n",
        "        for t in range(n):\n",
        "            AP_temp = []\n",
        "            s = len(queryRankList(data[t], reduction_dim, option, max_limit, k=None, r=r))\n",
        "            for i in range(s):\n",
        "                percision, _ = precisionAndRecallDataPoint(t, i+1, max_limit, \n",
        "                                distsData, distsDataArgSorts, distsReducedData, \n",
        "                                    distsReducedDataArgSorts, k=None, r=r)\n",
        "                idx = np.where(distsData[t] < r)[0]\n",
        "                idx_red = np.where(distsReducedData[t] < r)[0]\n",
        "                #\n",
        "                I = np.argsort(distsData[t][idx])\n",
        "                idx = idx[I][:min(max_limit, i+1)]\n",
        "                J = np.argsort(distsReducedData[t][idx_red])\n",
        "                idx_red = idx_red[J][:min(max_limit, i+1)]\n",
        "                if i < len(idx_red):\n",
        "                    if idx_red[i] in idx:\n",
        "                        AP_temp.append(percision)\n",
        "            AP[t] = np.sum(AP_temp)/s\n",
        "        MAP = np.mean(AP)\n",
        "        return AP, MAP"
      ],
      "execution_count": 144,
      "outputs": []
    },
    {
      "cell_type": "markdown",
      "metadata": {
        "id": "jwk7C49djxHs"
      },
      "source": [
        "### AP and MAP for kNN queries"
      ]
    },
    {
      "cell_type": "markdown",
      "metadata": {
        "id": "ullO65ldROlJ"
      },
      "source": [
        "#### binary"
      ]
    },
    {
      "cell_type": "code",
      "metadata": {
        "colab": {
          "base_uri": "https://localhost:8080/"
        },
        "id": "WKkb_OqaRL5G",
        "outputId": "204fb773-4e35-4a9f-c244-5c7ccaf8b8b8"
      },
      "source": [
        "start_time = time.time()\n",
        "print(\"option:\", option)\n",
        "AP = []\n",
        "MAP = []\n",
        "\n",
        "for k in [5, 10, 20]:\n",
        "    a, b = averagePrecisionData(data, path, max_limit, reduction_dim, \n",
        "                                reducedData, option, k=k, r=None, dtw=False)\n",
        "    AP.append(a)\n",
        "    MAP.append(b)\n",
        "\n",
        "#print(f\"AP: {np.array(AP)}\")\n",
        "print(colored(f\"MAP: {np.array(MAP)}\", 'yellow'))\n",
        "print(\"Total time:\", time.time() - start_time)"
      ],
      "execution_count": 145,
      "outputs": [
        {
          "output_type": "stream",
          "name": "stdout",
          "text": [
            "option: binary\n",
            "\u001b[33mMAP: [0.92235556 0.92840728 0.93958846]\u001b[0m\n",
            "Total time: 1.0617926120758057\n"
          ]
        }
      ]
    },
    {
      "cell_type": "markdown",
      "metadata": {
        "id": "PiQt8ZH0XF7S"
      },
      "source": [
        "dtw"
      ]
    },
    {
      "cell_type": "code",
      "metadata": {
        "colab": {
          "base_uri": "https://localhost:8080/"
        },
        "id": "9ez6BENKRL5G",
        "outputId": "b5523e70-b541-47bd-af4b-22f9c9246522"
      },
      "source": [
        "print(\"option:\", option)\n",
        "start_time = time.time()\n",
        "AP = []\n",
        "MAP = []\n",
        "\n",
        "for k in [5, 10, 20]:\n",
        "    a, b = averagePrecisionData(data, path, max_limit, reduction_dim, \n",
        "                                reducedData, option, k=k, r=None, dtw=True)\n",
        "    AP.append(a)\n",
        "    MAP.append(b)\n",
        "\n",
        "#print(f\"AP: {np.array(AP)}\")\n",
        "print(colored(f\"MAP: {np.array(MAP)}\", 'yellow'))\n",
        "print(\"Total time:\", time.time() - start_time)"
      ],
      "execution_count": 146,
      "outputs": [
        {
          "output_type": "stream",
          "name": "stdout",
          "text": [
            "option: binary\n",
            "\u001b[33mMAP: [0.69336667 0.65569815 0.64401549]\u001b[0m\n",
            "Total time: 0.8682894706726074\n"
          ]
        }
      ]
    },
    {
      "cell_type": "markdown",
      "metadata": {
        "id": "53LI7a25RSOD"
      },
      "source": [
        "#### Multipass"
      ]
    },
    {
      "cell_type": "code",
      "metadata": {
        "colab": {
          "base_uri": "https://localhost:8080/"
        },
        "id": "nnXQfnalulef",
        "outputId": "f96b3d8f-9a74-40db-c35b-4feb157090d7"
      },
      "source": [
        "start_time = time.time()\n",
        "print(\"option:\", option)\n",
        "AP = []\n",
        "MAP = []\n",
        "\n",
        "for k in [5, 10, 20]:\n",
        "    a, b = averagePrecisionData(data, path, max_limit, reduction_dim, \n",
        "                                reducedData, option, k=k, r=None, dtw=False)\n",
        "    AP.append(a)\n",
        "    MAP.append(b)\n",
        "\n",
        "#print(f\"AP: {np.array(AP)}\")\n",
        "print(colored(f\"MAP: {np.array(MAP)}\", 'yellow'))\n",
        "print(\"Total time:\", time.time() - start_time)"
      ],
      "execution_count": 77,
      "outputs": [
        {
          "output_type": "stream",
          "name": "stdout",
          "text": [
            "option: multipass\n",
            "\u001b[33mMAP: [0.88157778 0.85517341 0.84971811]\u001b[0m\n",
            "Total time: 1.0995688438415527\n"
          ]
        }
      ]
    },
    {
      "cell_type": "markdown",
      "metadata": {
        "id": "ZnLXQ7NtXK2K"
      },
      "source": [
        "dtw"
      ]
    },
    {
      "cell_type": "code",
      "metadata": {
        "colab": {
          "base_uri": "https://localhost:8080/"
        },
        "id": "sN98uizJVv6b",
        "outputId": "cd15f562-5b7a-4cc1-9c16-22ea7fc8ce00"
      },
      "source": [
        "print(\"option:\", option)\n",
        "start_time = time.time()\n",
        "AP = []\n",
        "MAP = []\n",
        "\n",
        "for k in [5, 10, 20]:\n",
        "    a, b = averagePrecisionData(data, path, max_limit, reduction_dim, \n",
        "                                reducedData, option, k=k, r=None, dtw=True)\n",
        "    AP.append(a)\n",
        "    MAP.append(b)\n",
        "\n",
        "#print(f\"AP: {np.array(AP)}\")\n",
        "print(colored(f\"MAP: {np.array(MAP)}\", 'yellow'))\n",
        "print(\"Total time:\", time.time() - start_time)"
      ],
      "execution_count": 78,
      "outputs": [
        {
          "output_type": "stream",
          "name": "stdout",
          "text": [
            "option: multipass\n",
            "\u001b[33mMAP: [0.79498889 0.74526534 0.7039571 ]\u001b[0m\n",
            "Total time: 0.9592134952545166\n"
          ]
        }
      ]
    },
    {
      "cell_type": "markdown",
      "metadata": {
        "id": "R453Ju8fj-G5"
      },
      "source": [
        "### AP and MAP for range queries"
      ]
    },
    {
      "cell_type": "markdown",
      "metadata": {
        "id": "gwednoWLRD7B"
      },
      "source": [
        "#### binary"
      ]
    },
    {
      "cell_type": "code",
      "metadata": {
        "colab": {
          "base_uri": "https://localhost:8080/"
        },
        "id": "QWZ1Mw41RD7B",
        "outputId": "c3850a24-3e2f-4da6-9b20-c7c282267e04"
      },
      "source": [
        "start_time = time.time()\n",
        "print(\"option:\", option)\n",
        "AP = []\n",
        "MAP = []\n",
        "\n",
        "for r in [0.002, 0.005, 0.01]:\n",
        "    s = time.time()\n",
        "    a, b = averagePrecisionData(data, path, max_limit, reduction_dim, \n",
        "                                reducedData, option, k=None, r=r, dtw=False)\n",
        "    AP.append(a)\n",
        "    MAP.append(b)\n",
        "    print(f\"time for {r}: {time.time() - s}\")\n",
        "    \n",
        "#print(f\"AP: {np.array(AP)}\")\n",
        "print(colored(f\"MAP: {np.array(MAP)}\", 'yellow'))\n",
        "print(time.time() - start_time)"
      ],
      "execution_count": 152,
      "outputs": [
        {
          "output_type": "stream",
          "name": "stdout",
          "text": [
            "option: binary\n",
            "time for 0.002: 288.7272415161133\n",
            "time for 0.005: 290.4938750267029\n",
            "time for 0.01: 293.78574800491333\n",
            "\u001b[33mMAP: [0.76557037 0.54504829 0.65671971]\u001b[0m\n",
            "873.0133354663849\n"
          ]
        }
      ]
    },
    {
      "cell_type": "markdown",
      "metadata": {
        "id": "NrynC3iPpLag"
      },
      "source": [
        "dtw"
      ]
    },
    {
      "cell_type": "code",
      "metadata": {
        "colab": {
          "base_uri": "https://localhost:8080/"
        },
        "id": "XpfcJgXARD7B",
        "outputId": "cee8b01b-5cb3-4672-de60-db7b84d1c57a"
      },
      "source": [
        "start_time = time.time()\n",
        "print(\"option:\", option)\n",
        "AP = []\n",
        "MAP = []\n",
        "\n",
        "for r in [0.002, 0.005, 0.01]:\n",
        "    s = time.time()\n",
        "    a, b = averagePrecisionData(data, path, max_limit, reduction_dim, \n",
        "                                reducedData, option, k=None, r=r, dtw=True)\n",
        "    AP.append(a)\n",
        "    MAP.append(b)\n",
        "    print(f\"time for {r}: {time.time() - s}\")\n",
        "    \n",
        "#print(f\"AP: {np.array(AP)}\")\n",
        "print(colored(f\"MAP: {np.array(MAP)}\", 'yellow'))\n",
        "print(time.time() - start_time)"
      ],
      "execution_count": 153,
      "outputs": [
        {
          "output_type": "stream",
          "name": "stdout",
          "text": [
            "option: binary\n",
            "time for 0.002: 289.46222972869873\n",
            "time for 0.005: 290.696076631546\n",
            "time for 0.01: 294.1274983882904\n",
            "\u001b[33mMAP: [0.79028378 0.31705136 0.2188535 ]\u001b[0m\n",
            "874.2943816184998\n"
          ]
        }
      ]
    },
    {
      "cell_type": "markdown",
      "metadata": {
        "id": "sfSxiNpWQ4Nt"
      },
      "source": [
        "#### Multipass"
      ]
    },
    {
      "cell_type": "code",
      "metadata": {
        "colab": {
          "base_uri": "https://localhost:8080/"
        },
        "id": "cLvltPio6J2Y",
        "outputId": "73c87715-58d8-478c-f9d7-e2d8a3eb012e"
      },
      "source": [
        "start_time = time.time()\n",
        "print(\"option:\", option)\n",
        "AP = []\n",
        "MAP = []\n",
        "\n",
        "for r in [0.002, 0.005, 0.01]:\n",
        "    s = time.time()\n",
        "    a, b = averagePrecisionData(data, path, max_limit, reduction_dim, \n",
        "                                reducedData, option, k=None, r=r, dtw=False)\n",
        "    AP.append(a)\n",
        "    MAP.append(b)\n",
        "    print(f\"time for {r}: {time.time() - s}\")\n",
        "    \n",
        "#print(f\"AP: {np.array(AP)}\")\n",
        "print(colored(f\"MAP: {np.array(MAP)}\", 'yellow'))\n",
        "print(time.time() - start_time)"
      ],
      "execution_count": 85,
      "outputs": [
        {
          "output_type": "stream",
          "name": "stdout",
          "text": [
            "option: multipass\n",
            "time for 0.002: 291.84781551361084\n",
            "time for 0.005: 291.030962228775\n",
            "time for 0.01: 290.595148563385\n",
            "\u001b[33mMAP: [1.         0.97333333 0.81742328]\u001b[0m\n",
            "873.4807262420654\n"
          ]
        }
      ]
    },
    {
      "cell_type": "markdown",
      "metadata": {
        "id": "Jsv3X4UOpJgw"
      },
      "source": [
        "dtw"
      ]
    },
    {
      "cell_type": "code",
      "metadata": {
        "id": "StXLhqecwQkB",
        "colab": {
          "base_uri": "https://localhost:8080/"
        },
        "outputId": "37c73361-5091-49a9-83e0-0a26bf2f8cee"
      },
      "source": [
        "start_time = time.time()\n",
        "print(\"option:\", option)\n",
        "AP = []\n",
        "MAP = []\n",
        "\n",
        "for r in [0.002, 0.005, 0.01]:\n",
        "    s = time.time()\n",
        "    a, b = averagePrecisionData(data, path, max_limit, reduction_dim, \n",
        "                                reducedData, option, k=None, r=r, dtw=True)\n",
        "    AP.append(a)\n",
        "    MAP.append(b)\n",
        "    print(f\"time for {r}: {time.time() - s}\")\n",
        "    \n",
        "#print(f\"AP: {np.array(AP)}\")\n",
        "print(colored(f\"MAP: {np.array(MAP)}\", 'yellow'))\n",
        "print(time.time() - start_time)"
      ],
      "execution_count": 86,
      "outputs": [
        {
          "output_type": "stream",
          "name": "stdout",
          "text": [
            "option: multipass\n",
            "time for 0.002: 290.7748327255249\n",
            "time for 0.005: 291.3804612159729\n",
            "time for 0.01: 291.0939803123474\n",
            "\u001b[33mMAP: [1.         0.99333333 0.92715605]\u001b[0m\n",
            "873.255045413971\n"
          ]
        }
      ]
    },
    {
      "cell_type": "markdown",
      "metadata": {
        "id": "lJdKsTEtQxOy"
      },
      "source": [
        "## nDCG"
      ]
    },
    {
      "cell_type": "code",
      "metadata": {
        "id": "TSSjAe_9iody"
      },
      "source": [
        "def nDCG(data, path, max_limit, reduction_dim, option, N, k=None, r=None, dtw=False):\n",
        "    '''\n",
        "    calculates average nDCG @N for all data points as well as \n",
        "    the average of nDCG @N on all data points as queries;\n",
        "    N should be <= k;\n",
        "    path='/content/gdrive/My Drive/IR Project/Characters/'\n",
        "    Note: Don't give values for both k and r (one of them should be None).\n",
        "    '''\n",
        "    if dtw:\n",
        "        distsData = dists_dtw/1e5\n",
        "        distsDataArgSorts = data_ranked_list_dtw\n",
        "    else:\n",
        "        distsData = np.array(pd.read_csv(path+\"distsData_\"+option+\".csv\", header=None))\n",
        "        distsDataArgSorts = np.array(pd.read_csv(path+\"distsDataArgSorts_\"+option+\".csv\", header=None))\n",
        "        \n",
        "    distsReducedData = np.array(pd.read_csv(path+\"distsReducedData_\"+option+\".csv\", header=None))\n",
        "    distsReducedDataArgSorts = np.array(pd.read_csv(path+\"distsReducedDataArgSorts_\"+option+\".csv\", header=None))\n",
        "    DCG = np.zeros(len(data))\n",
        "    if k: \n",
        "        iDCG = np.sum([(k-i)/math.log(i+2, 2) for i in range(k)])\n",
        "        for j in range(len(data)):\n",
        "            rel = np.zeros(N)\n",
        "            for i in range(N):\n",
        "                if distsReducedDataArgSorts[j][i] in distsDataArgSorts[j]:\n",
        "                    if k - distsDataArgSorts[j].tolist().index(distsReducedDataArgSorts[j][i]) > 0:\n",
        "                        rel[i] = k - distsDataArgSorts[j].tolist().index(distsReducedDataArgSorts[j][i])\n",
        "            DCG[j] = np.sum([rel[i]/math.log(i+2, 2) for i in range(N)])\n",
        "        return DCG/iDCG, np.mean(DCG/iDCG)\n",
        "    elif r:\n",
        "        relevance = list(reversed(range(1, N+1)))\n",
        "        iDCG = np.sum([relevance[i]/math.log(i+2, 2) for i in range(N)])\n",
        "        for j in range(len(data)):\n",
        "            I = np.where(distsData[j] < r)[0]\n",
        "            relevant = distsDataArgSorts[j][:len(I)]\n",
        "            J = np.where(distsReducedData[j] < r)[0]\n",
        "            retrieved = distsReducedDataArgSorts[j][:len(J)]\n",
        "            rel = np.zeros(N)\n",
        "            for i in range(N):\n",
        "                if distsReducedDataArgSorts[j][i] in distsReducedDataArgSorts[j][:len(I)]:\n",
        "                    if N - distsDataArgSorts[j].tolist().index(distsReducedDataArgSorts[j][i]) > 0:\n",
        "                        rel[i] = N - distsDataArgSorts[j].tolist().index(distsReducedDataArgSorts[j][i])\n",
        "            DCG[j] = np.sum([rel[i]/math.log(i+2, 2) for i in range(N)])\n",
        "        return DCG/iDCG, np.mean(DCG/iDCG)"
      ],
      "execution_count": 147,
      "outputs": []
    },
    {
      "cell_type": "markdown",
      "metadata": {
        "id": "ANs2C5T2Qnsh"
      },
      "source": [
        "### nDCG for binary"
      ]
    },
    {
      "cell_type": "code",
      "metadata": {
        "colab": {
          "base_uri": "https://localhost:8080/"
        },
        "id": "AUMcjby3Po_K",
        "outputId": "078c8d1e-c739-4bd7-fb4f-5f1b6ad5139a"
      },
      "source": [
        "# N <= k\n",
        "print(\"option:\", option)\n",
        "nDCGs = []\n",
        "for k in [5, 10, 20]:\n",
        "    nDCGs.append(nDCG(data, path, max_limit, reduction_dim, option, N=5, k=k, \n",
        "                      r=None, dtw=False)[1])\n",
        "print(colored(f'nDCGs: {np.array(nDCGs)}', 'yellow'))\n",
        "\n",
        "nDCGs = []\n",
        "for k in [5, 10, 20]:\n",
        "    nDCGs.append(nDCG(data, path, max_limit, reduction_dim, option, N=10, k=k, \n",
        "                      r=None, dtw=False)[1])\n",
        "print(colored(f'nDCGs: {np.array(nDCGs)}', 'yellow'))"
      ],
      "execution_count": 148,
      "outputs": [
        {
          "output_type": "stream",
          "name": "stdout",
          "text": [
            "option: binary\n",
            "\u001b[33mnDCGs: [0.96666363 0.81760178 0.60246823]\u001b[0m\n",
            "\u001b[33mnDCGs: [0.98778374 0.98377613 0.8334186 ]\u001b[0m\n"
          ]
        }
      ]
    },
    {
      "cell_type": "markdown",
      "metadata": {
        "id": "v66KUQ4Gpujl"
      },
      "source": [
        "dtw"
      ]
    },
    {
      "cell_type": "code",
      "metadata": {
        "colab": {
          "base_uri": "https://localhost:8080/"
        },
        "id": "ojAmzH5AOd2i",
        "outputId": "c0ebcb63-e598-42a5-e7b2-f0db4b4abc9d"
      },
      "source": [
        "# N <= k\n",
        "print(\"option:\", option)\n",
        "nDCGs = []\n",
        "for k in [5, 10, 20]:\n",
        "    nDCGs.append(nDCG(data, path, max_limit, reduction_dim, option, N=5, k=k, \n",
        "                      r=None, dtw=True)[1])\n",
        "print(colored(f'nDCGs: {np.array(nDCGs)}', 'yellow'))\n",
        "\n",
        "nDCGs = []\n",
        "for k in [5, 10, 20]:\n",
        "    nDCGs.append(nDCG(data, path, max_limit, reduction_dim, option, N=10, k=k, \n",
        "                      r=None, dtw=True)[1])\n",
        "print(colored(f'nDCGs: {np.array(nDCGs)}', 'yellow'))"
      ],
      "execution_count": 149,
      "outputs": [
        {
          "output_type": "stream",
          "name": "stdout",
          "text": [
            "option: binary\n",
            "\u001b[33mnDCGs: [0.77113168 0.65041226 0.5084277 ]\u001b[0m\n",
            "\u001b[33mnDCGs: [0.84881542 0.7791519  0.66391847]\u001b[0m\n"
          ]
        }
      ]
    },
    {
      "cell_type": "code",
      "metadata": {
        "colab": {
          "base_uri": "https://localhost:8080/"
        },
        "id": "u9A59IXVOd2j",
        "outputId": "5e41e09f-1723-4329-ac16-fbf33f333782"
      },
      "source": [
        "print(\"option:\", option)\n",
        "nDCGs = []\n",
        "for r in [0.002, 0.005, 0.01]:\n",
        "    nDCGs.append(nDCG(data, path, max_limit, reduction_dim, option, N=5, k=None,\n",
        "                      r=r, dtw=False)[1])\n",
        "print(colored(f'nDCGs@5: {np.array(nDCGs)}', 'yellow'))\n",
        "\n",
        "nDCGs = []\n",
        "for r in [0.002, 0.005, 0.01]:\n",
        "    nDCGs.append(nDCG(data, path, max_limit, reduction_dim, option, N=10, k=None,\n",
        "                      r=r, dtw=False)[1])\n",
        "print(colored(f'nDCGs@10: {np.array(nDCGs)}', 'yellow'))"
      ],
      "execution_count": 150,
      "outputs": [
        {
          "output_type": "stream",
          "name": "stdout",
          "text": [
            "option: binary\n",
            "\u001b[33mnDCGs@5: [0.56238751 0.9350652  0.96666363]\u001b[0m\n",
            "\u001b[33mnDCGs@10: [0.40097875 0.90668319 0.98377613]\u001b[0m\n"
          ]
        }
      ]
    },
    {
      "cell_type": "markdown",
      "metadata": {
        "id": "NXhJlcYFqCuo"
      },
      "source": [
        "dtw"
      ]
    },
    {
      "cell_type": "code",
      "metadata": {
        "colab": {
          "base_uri": "https://localhost:8080/"
        },
        "id": "AHN4Qx4JOd2j",
        "outputId": "56db0563-b0c0-4b58-878a-0f35116e2315"
      },
      "source": [
        "print(\"option:\", option)\n",
        "nDCGs = []\n",
        "for r in [0.002, 0.005, 0.01]:\n",
        "    nDCGs.append(nDCG(data, path, max_limit, reduction_dim, option, N=5, k=None,\n",
        "                      r=r, dtw=True)[1])\n",
        "print(colored(f'nDCGs@5: {np.array(nDCGs)}', 'yellow'))\n",
        "\n",
        "nDCGs = []\n",
        "for r in [0.002, 0.005, 0.01]:\n",
        "    nDCGs.append(nDCG(data, path, max_limit, reduction_dim, option, N=10, k=None,\n",
        "                      r=r, dtw=True)[1])\n",
        "print(colored(f'nDCGs@10: {np.array(nDCGs)}', 'yellow'))"
      ],
      "execution_count": 151,
      "outputs": [
        {
          "output_type": "stream",
          "name": "stdout",
          "text": [
            "option: binary\n",
            "\u001b[33mnDCGs@5: [0.76960775 0.77113168 0.77113168]\u001b[0m\n",
            "\u001b[33mnDCGs@10: [0.77461399 0.7791519  0.7791519 ]\u001b[0m\n"
          ]
        }
      ]
    },
    {
      "cell_type": "markdown",
      "metadata": {
        "id": "cdqRqbMQQa-g"
      },
      "source": [
        "### nDCG for multipass"
      ]
    },
    {
      "cell_type": "code",
      "metadata": {
        "colab": {
          "base_uri": "https://localhost:8080/"
        },
        "id": "r5ByWBPgNcQ7",
        "outputId": "1d98d6e0-e901-4ed1-bbc5-b08f12b654f2"
      },
      "source": [
        "# N <= k\n",
        "print(\"option:\", option)\n",
        "nDCGs = []\n",
        "for k in [5, 10, 20]:\n",
        "    nDCGs.append(nDCG(data, path, max_limit, reduction_dim, option, N=5, k=k, \n",
        "                      r=None, dtw=False)[1])\n",
        "print(colored(f'nDCGs: {np.array(nDCGs)}', 'yellow'))\n",
        "\n",
        "nDCGs = []\n",
        "for k in [5, 10, 20]:\n",
        "    nDCGs.append(nDCG(data, path, max_limit, reduction_dim, option, N=10, k=k, \n",
        "                      r=None, dtw=False)[1])\n",
        "print(colored(f'nDCGs: {np.array(nDCGs)}', 'yellow'))"
      ],
      "execution_count": 91,
      "outputs": [
        {
          "output_type": "stream",
          "name": "stdout",
          "text": [
            "option: multipass\n",
            "\u001b[33mnDCGs: [0.93271826 0.78335544 0.5833734 ]\u001b[0m\n",
            "\u001b[33mnDCGs: [0.96943947 0.93556659 0.78782557]\u001b[0m\n"
          ]
        }
      ]
    },
    {
      "cell_type": "markdown",
      "metadata": {
        "id": "1Bi-CHd4qTQA"
      },
      "source": [
        "dtw"
      ]
    },
    {
      "cell_type": "code",
      "metadata": {
        "colab": {
          "base_uri": "https://localhost:8080/"
        },
        "id": "DyNgA6ElYGFW",
        "outputId": "b83d4f47-478e-4334-b53b-721bbf79427f"
      },
      "source": [
        "# N <= k\n",
        "print(\"option:\", option)\n",
        "nDCGs = []\n",
        "for k in [5, 10, 20]:\n",
        "    nDCGs.append(nDCG(data, path, max_limit, reduction_dim, option, N=5, k=k, \n",
        "                      r=None, dtw=True)[1])\n",
        "print(colored(f'nDCGs: {np.array(nDCGs)}', 'yellow'))\n",
        "\n",
        "nDCGs = []\n",
        "for k in [5, 10, 20]:\n",
        "    nDCGs.append(nDCG(data, path, max_limit, reduction_dim, option, N=10, k=k, \n",
        "                      r=None, dtw=True)[1])\n",
        "print(colored(f'nDCGs: {np.array(nDCGs)}', 'yellow'))"
      ],
      "execution_count": 92,
      "outputs": [
        {
          "output_type": "stream",
          "name": "stdout",
          "text": [
            "option: multipass\n",
            "\u001b[33mnDCGs: [0.85777991 0.72025125 0.54511398]\u001b[0m\n",
            "\u001b[33mnDCGs: [0.91201112 0.84508284 0.70487617]\u001b[0m\n"
          ]
        }
      ]
    },
    {
      "cell_type": "code",
      "metadata": {
        "colab": {
          "base_uri": "https://localhost:8080/"
        },
        "id": "KFQAf0P6OPj-",
        "outputId": "a14cd8d6-b6f5-44e5-b7e9-2524cdab9d92"
      },
      "source": [
        "print(\"option:\", option)\n",
        "nDCGs = []\n",
        "for r in [0.002, 0.005, 0.01]:\n",
        "    nDCGs.append(nDCG(data, path, max_limit, reduction_dim, option, N=5, k=None,\n",
        "                      r=r, dtw=False)[1])\n",
        "print(colored(f'nDCGs@5: {np.array(nDCGs)}', 'yellow'))\n",
        "\n",
        "nDCGs = []\n",
        "for r in [0.002, 0.005, 0.01]:\n",
        "    nDCGs.append(nDCG(data, path, max_limit, reduction_dim, option, N=10, k=None,\n",
        "                      r=r, dtw=False)[1])\n",
        "print(colored(f'nDCGs@10: {np.array(nDCGs)}', 'yellow'))"
      ],
      "execution_count": 93,
      "outputs": [
        {
          "output_type": "stream",
          "name": "stdout",
          "text": [
            "option: multipass\n",
            "\u001b[33mnDCGs@5: [0.48676368 0.48676368 0.50672807]\u001b[0m\n",
            "\u001b[33mnDCGs@10: [0.33371032 0.33371032 0.34938626]\u001b[0m\n"
          ]
        }
      ]
    },
    {
      "cell_type": "markdown",
      "metadata": {
        "id": "etd31Y34qkig"
      },
      "source": [
        "dtw"
      ]
    },
    {
      "cell_type": "code",
      "metadata": {
        "colab": {
          "base_uri": "https://localhost:8080/"
        },
        "id": "MPk9NHz4OW1M",
        "outputId": "d341397b-ea12-4932-a4e1-9fd18b9f2040"
      },
      "source": [
        "print(\"option:\", option)\n",
        "nDCGs = []\n",
        "for r in [0.002, 0.005, 0.01]:\n",
        "    nDCGs.append(nDCG(data, path, max_limit, reduction_dim, option, N=5, k=None,\n",
        "                      r=r, dtw=True)[1])\n",
        "print(colored(f'nDCGs@5: {np.array(nDCGs)}', 'yellow'))\n",
        "\n",
        "nDCGs = []\n",
        "for r in [0.002, 0.005, 0.01]:\n",
        "    nDCGs.append(nDCG(data, path, max_limit, reduction_dim, option, N=10, k=None,\n",
        "                      r=r, dtw=True)[1])\n",
        "print(colored(f'nDCGs@10: {np.array(nDCGs)}', 'yellow'))"
      ],
      "execution_count": 94,
      "outputs": [
        {
          "output_type": "stream",
          "name": "stdout",
          "text": [
            "option: multipass\n",
            "\u001b[33mnDCGs@5: [0.49003956 0.62933385 0.83408243]\u001b[0m\n",
            "\u001b[33mnDCGs@10: [0.3362369  0.47211418 0.76736183]\u001b[0m\n"
          ]
        }
      ]
    },
    {
      "cell_type": "code",
      "metadata": {
        "id": "gLKiEWt_wwid"
      },
      "source": [
        ""
      ],
      "execution_count": null,
      "outputs": []
    }
  ]
}