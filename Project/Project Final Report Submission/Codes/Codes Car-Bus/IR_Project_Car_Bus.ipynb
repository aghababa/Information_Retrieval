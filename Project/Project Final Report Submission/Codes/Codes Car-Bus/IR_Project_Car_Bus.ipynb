{
  "nbformat": 4,
  "nbformat_minor": 0,
  "metadata": {
    "colab": {
      "name": "IR_Project_Car_Bus.ipynb",
      "provenance": [],
      "collapsed_sections": [
        "ubAIAs89PJw8",
        "AfbIPquYs0B0",
        "prEAqI933_SS",
        "HNNAYApufH5o",
        "ykgEe_po11W7",
        "lJdKsTEtQxOy"
      ]
    },
    "kernelspec": {
      "name": "python3",
      "display_name": "Python 3"
    },
    "language_info": {
      "name": "python"
    }
  },
  "cells": [
    {
      "cell_type": "code",
      "metadata": {
        "id": "FEauwwwl5mik"
      },
      "source": [
        "#pip install similaritymeasures"
      ],
      "execution_count": null,
      "outputs": []
    },
    {
      "cell_type": "code",
      "metadata": {
        "id": "YlTyxo7OwZxt"
      },
      "source": [
        "#pip install tslearn"
      ],
      "execution_count": null,
      "outputs": []
    },
    {
      "cell_type": "code",
      "metadata": {
        "id": "b5BXAvdNQw5t",
        "scrolled": true
      },
      "source": [
        "import glob\n",
        "import numpy as np \n",
        "import time\n",
        "import math\n",
        "import random\n",
        "from scipy import linalg as LA\n",
        "import pandas as pd\n",
        "import matplotlib as mpl\n",
        "import matplotlib.pyplot as plt\n",
        "from termcolor import colored\n",
        "import csv\n",
        "#import tslearn\n",
        "#from tslearn.metrics import dtw"
      ],
      "execution_count": null,
      "outputs": []
    },
    {
      "cell_type": "code",
      "metadata": {
        "colab": {
          "base_uri": "https://localhost:8080/"
        },
        "id": "21g9nlO8Q_T2",
        "outputId": "8c7507e3-a08e-4be0-fba5-ca9fa8f36e84"
      },
      "source": [
        "from google.colab import drive\n",
        "drive.mount(\"/content/gdrive\")"
      ],
      "execution_count": null,
      "outputs": [
        {
          "output_type": "stream",
          "name": "stdout",
          "text": [
            "Drive already mounted at /content/gdrive; to attempt to forcibly remount, call drive.mount(\"/content/gdrive\", force_remount=True).\n"
          ]
        }
      ]
    },
    {
      "cell_type": "markdown",
      "metadata": {
        "id": "ubAIAs89PJw8"
      },
      "source": [
        "# Read data (car-bus)"
      ]
    },
    {
      "cell_type": "code",
      "metadata": {
        "colab": {
          "base_uri": "https://localhost:8080/"
        },
        "id": "CrORjFNjQw5w",
        "outputId": "1c551804-db05-4afa-9b87-c7b6b4ac30e8"
      },
      "source": [
        "def read_file(file_name):\n",
        "    data = []\n",
        "    with open(file_name, \"r\") as f:\n",
        "        for line in f:\n",
        "            item = line.strip().split(\",\")\n",
        "            data.append(np.array(item))\n",
        "    return np.array(data)\n",
        "\n",
        "data1 = read_file('/content/gdrive/My Drive/Colab Notebooks/go_track_tracks.csv')[1:,:-1]\n",
        "data2 = read_file('/content/gdrive/My Drive/Colab Notebooks/go_track_trackspoints.csv')[1:,1:4]\n",
        "\n",
        "float1 = np.vectorize(float)\n",
        "int1 = np.vectorize(int)\n",
        "track_id = int1(data1[:,0])\n",
        "labels = np.where(int1(data1[:,-1]) < 1.5, int1(data1[:,-1]), -1) \n",
        "traj = float1(data2)\n",
        "\n",
        "sum(labels==1), sum(labels==-1)"
      ],
      "execution_count": null,
      "outputs": [
        {
          "output_type": "execute_result",
          "data": {
            "text/plain": [
              "(87, 76)"
            ]
          },
          "metadata": {},
          "execution_count": 3
        }
      ]
    },
    {
      "cell_type": "code",
      "metadata": {
        "colab": {
          "base_uri": "https://localhost:8080/"
        },
        "id": "o9PYd0r3Qw55",
        "outputId": "69be4c05-6b99-4681-a3ff-f190b543cb17"
      },
      "source": [
        "trajec = [0] * 163\n",
        "\n",
        "for i in range(163):\n",
        "    trajec[i] = []\n",
        "    I = np.where(traj[:,2] == track_id[i])\n",
        "    trajec[i] = np.array([labels[i], traj[I]], dtype = 'object')\n",
        "\n",
        "trajec = np.array(trajec)\n",
        "\n",
        "trajectory = [0] * 163\n",
        "trajectory_label_id = [0] * 163\n",
        "\n",
        "for i in range(163):\n",
        "    trajectory[i] = trajec[i][1][:,:2]\n",
        "    trajectory_label_id[i] = np.array([trajec[i][1][:,:2], trajec[i][0], \n",
        "                                       trajec[i][1][:,2][0]], dtype = 'object')\n",
        "    \n",
        "trajectory_label_id = np.array(trajectory_label_id, dtype = 'object')\n",
        "trajectory = np.array(trajectory, dtype = 'object')\n",
        "\n",
        "min_length = 10\n",
        "max_length = 1000\n",
        "l = 0\n",
        "index = [] \n",
        "for i in range(163):\n",
        "    if len(trajectory[i]) < min_length or len(trajectory[i]) > max_length:\n",
        "        l = l + 1\n",
        "    else:\n",
        "        index.append(i)\n",
        "        \n",
        "print(l, 163-l)"
      ],
      "execution_count": null,
      "outputs": [
        {
          "output_type": "execute_result",
          "data": {
            "text/plain": [
              "(40, 123)"
            ]
          },
          "metadata": {},
          "execution_count": 4
        }
      ]
    },
    {
      "cell_type": "code",
      "metadata": {
        "colab": {
          "base_uri": "https://localhost:8080/"
        },
        "id": "skYHE61eQw6A",
        "outputId": "7783a757-8de8-4442-e969-0a1c7cdda01a"
      },
      "source": [
        "trajectories = [0] * (163-l)\n",
        "trajectories_label_id = [0] * (163-l)\n",
        "\n",
        "j = 0\n",
        "for i in range(163):\n",
        "    if len(trajectory[i]) >= min_length and len(trajectory[i]) <= max_length:\n",
        "        trajectories[j] = np.array(trajectory[i])\n",
        "        trajectories_label_id[j] = trajectory_label_id[i]\n",
        "        j = j + 1\n",
        "\n",
        "trajectories_label_id = np.array(trajectories_label_id, dtype = 'object')\n",
        "trajectories = np.array(trajectories, dtype = 'object')\n",
        "\n",
        "cars = trajectories_label_id[np.where(trajectories_label_id[:,1] == 1)][:,:2][:,0]\n",
        "buses = trajectories_label_id[np.where(trajectories_label_id[:,1] == -1)][:,:2][:,0]\n",
        "\n",
        "cars_copy = cars.copy()\n",
        "buses_copy = buses.copy()\n",
        "print(len(cars), len(buses))"
      ],
      "execution_count": null,
      "outputs": [
        {
          "output_type": "execute_result",
          "data": {
            "text/plain": [
              "(78, 45)"
            ]
          },
          "metadata": {},
          "execution_count": 5
        }
      ]
    },
    {
      "cell_type": "code",
      "metadata": {
        "id": "Y3YZGn33zSoe"
      },
      "source": [
        "def remove_segments(traj): # removes stationary points\n",
        "    p2 = traj[1:]\n",
        "    p1 = traj[:-1]\n",
        "    L = ((p2-p1)*(p2-p1)).sum(axis =1)\n",
        "    I = np.where(L>1e-16)[0]\n",
        "    return traj[I]"
      ],
      "execution_count": null,
      "outputs": []
    },
    {
      "cell_type": "code",
      "metadata": {
        "colab": {
          "base_uri": "https://localhost:8080/"
        },
        "id": "xgcbpzeJnvyO",
        "outputId": "32b8f478-951d-49ef-b9f0-f83c447d8844"
      },
      "source": [
        "cars = np.array(list(map(remove_segments, cars)), dtype='object')\n",
        "buses = np.array(list(map(remove_segments, buses)), dtype='object')\n",
        "\n",
        "I = np.where(np.array([len(cars[i]) for i in range(len(cars))]) > 1)\n",
        "J = np.where(np.array([len(buses[i]) for i in range(len(buses))]) > 1)\n",
        "\n",
        "cars = cars[I]\n",
        "buses = buses[J]\n",
        "\n",
        "cars_copy = cars.copy()\n",
        "buses_copy = buses.copy()\n",
        "print(\"len(cars), len(buses)=\", len(cars), len(buses))"
      ],
      "execution_count": null,
      "outputs": [
        {
          "output_type": "stream",
          "name": "stdout",
          "text": [
            "len(cars), len(buses)= 78 45\n"
          ]
        }
      ]
    },
    {
      "cell_type": "markdown",
      "metadata": {
        "id": "AfbIPquYs0B0"
      },
      "source": [
        "# Removing 2 outliers and 13 duplicates"
      ]
    },
    {
      "cell_type": "code",
      "metadata": {
        "colab": {
          "base_uri": "https://localhost:8080/"
        },
        "id": "GF8AopDps0B0",
        "outputId": "8c821b1a-8e53-44cf-c469-0217d9b00c48"
      },
      "source": [
        "a = np.arange(len(cars))\n",
        "I = np.where((a != 11) & (a != 12) & (a != 28) & (a != 29))\n",
        "cars1 = cars[I]\n",
        "buses1 = buses[:-1]\n",
        "print(len(cars1), len(buses1))"
      ],
      "execution_count": null,
      "outputs": [
        {
          "output_type": "execute_result",
          "data": {
            "text/plain": [
              "(74, 44)"
            ]
          },
          "metadata": {},
          "execution_count": 9
        }
      ]
    },
    {
      "cell_type": "code",
      "metadata": {
        "colab": {
          "base_uri": "https://localhost:8080/"
        },
        "id": "RKxiOMtz7Hzb",
        "outputId": "fd533a1d-e60e-40b4-93c0-a20673fd5dde"
      },
      "source": [
        "cars = []\n",
        "buses = []\n",
        "\n",
        "for i in range(len(cars1)):\n",
        "    if i not in [6, 21, 29, 31, 33, 35, 37, 54]:\n",
        "        cars.append(cars1[i])\n",
        "\n",
        "for i in range(len(buses1)):\n",
        "    if i not in [82-74, 86-74, 93-74, 96-74, 98-74]:\n",
        "        buses.append(buses1[i])\n",
        "\n",
        "cars = np.array(cars, dtype='object')\n",
        "buses = np.array(buses, dtype='object')\n",
        "print(len(cars), len(buses))"
      ],
      "execution_count": null,
      "outputs": [
        {
          "output_type": "execute_result",
          "data": {
            "text/plain": [
              "(66, 39)"
            ]
          },
          "metadata": {},
          "execution_count": 10
        }
      ]
    },
    {
      "cell_type": "code",
      "metadata": {
        "colab": {
          "base_uri": "https://localhost:8080/"
        },
        "id": "0YkJBVZhs0B1",
        "outputId": "af1a74b3-3c02-44a3-ef55-ae01fa68e2cf"
      },
      "source": [
        "a, c = np.min((np.min([np.min(cars[i], axis=0) for i in range(len(cars))], axis=0), \n",
        "       np.min([np.min(buses[i], axis=0) for i in range(len(buses))], axis=0)), axis=0)\n",
        "  \n",
        "b, d = np.max((np.max([np.max(cars[i], axis=0) for i in range(len(cars))], axis=0), \n",
        "               np.max([np.max(buses[i], axis=0) for i in range(len(buses))], axis=0)), axis=0)\n",
        "\n",
        "for i in range(len(cars)):\n",
        "    plt.plot(cars[i][:,0], cars[i][:,1], color = \"steelblue\");\n",
        "for i in range(len(buses)):\n",
        "    plt.plot(buses[i][:,0], buses[i][:,1], color = \"r\");\n",
        "\n",
        "print(colored(f'Original car-bus', 'yellow'))\n",
        "plt.show()"
      ],
      "execution_count": null,
      "outputs": [
        {
          "output_type": "stream",
          "name": "stdout",
          "text": [
            "\u001b[33mOriginal car-bus\u001b[0m\n"
          ]
        },
        {
          "output_type": "display_data",
          "data": {
            "image/png": "[encoded data removed]",
            "text/plain": [
              "<Figure size 432x288 with 1 Axes>"
            ]
          },
          "metadata": {
            "needs_background": "light"
          }
        }
      ]
    },
    {
      "cell_type": "code",
      "metadata": {
        "colab": {
          "base_uri": "https://localhost:8080/"
        },
        "id": "jIFn4IrDddKq",
        "outputId": "0c78b524-80f6-4ed4-df99-b9d2a2d70cce"
      },
      "source": [
        "data = np.concatenate((cars, buses), 0)\n",
        "print(len(data))"
      ],
      "execution_count": null,
      "outputs": [
        {
          "output_type": "execute_result",
          "data": {
            "text/plain": [
              "105"
            ]
          },
          "metadata": {},
          "execution_count": 12
        }
      ]
    },
    {
      "cell_type": "markdown",
      "metadata": {
        "id": "prEAqI933_SS"
      },
      "source": [
        "# DTW distances"
      ]
    },
    {
      "cell_type": "code",
      "metadata": {
        "id": "3XeX95gcshth"
      },
      "source": [
        "def calculate_dists_dtw_tslearn(data1, data2, path): \n",
        "    start_time = time.time() \n",
        "    data = np.concatenate((data1, data2), 0)\n",
        "    n = len(data)\n",
        "    A = []\n",
        "    for i in range(n-1):\n",
        "        for j in range(i+1, n):\n",
        "            A.append(tslearn.metrics.dtw(data[i], data[j]))\n",
        "    A = np.array(A)\n",
        "    tri = np.zeros((n, n))\n",
        "    tri[np.triu_indices(n, 1)] = A\n",
        "    for i in range(1, n):\n",
        "        for j in range(i):\n",
        "            tri[i][j] = tri[j][i]\n",
        "    np.savetxt(path, tri, delimiter=',')\n",
        "\n",
        "    total_time = time.time() - start_time\n",
        "    return total_time"
      ],
      "execution_count": null,
      "outputs": []
    },
    {
      "cell_type": "code",
      "metadata": {
        "id": "1MreFyXBuAnC"
      },
      "source": [
        "# Run just for once\n",
        "path = '/content/gdrive/My Drive/IR Project/Car-Bus/'\n",
        "#calculate_dists_dtw_tslearn(cars, buses, path=path)"
      ],
      "execution_count": null,
      "outputs": []
    },
    {
      "cell_type": "code",
      "metadata": {
        "colab": {
          "base_uri": "https://localhost:8080/"
        },
        "id": "c699Y9L9xTmL",
        "outputId": "5904858b-45bb-4f18-e6f5-21f21843527a"
      },
      "source": [
        "dists_dtw = np.array(pd.read_csv(path+'dtw-car-bus.csv', header=None))\n",
        "dists_df = pd.read_csv(path+'dtw-car-bus.csv', header=None)\n",
        "#dists_dtw[:5, :5]\n",
        "dists_df.head()[[0,1,2,3,4,5,6,7,8,9]]"
      ],
      "execution_count": null,
      "outputs": [
        {
          "output_type": "execute_result",
          "data": {
            "text/html": [
              "<div>\n",
              "<style scoped>\n",
              "    .dataframe tbody tr th:only-of-type {\n",
              "        vertical-align: middle;\n",
              "    }\n",
              "\n",
              "    .dataframe tbody tr th {\n",
              "        vertical-align: top;\n",
              "    }\n",
              "\n",
              "    .dataframe thead th {\n",
              "        text-align: right;\n",
              "    }\n",
              "</style>\n",
              "<table border=\"1\" class=\"dataframe\">\n",
              "  <thead>\n",
              "    <tr style=\"text-align: right;\">\n",
              "      <th></th>\n",
              "      <th>0</th>\n",
              "      <th>1</th>\n",
              "      <th>2</th>\n",
              "      <th>3</th>\n",
              "      <th>4</th>\n",
              "      <th>5</th>\n",
              "      <th>6</th>\n",
              "      <th>7</th>\n",
              "      <th>8</th>\n",
              "      <th>9</th>\n",
              "    </tr>\n",
              "  </thead>\n",
              "  <tbody>\n",
              "    <tr>\n",
              "      <th>0</th>\n",
              "      <td>0.000000</td>\n",
              "      <td>0.237153</td>\n",
              "      <td>0.044598</td>\n",
              "      <td>0.355609</td>\n",
              "      <td>0.450704</td>\n",
              "      <td>0.516058</td>\n",
              "      <td>0.366866</td>\n",
              "      <td>0.240735</td>\n",
              "      <td>0.392716</td>\n",
              "      <td>0.593286</td>\n",
              "    </tr>\n",
              "    <tr>\n",
              "      <th>1</th>\n",
              "      <td>0.237153</td>\n",
              "      <td>0.000000</td>\n",
              "      <td>0.234396</td>\n",
              "      <td>0.520422</td>\n",
              "      <td>0.639423</td>\n",
              "      <td>0.645120</td>\n",
              "      <td>0.526944</td>\n",
              "      <td>0.282475</td>\n",
              "      <td>0.271233</td>\n",
              "      <td>0.704242</td>\n",
              "    </tr>\n",
              "    <tr>\n",
              "      <th>2</th>\n",
              "      <td>0.044598</td>\n",
              "      <td>0.234396</td>\n",
              "      <td>0.000000</td>\n",
              "      <td>0.390219</td>\n",
              "      <td>0.500357</td>\n",
              "      <td>0.567860</td>\n",
              "      <td>0.402758</td>\n",
              "      <td>0.271129</td>\n",
              "      <td>0.385550</td>\n",
              "      <td>0.708856</td>\n",
              "    </tr>\n",
              "    <tr>\n",
              "      <th>3</th>\n",
              "      <td>0.355609</td>\n",
              "      <td>0.520422</td>\n",
              "      <td>0.390219</td>\n",
              "      <td>0.000000</td>\n",
              "      <td>0.160107</td>\n",
              "      <td>0.081285</td>\n",
              "      <td>0.203086</td>\n",
              "      <td>0.648721</td>\n",
              "      <td>0.836305</td>\n",
              "      <td>0.040976</td>\n",
              "    </tr>\n",
              "    <tr>\n",
              "      <th>4</th>\n",
              "      <td>0.450704</td>\n",
              "      <td>0.639423</td>\n",
              "      <td>0.500357</td>\n",
              "      <td>0.160107</td>\n",
              "      <td>0.000000</td>\n",
              "      <td>0.184160</td>\n",
              "      <td>0.197985</td>\n",
              "      <td>0.696510</td>\n",
              "      <td>0.897018</td>\n",
              "      <td>0.204119</td>\n",
              "    </tr>\n",
              "  </tbody>\n",
              "</table>\n",
              "</div>"
            ],
            "text/plain": [
              "          0         1         2  ...         7         8         9\n",
              "0  0.000000  0.237153  0.044598  ...  0.240735  0.392716  0.593286\n",
              "1  0.237153  0.000000  0.234396  ...  0.282475  0.271233  0.704242\n",
              "2  0.044598  0.234396  0.000000  ...  0.271129  0.385550  0.708856\n",
              "3  0.355609  0.520422  0.390219  ...  0.648721  0.836305  0.040976\n",
              "4  0.450704  0.639423  0.500357  ...  0.696510  0.897018  0.204119\n",
              "\n",
              "[5 rows x 10 columns]"
            ]
          },
          "metadata": {},
          "execution_count": 15
        }
      ]
    },
    {
      "cell_type": "code",
      "metadata": {
        "colab": {
          "base_uri": "https://localhost:8080/"
        },
        "id": "q4OT_5ffI0xG",
        "outputId": "3097d419-5882-4cb4-90c4-e85a38912c5d"
      },
      "source": [
        "dists_dtw.shape"
      ],
      "execution_count": null,
      "outputs": [
        {
          "output_type": "execute_result",
          "data": {
            "text/plain": [
              "(105, 105)"
            ]
          },
          "metadata": {},
          "execution_count": 17
        }
      ]
    },
    {
      "cell_type": "code",
      "metadata": {
        "id": "_yaS-zgiaJle"
      },
      "source": [
        "ranked_inverted_index_dtw = np.argsort(dists_dtw, 1)"
      ],
      "execution_count": null,
      "outputs": []
    },
    {
      "cell_type": "code",
      "metadata": {
        "id": "53pmOjJkb5nR"
      },
      "source": [
        "#np.savetxt(path+'ranked_inverted_index_dtw.csv', ranked_inverted_index_dtw, delimiter=',')"
      ],
      "execution_count": null,
      "outputs": []
    },
    {
      "cell_type": "code",
      "metadata": {
        "colab": {
          "base_uri": "https://localhost:8080/"
        },
        "id": "WNtplSWecJan",
        "outputId": "9ee57870-224a-4fe9-acb2-3bb7dc93b25c"
      },
      "source": [
        "ranks_dtw = np.vectorize(int)(np.array(pd.read_csv(path+'ranked_inverted_index_dtw.csv', header=None)))\n",
        "ranks_dtw"
      ],
      "execution_count": null,
      "outputs": [
        {
          "output_type": "execute_result",
          "data": {
            "text/plain": [
              "array([[  0,  49,   2, ...,  44,  48,  47],\n",
              "       [  1,  64,  94, ...,  74,  44,  47],\n",
              "       [  2,   0,  49, ...,  74,  48,  47],\n",
              "       ...,\n",
              "       [102,  95,  33, ...,  48,  74,  44],\n",
              "       [103,  13,   5, ...,  18,  48,  44],\n",
              "       [104,   4,  70, ...,  18,  48,  44]])"
            ]
          },
          "metadata": {},
          "execution_count": 20
        }
      ]
    },
    {
      "cell_type": "markdown",
      "metadata": {
        "id": "3QDO5FcsY8Ax"
      },
      "source": [
        "# Vectorizing trajectories"
      ]
    },
    {
      "cell_type": "markdown",
      "metadata": {
        "id": "HNNAYApufH5o"
      },
      "source": [
        "## Functions"
      ]
    },
    {
      "cell_type": "code",
      "metadata": {
        "id": "E4Q4gb9hiv8Y"
      },
      "source": [
        "n_x_grids = 50\n",
        "n_y_grids = 50\n",
        "path = '/content/gdrive/My Drive/IR Project/Car-Bus/'\n",
        "sigma_coeff = 3\n",
        "M = len(data) # data[:M]\n",
        "reduction_dim = 25\n",
        "option = 'binary' #'multipass'\n",
        "max_limit=50"
      ],
      "execution_count": null,
      "outputs": []
    },
    {
      "cell_type": "code",
      "metadata": {
        "id": "BKVAHls23t6V"
      },
      "source": [
        "def getGridsXAndY(data, n_x_grids, n_y_grids, path=None):\n",
        "    '''\n",
        "    path = '/content/gdrive/My Drive/IR Project/Car-Bus/'\n",
        "    return: x, y-linspaces in the rectangle (x_min, y_min), (x_max, y_max)\n",
        "    '''\n",
        "    x_min, y_min = np.min([np.min(data[i], axis=0) for i in range(len(data))], axis=0)\n",
        "    x_max, y_max = np.max([np.max(data[i], axis=0) for i in range(len(data))], axis=0)\n",
        "    x_margin = 0.05 * (x_max - x_min)\n",
        "    y_margin = 0.05 * (y_max - y_min)\n",
        "    x = np.linspace(x_min - x_margin, x_max + x_margin, n_x_grids+1)\n",
        "    y = np.linspace(y_min - y_margin, y_max + y_margin, n_y_grids+1)\n",
        "    if path:\n",
        "        np.savetxt(path+\"x.csv\", x.reshape(1, len(x)), delimiter=\",\")\n",
        "        np.savetxt(path+\"y.csv\", y.reshape(1, len(y)), delimiter=\",\")\n",
        "        np.savetxt(path+\"minMaxs.csv\", [x_min, y_min, x_max, y_max], delimiter=\"'\")\n",
        "    return x, y, x_min, y_min, x_max, y_max"
      ],
      "execution_count": null,
      "outputs": []
    },
    {
      "cell_type": "code",
      "metadata": {
        "id": "okTLSYdr-VZE"
      },
      "source": [
        "x, y, x_min, y_min, x_max, y_max = getGridsXAndY(data, n_x_grids, n_y_grids, path=path)\n",
        "n_x_grids = len(x) - 1\n",
        "n_y_grids = len(y) - 1"
      ],
      "execution_count": null,
      "outputs": []
    },
    {
      "cell_type": "code",
      "metadata": {
        "id": "eKjw9vCss00P"
      },
      "source": [
        "def centersSimilarityMatrix(sigma_coeff=3):\n",
        "    '''\n",
        "    Gives the similarity matrix of centers of grids using Gauusian kernel\n",
        "    '''\n",
        "    tensor = np.zeros((n_x_grids, n_y_grids, 2))\n",
        "    for i in range(n_x_grids):\n",
        "        for j in range(n_y_grids): \n",
        "            tensor[i][j] = [(x[i]+x[i+1])/2, (y[j]+y[j+1])/2]\n",
        "    tensor = tensor.reshape(-1,2)\n",
        "    simMatrix = np.ones((len(tensor), len(tensor)))\n",
        "    sigma = sigma_coeff * ((y_max-y_min)+(x_max-x_min))/(n_x_grids + n_y_grids)\n",
        "    for i in range(len(tensor) - 1):\n",
        "        simMatrix[i][i+1:] = np.exp(-np.sum((tensor[i+1:]-tensor[i])*(tensor[i+1:]-tensor[i]), \n",
        "                                             axis=1)/sigma**2)\n",
        "    for i in range(len(tensor) - 1):\n",
        "        simMatrix[:,i][i+1:] = simMatrix[i][i+1:]\n",
        "    return simMatrix"
      ],
      "execution_count": null,
      "outputs": []
    },
    {
      "cell_type": "code",
      "metadata": {
        "colab": {
          "base_uri": "https://localhost:8080/"
        },
        "id": "H_CGss9GdH8T",
        "outputId": "b3904b45-1674-470f-fdbf-9ebb246b5abe"
      },
      "source": [
        "C = centersSimilarityMatrix(sigma_coeff)\n",
        "C.shape"
      ],
      "execution_count": null,
      "outputs": [
        {
          "output_type": "execute_result",
          "data": {
            "text/plain": [
              "(2500, 2500)"
            ]
          },
          "metadata": {},
          "execution_count": 101
        }
      ]
    },
    {
      "cell_type": "code",
      "metadata": {
        "id": "uN2ILY67s0xn"
      },
      "source": [
        "def vectorizeLineSegment(LineSegment): \n",
        "    '''\n",
        "    LineSegment: of shape (2, 2); coordinates of start and end are given; [[x1, y1], [x2, y2]]\n",
        "    return: a binary vector of length n_x_grids x n_y_grids, which shows if \n",
        "            LineSegment has occured in each grid or not\n",
        "    '''\n",
        "    array = np.zeros((n_x_grids, n_y_grids))\n",
        "    p1, p2 = LineSegment\n",
        "    slope = (p2-p1)[1]/((p2-p1)[0] + 1e-10)\n",
        "    i1 = np.where(x - p1[0] < 0)[0][-1]\n",
        "    i2 = np.where(x - p2[0] < 0)[0][-1]\n",
        "    xIdxStart = min(i1, i2)\n",
        "    xIdxEnd = max(i1, i2)\n",
        "\n",
        "    if xIdxEnd != xIdxStart:\n",
        "        ''' dealing with start point of lineSegment'''\n",
        "        if i1 < i2:\n",
        "            j_start = np.where(y - p1[1] < 0)[0][-1]\n",
        "            y_val_end = slope * (x[i1+1] - p1[0]) + p1[1]\n",
        "        else:\n",
        "            j_start = np.where(y - p2[1] < 0)[0][-1]\n",
        "            y_val_end = slope * (x[i2+1] - p1[0]) + p1[1]\n",
        "        j_end = np.where(y - y_val_end < 0)[0][-1]\n",
        "        array[xIdxStart][np.arange(min(j_start, j_end), max(j_start, j_end)+1)] = 1\n",
        "\n",
        "        ''' dealing with end point of lineSegment'''\n",
        "        if i1 < i2:\n",
        "            j_end = np.where(y - p2[1] < 0)[0][-1]\n",
        "            y_val_start = slope * (x[i2] - p1[0]) + p1[1]\n",
        "        else:\n",
        "            j_end = np.where(y - p1[1] < 0)[0][-1]\n",
        "            y_val_start = slope * (x[i1] - p1[0]) + p1[1]\n",
        "        j_start = np.where(y - y_val_start < 0)[0][-1]\n",
        "        array[xIdxEnd][np.arange(min(j_start, j_end), max(j_start, j_end)+1)] = 1\n",
        "\n",
        "        ''' dealing with non-endpoints of lineSegment'''\n",
        "        for i in range(xIdxStart+1, xIdxEnd):\n",
        "            y_val_start = slope * (x[i] - p1[0]) + p1[1]\n",
        "            y_val_end = slope * (x[i+1] - p1[0]) + p1[1]\n",
        "            j_start = np.where(y - y_val_start < 0)[0][-1]\n",
        "            j_end = np.where(y - y_val_end < 0)[0][-1]\n",
        "            array[i][np.arange(min(j_start, j_end), max(j_start, j_end)+1)] = 1\n",
        "    else:\n",
        "        y_val_start = min(p1[1], p2[1])\n",
        "        y_val_end = max(p1[1], p2[1])\n",
        "        j_start = np.where(y - y_val_start < 0)[0][-1]\n",
        "        j_end = np.where(y - y_val_end < 0)[0][-1]\n",
        "        array[xIdxStart][np.arange(min(j_start, j_end), max(j_start, j_end)+1)] = 1\n",
        "    return array.reshape(n_x_grids * n_y_grids)"
      ],
      "execution_count": null,
      "outputs": []
    },
    {
      "cell_type": "code",
      "metadata": {
        "id": "-w9MzXnlwykE"
      },
      "source": [
        "def vectorizeTrajectory(trajectory, option): # T --> T_tilda\n",
        "    '''\n",
        "    trajectory: of shape (m, 2)\n",
        "    return: a vector of length n_x_grids x n_y_grids, which shows the number \n",
        "            of occurences of trajectory in each grid\n",
        "    '''\n",
        "    A = [vectorizeLineSegment(trajectory[i:i+2]) for i in range(len(trajectory) - 1)]\n",
        "    if option == 'multipass':\n",
        "        return np.sum(A, axis=0)\n",
        "    elif option == 'binary':\n",
        "        return np.sign(np.sum(A, axis=0))\n",
        "\n",
        "\n",
        "def vectorizeData(data, option): # data --> D_tilda\n",
        "    ''' \n",
        "    vectorizes vectorizeTrajectory() over data \n",
        "    '''\n",
        "    mappedData = [vectorizeTrajectory(data[i], option) for i in range(len(data))]\n",
        "    return np.array(mappedData).T"
      ],
      "execution_count": null,
      "outputs": []
    },
    {
      "cell_type": "code",
      "metadata": {
        "colab": {
          "base_uri": "https://localhost:8080/"
        },
        "id": "AG1xn0UYS9pk",
        "outputId": "2cb1067a-d4df-42a6-9b81-8dbccc252700"
      },
      "source": [
        "start_time = time.time()\n",
        "print(\"option:\", option)\n",
        "D_tilda = vectorizeData(data, option)\n",
        "print(time.time() - start_time)"
      ],
      "execution_count": null,
      "outputs": [
        {
          "output_type": "stream",
          "name": "stdout",
          "text": [
            "option: binary\n",
            "0.6662414073944092\n"
          ]
        }
      ]
    },
    {
      "cell_type": "code",
      "metadata": {
        "id": "r4kpzj_9c6wx"
      },
      "source": [
        "import scipy \n",
        "\n",
        "def dimReductionData(data, option, reduction_dim, path=None):\n",
        "    '''\n",
        "    Performs dimentionality reduction using SVD of similarity matrix C of centers of grids\n",
        "    path='/content/gdrive/My Drive/IR Project/'\n",
        "    '''\n",
        "    D_tilda = vectorizeData(data, option)\n",
        "    Delta, P = np.linalg.eigh(C, UPLO='L')\n",
        "    I = np.where(Delta <= 1e-15)[0]\n",
        "    Delta[I] = 0\n",
        "    Delta_0 = Delta \n",
        "    D_tilda_tilda = np.diag(np.sqrt(Delta_0)) @ P.T @ D_tilda\n",
        "    U, S, Vt = scipy.linalg.svd(D_tilda_tilda)\n",
        "    U_e = U[:, :reduction_dim] \n",
        "    if path:\n",
        "        np.savetxt(path+\"Delta_0_sqrt_\"+option+\".csv\", np.sqrt(Delta_0).reshape(1,len(Delta_0)), delimiter=',')\n",
        "        np.savetxt(path+\"Pt_\"+option+\".csv\", P.T, delimiter=',')\n",
        "        np.savetxt(path+\"U_e_\"+option+\".csv\", U_e, delimiter=',')\n",
        "    return np.sqrt(Delta_0), P.T, U_e, U_e.T @ D_tilda_tilda\n"
      ],
      "execution_count": null,
      "outputs": []
    },
    {
      "cell_type": "code",
      "metadata": {
        "id": "60U0R1s5c6ob",
        "colab": {
          "base_uri": "https://localhost:8080/"
        },
        "outputId": "ccbc6e8f-52cd-4258-a753-e58bafdf5c66"
      },
      "source": [
        "print(\"option:\", option)\n",
        "s = time.time()\n",
        "Delta_0_sqrt, Pt, U_e, reducedData = \\\n",
        "                    dimReductionData(data[:M], option, reduction_dim, path)\n",
        "\n",
        "print(reducedData.shape)\n",
        "print(time.time() - s)"
      ],
      "execution_count": null,
      "outputs": [
        {
          "output_type": "stream",
          "name": "stdout",
          "text": [
            "option: binary\n",
            "(25, 105)\n",
            "14.31067681312561\n"
          ]
        }
      ]
    },
    {
      "cell_type": "code",
      "metadata": {
        "id": "hjTsblxks0vZ"
      },
      "source": [
        "def gridAggregateDist(traj1, traj2, option):\n",
        "    '''\n",
        "    Calculates the Grid Aggregated Distance between two trajectories traj1 and traj2 \n",
        "    with respect to centers matrix C; normalized by the number of grids\n",
        "    '''\n",
        "    traj_1 = vectorizeTrajectory(traj1, option)\n",
        "    traj_2 = vectorizeTrajectory(traj2, option)\n",
        "    dist = ((traj_1 - traj_2).T @ Pt.T @ np.diag(Delta_0_sqrt**2) @ Pt @ (traj_1 - traj_2))\n",
        "    return np.sqrt(dist)/(n_x_grids * n_y_grids)\n"
      ],
      "execution_count": null,
      "outputs": []
    },
    {
      "cell_type": "code",
      "metadata": {
        "id": "g2Ku2UtsR4_S"
      },
      "source": [
        "def gridAggregateDistVectorized(traj_vectorized, data_vectorized, option):\n",
        "    '''\n",
        "    Calculates the Grid Aggregated Distance between traj_vectorized and data_vectorized \n",
        "    (which is an array of vectorized trajectories) with respect to centers matrix C; \n",
        "    normalized by the number of grids\n",
        "    '''\n",
        "    c = np.diag(Delta_0_sqrt) @ Pt @ (data_vectorized - traj_vectorized).T\n",
        "    dists = np.sum(c * c, 0)\n",
        "    return np.sqrt(dists)/(n_x_grids * n_y_grids)"
      ],
      "execution_count": null,
      "outputs": []
    },
    {
      "cell_type": "code",
      "metadata": {
        "id": "6jmdPAKjgnhY"
      },
      "source": [
        "def dimReducedQuery(query, option):\n",
        "    Min_x, Min_y = np.min(query, axis=0)\n",
        "    Max_x, Max_y = np.max(query, axis=0)\n",
        "    if (x[0] < Min_x and y[0] < Min_y and Max_x < x[-1] and Max_y < y[-1]):\n",
        "        T_q_tilda = vectorizeTrajectory(query, option=option) # vectorizedQuery\n",
        "        T_q_tilda_tilda = np.diag(Delta_0_sqrt) @ Pt @ T_q_tilda\n",
        "        T_q_e_tilda_tilda = U_e.T @ T_q_tilda_tilda\n",
        "        return T_q_e_tilda_tilda \n",
        "    else:\n",
        "        print(colored(f\"The query is not in the specified range of data.\\n \\\n",
        "        Please enter a query in the valid rectangular area: \\n \\\n",
        "        {[x[0], x[-1]]}x{[y[0], y[-1]]}\", \"yellow\"))\n",
        "        return"
      ],
      "execution_count": null,
      "outputs": []
    },
    {
      "cell_type": "code",
      "metadata": {
        "colab": {
          "base_uri": "https://localhost:8080/",
          "height": 265
        },
        "id": "snHsSRrz__qF",
        "outputId": "e16bf843-c01d-4a6e-db47-50e823885640"
      },
      "source": [
        "for i in range(len(data)):\n",
        "    plt.plot(data[i][:,0], data[i][:,1])\n",
        "    plt.plot(x, y)\n",
        "plt.show()"
      ],
      "execution_count": null,
      "outputs": [
        {
          "output_type": "display_data",
          "data": {
            "image/png": "[encoded data removed]",
            "text/plain": [
              "<Figure size 432x288 with 1 Axes>"
            ]
          },
          "metadata": {
            "needs_background": "light"
          }
        }
      ]
    },
    {
      "cell_type": "code",
      "metadata": {
        "id": "GwWEIaP1iMpp"
      },
      "source": [
        "def queryRankList(query, reduction_dim, option, max_limit, k=None, r=None): \n",
        "    '''\n",
        "    returns a list; the indices of the trajectories to be retrieved for the query\n",
        "    '''\n",
        "    mappedReducedQuery = dimReducedQuery(query, option=option)\n",
        "    distQueryFromReducedData = LA.norm(reducedData - mappedReducedQuery.reshape(reduction_dim,1), \n",
        "                                       axis=0) / (n_x_grids * n_y_grids)\n",
        "    distQueryFromReducedDataSortedIndices = np.argsort(distQueryFromReducedData)\n",
        "    if k:\n",
        "        return distQueryFromReducedDataSortedIndices[:k]\n",
        "    elif r:\n",
        "        idx = np.where(distQueryFromReducedData < r)[0]\n",
        "        return idx[:max_limit]\n",
        "    else:\n",
        "        print(colored(\"Please specify k or r\", \"yellow\"))\n",
        "        return"
      ],
      "execution_count": null,
      "outputs": []
    },
    {
      "cell_type": "code",
      "metadata": {
        "id": "t0BAulKGiMmv"
      },
      "source": [
        "def dataRankedLists(data_vectorized, reducedData, option, path=None): \n",
        "    # get real dists of data points with grid aggregated distance\n",
        "    n = len(data)\n",
        "    distsData = np.zeros((n, n))\n",
        "    for j in range(n-1):\n",
        "        distsData[j][j+1:] = gridAggregateDistVectorized(data_vectorized[j], \n",
        "                                                         data_vectorized[j+1:], \n",
        "                                                         option=option)\n",
        "    distsData = distsData + distsData.T\n",
        "    distsDataArgSorts = np.argsort(distsData)\n",
        "    if path:\n",
        "        np.savetxt(path+\"distsData_\"+option+\".csv\", distsData, delimiter=\",\")\n",
        "        np.savetxt(path+\"distsDataArgSorts_\"+option+\".csv\", distsDataArgSorts, delimiter=\",\")\n",
        "\n",
        "    # get dists of data points after dim reduction\n",
        "    distsReducedData = np.zeros((n,n))\n",
        "    for j in range(n-1):\n",
        "        a = LA.norm(reducedData[j] - reducedData[j+1:], axis=1)/(n_x_grids * n_y_grids)\n",
        "        distsReducedData[j][j+1:] = a\n",
        "    distsReducedData = distsReducedData + distsReducedData.T\n",
        "    distsReducedDataArgSorts = np.argsort(distsReducedData)\n",
        "    if path:\n",
        "        np.savetxt(path+\"distsReducedData_\"+option+\".csv\", distsReducedData, delimiter=\",\")\n",
        "        np.savetxt(path+\"distsReducedDataArgSorts_\"+option+\".csv\", distsReducedDataArgSorts, delimiter=\",\")\n",
        "    return distsData, distsDataArgSorts, distsReducedData, distsReducedDataArgSorts\n"
      ],
      "execution_count": null,
      "outputs": []
    },
    {
      "cell_type": "code",
      "metadata": {
        "id": "G4r184Ub7rQ4",
        "colab": {
          "base_uri": "https://localhost:8080/"
        },
        "outputId": "425d3769-5727-4952-8b7d-d76b8f26bd73"
      },
      "source": [
        "start_time = time.time()\n",
        "print(\"option:\", option)\n",
        "distsData, distsDataArgSorts, distsReducedData, distsReducedDataArgSorts = \\\n",
        "                            dataRankedLists(D_tilda.T, reducedData.T, option, path)\n",
        "print(time.time() - start_time)"
      ],
      "execution_count": null,
      "outputs": [
        {
          "output_type": "stream",
          "name": "stdout",
          "text": [
            "option: binary\n",
            "103.48799228668213\n"
          ]
        }
      ]
    },
    {
      "cell_type": "code",
      "metadata": {
        "colab": {
          "base_uri": "https://localhost:8080/"
        },
        "id": "w2sX5rSSedJt",
        "outputId": "2a8b082d-f802-4c6a-8836-46bfc2bc9c59"
      },
      "source": [
        "sum(np.argsort(distsData[0]) != np.argsort(distsReducedData[0]))"
      ],
      "execution_count": null,
      "outputs": [
        {
          "output_type": "execute_result",
          "data": {
            "text/plain": [
              "64"
            ]
          },
          "metadata": {},
          "execution_count": 114
        }
      ]
    },
    {
      "cell_type": "code",
      "metadata": {
        "colab": {
          "base_uri": "https://localhost:8080/"
        },
        "id": "72FMmpzYr3Yn",
        "outputId": "aef39ea2-a7d1-4fdc-c535-12dcd331d68c"
      },
      "source": [
        "data_ranked_list_dtw = np.argsort(dists_dtw)\n",
        "data_ranked_list_dtw.shape"
      ],
      "execution_count": null,
      "outputs": [
        {
          "output_type": "execute_result",
          "data": {
            "text/plain": [
              "(105, 105)"
            ]
          },
          "metadata": {},
          "execution_count": 115
        }
      ]
    },
    {
      "cell_type": "code",
      "metadata": {
        "id": "6GDsBXhN7acS"
      },
      "source": [
        "def precisionAndRecallData(data, N, max_limit, distsData, distsDataArgSorts, \n",
        "                           distsReducedData, distsReducedDataArgSorts, k=None, r=None): \n",
        "    '''\n",
        "    calculates percision and recall for all data points as well as \n",
        "    the average of percision and recall for all data @N (Note: This is not AP)\n",
        "    This function is not sensitive to k if k>=N.\n",
        "    Note: Don't give values for both k and r (one of them should be None).\n",
        "    '''\n",
        "    percision = np.zeros(len(data))\n",
        "    recall = np.zeros(len(data))\n",
        "    if (k and r):\n",
        "        for j in range(len(data)):\n",
        "            c = 0\n",
        "            for i in range(N):\n",
        "                if distsReducedDataArgSorts[j][i] in distsDataArgSorts[j][:N]:\n",
        "                    c += 1\n",
        "            percision[j] = c/N\n",
        "            recall[j] = c/N\n",
        "        percision_k = percision.copy()\n",
        "        recall_k = recall.copy()\n",
        "        for j in range(len(data)):\n",
        "            d = 0\n",
        "            idx = np.where(distsData[j] < r)[0][:min(max_limit, N)]\n",
        "            idx_red = np.where(distsReducedData[j] < r)[0][:min(max_limit, N)]\n",
        "            for i in range(len(idx_red)):\n",
        "                if idx_red[i] in idx:\n",
        "                    d += 1\n",
        "            percision[j] = d/len(idx_red)\n",
        "            recall[j] = d/len(idx)\n",
        "        return {f\"k={k}:\": [percision_k, recall_k, np.mean(percision_k), np.mean(recall_k)],\n",
        "                f\"r={r}:\": [percision, recall, np.mean(percision), np.mean(recall)]}\n",
        "    elif k:\n",
        "        for j in range(len(data)):\n",
        "            c = 0\n",
        "            for i in range(N):\n",
        "                if distsReducedDataArgSorts[j][i] in distsDataArgSorts[j][:N]:\n",
        "                    c += 1\n",
        "            percision[j] = c/N\n",
        "            recall[j] = c/N\n",
        "        return percision, recall, np.mean(percision), np.mean(recall)\n",
        "    elif r:\n",
        "        for j in range(len(data)):\n",
        "            c = 0\n",
        "            idx = np.where(distsData[j] < r)[0]\n",
        "            idx_red = np.where(distsReducedData[j] < r)[0]\n",
        "            I = np.argsort(distsData[j][idx])\n",
        "            idx = idx[I][:min(max_limit, N)]\n",
        "            J = np.argsort(distsReducedData[j][idx_red])\n",
        "            idx_red = idx_red[J][:min(max_limit, N)]\n",
        "            for i in range(len(idx_red)):\n",
        "                if idx_red[i] in idx:\n",
        "                    c += 1\n",
        "            percision[j] = c/len(idx_red)\n",
        "            recall[j] = c/len(idx)\n",
        "        return percision, recall, np.mean(percision), np.mean(recall)\n",
        "    else:\n",
        "        print(colored(\"Pleas specify the value of k or r.\", \"yellow\"))"
      ],
      "execution_count": null,
      "outputs": []
    },
    {
      "cell_type": "markdown",
      "metadata": {
        "id": "Lh2p98tegtf-"
      },
      "source": [
        "### Average of percisions of all data points where each is used as kNN queries"
      ]
    },
    {
      "cell_type": "markdown",
      "metadata": {
        "id": "lmXe0250tHCk"
      },
      "source": [
        "With GAD as ground truth"
      ]
    },
    {
      "cell_type": "code",
      "metadata": {
        "colab": {
          "base_uri": "https://localhost:8080/"
        },
        "id": "gEx8Jxi_RuEM",
        "outputId": "b461009d-8f44-47b6-ca95-4a526299e671"
      },
      "source": [
        "# Note: for kNN queries percision and recall are the same\n",
        "print(\"option:\", option)\n",
        "percision = []\n",
        "recall = []\n",
        "mean_percision = []\n",
        "mean_recall = []\n",
        "\n",
        "for k in [5, 10, 20]:\n",
        "    a, b, c, d = precisionAndRecallData(data, N=k, max_limit=50, \n",
        "                            distsData=distsData, distsDataArgSorts=distsDataArgSorts, \n",
        "                            distsReducedData=distsReducedData, \n",
        "                            distsReducedDataArgSorts=distsReducedDataArgSorts, k=k, r=None)\n",
        "    percision.append(a)\n",
        "    recall.append(b)\n",
        "    mean_percision.append(c)\n",
        "    mean_recall.append(d)\n",
        "\n",
        "print(colored(f\"mean_percision: {np.array(mean_percision)}\", 'yellow'))\n",
        "print(\"mean_recall:\", np.array(mean_recall))"
      ],
      "execution_count": null,
      "outputs": [
        {
          "output_type": "stream",
          "name": "stdout",
          "text": [
            "option: binary\n",
            "\u001b[33mmean_percision: [0.87809524 0.91428571 0.95761905]\u001b[0m\n",
            "mean_recall: [0.87809524 0.91428571 0.95761905]\n"
          ]
        }
      ]
    },
    {
      "cell_type": "code",
      "metadata": {
        "colab": {
          "base_uri": "https://localhost:8080/"
        },
        "id": "1uMNCWgnUhCz",
        "outputId": "800a1022-1c8e-4544-8356-e4f43f0541c9"
      },
      "source": [
        "# Note: for kNN queries percision and recall are the same\n",
        "print(\"option:\", option)\n",
        "percision = []\n",
        "recall = []\n",
        "mean_percision = []\n",
        "mean_recall = []\n",
        "\n",
        "for k in [5, 10, 20]:\n",
        "    a, b, c, d = precisionAndRecallData(data, N=k, max_limit=50, \n",
        "                            distsData=distsData, distsDataArgSorts=distsDataArgSorts, \n",
        "                            distsReducedData=distsReducedData, \n",
        "                            distsReducedDataArgSorts=distsReducedDataArgSorts, k=k, r=None)\n",
        "    percision.append(a)\n",
        "    recall.append(b)\n",
        "    mean_percision.append(c)\n",
        "    mean_recall.append(d)\n",
        "\n",
        "print(colored(f\"mean_percision: {np.array(mean_percision)}\", 'yellow'))\n",
        "print(\"mean_recall:\", np.array(mean_recall))"
      ],
      "execution_count": null,
      "outputs": [
        {
          "output_type": "stream",
          "name": "stdout",
          "text": [
            "option: multipass\n",
            "\u001b[33mmean_percision: [0.93142857 0.93428571 0.97      ]\u001b[0m\n",
            "mean_recall: [0.93142857 0.93428571 0.97      ]\n"
          ]
        }
      ]
    },
    {
      "cell_type": "markdown",
      "metadata": {
        "id": "JDIaRQ3-s7f_"
      },
      "source": [
        "With dtw as ground truth"
      ]
    },
    {
      "cell_type": "code",
      "metadata": {
        "colab": {
          "base_uri": "https://localhost:8080/"
        },
        "id": "WxdJqX78R2aX",
        "outputId": "50b980b2-4c21-447c-cc7e-7e11ab801c0e"
      },
      "source": [
        "# Note: for kNN queries percision and recall are the same\n",
        "print(\"option:\", option)\n",
        "percision = []\n",
        "recall = []\n",
        "mean_percision = []\n",
        "mean_recall = []\n",
        "\n",
        "for k in [5, 10, 20]:\n",
        "    a, b, c, d = precisionAndRecallData(data, N=k, max_limit=50,\n",
        "                            distsData=dists_dtw, distsDataArgSorts=data_ranked_list_dtw, \n",
        "                            distsReducedData=distsReducedData, \n",
        "                            distsReducedDataArgSorts=distsReducedDataArgSorts, k=k, r=None)\n",
        "    percision.append(a)\n",
        "    recall.append(b)\n",
        "    mean_percision.append(c)\n",
        "    mean_recall.append(d)\n",
        "\n",
        "print(colored(f\"mean_percision: {np.array(mean_percision)}\", 'yellow'))\n",
        "print(\"mean_recall:\", np.array(mean_recall))"
      ],
      "execution_count": null,
      "outputs": [
        {
          "output_type": "stream",
          "name": "stdout",
          "text": [
            "option: binary\n",
            "\u001b[33mmean_percision: [0.56       0.53809524 0.50904762]\u001b[0m\n",
            "mean_recall: [0.56       0.53809524 0.50904762]\n"
          ]
        }
      ]
    },
    {
      "cell_type": "code",
      "metadata": {
        "colab": {
          "base_uri": "https://localhost:8080/"
        },
        "id": "yCysS-y9segs",
        "outputId": "635669a0-ce22-4d9a-f928-56bc03da974c"
      },
      "source": [
        "# Note: for kNN queries percision and recall are the same\n",
        "print(\"option:\", option)\n",
        "percision = []\n",
        "recall = []\n",
        "mean_percision = []\n",
        "mean_recall = []\n",
        "\n",
        "for k in [5, 10, 20]:\n",
        "    a, b, c, d = precisionAndRecallData(data, N=k, max_limit=50, \n",
        "                            distsData=dists_dtw, distsDataArgSorts=data_ranked_list_dtw, \n",
        "                            distsReducedData=distsReducedData, \n",
        "                            distsReducedDataArgSorts=distsReducedDataArgSorts, k=k, r=None)\n",
        "    percision.append(a)\n",
        "    recall.append(b)\n",
        "    mean_percision.append(c)\n",
        "    mean_recall.append(d)\n",
        "\n",
        "print(colored(f\"mean_percision: {np.array(mean_percision)}\", 'yellow'))\n",
        "print(\"mean_recall:\", np.array(mean_recall))"
      ],
      "execution_count": null,
      "outputs": [
        {
          "output_type": "stream",
          "name": "stdout",
          "text": [
            "option: multipass\n",
            "\u001b[33mmean_percision: [0.54285714 0.53333333 0.52809524]\u001b[0m\n",
            "mean_recall: [0.54285714 0.53333333 0.52809524]\n"
          ]
        }
      ]
    },
    {
      "cell_type": "markdown",
      "metadata": {
        "id": "fE8KpOEzg_jC"
      },
      "source": [
        "### Averages of percisions and recalls of all data points where each is used as range queries"
      ]
    },
    {
      "cell_type": "code",
      "metadata": {
        "colab": {
          "base_uri": "https://localhost:8080/"
        },
        "id": "P5QDba1thmzf",
        "outputId": "0e383887-529a-432f-80ee-0a67b16a2d70"
      },
      "source": [
        "np.max(distsData), np.max(distsReducedData)"
      ],
      "execution_count": null,
      "outputs": [
        {
          "output_type": "execute_result",
          "data": {
            "text/plain": [
              "(0.01428876932754324, 0.014246646851589056)"
            ]
          },
          "metadata": {},
          "execution_count": 119
        }
      ]
    },
    {
      "cell_type": "markdown",
      "metadata": {
        "id": "i3FiVGL2tm-z"
      },
      "source": [
        "With GAD as ground truth"
      ]
    },
    {
      "cell_type": "code",
      "metadata": {
        "colab": {
          "base_uri": "https://localhost:8080/"
        },
        "id": "yRAt4Ol2R4ez",
        "outputId": "8b798be3-510b-44ac-f210-2ce0abff42d2"
      },
      "source": [
        "print(\"option:\", option)\n",
        "percision = []\n",
        "recall = []\n",
        "mean_percision = []\n",
        "mean_recall = []\n",
        "\n",
        "for r in [0.002, 0.005, 0.01]:\n",
        "    a, b, c, d = precisionAndRecallData(data, N=10, max_limit=50,  \n",
        "                            distsData=distsData, distsDataArgSorts=distsDataArgSorts, \n",
        "                            distsReducedData=distsReducedData, \n",
        "                            distsReducedDataArgSorts=distsReducedDataArgSorts, k=None, r=r)\n",
        "    percision.append(a)\n",
        "    recall.append(b)\n",
        "    mean_percision.append(c)\n",
        "    mean_recall.append(d)\n",
        "\n",
        "print(colored(f\"mean_percision: {np.array(mean_percision)}\", 'yellow'))\n",
        "print(\"mean_recall:\", np.array(mean_recall))"
      ],
      "execution_count": null,
      "outputs": [
        {
          "output_type": "stream",
          "name": "stdout",
          "text": [
            "option: binary\n",
            "\u001b[33mmean_percision: [0.86344293 0.87754346 0.91714286]\u001b[0m\n",
            "mean_recall: [0.96571429 0.91619048 0.91714286]\n"
          ]
        }
      ]
    },
    {
      "cell_type": "code",
      "metadata": {
        "colab": {
          "base_uri": "https://localhost:8080/"
        },
        "id": "aa7IY8E1VBpA",
        "outputId": "b7c205b2-a22f-46a3-9c6c-fa48d851b0ea"
      },
      "source": [
        "print(\"option:\", option)\n",
        "percision = []\n",
        "recall = []\n",
        "mean_percision = []\n",
        "mean_recall = []\n",
        "\n",
        "for r in [0.002, 0.005, 0.01]:\n",
        "    a, b, c, d = precisionAndRecallData(data, N=10, max_limit=50, \n",
        "                            distsData=distsData, distsDataArgSorts=distsDataArgSorts, \n",
        "                            distsReducedData=distsReducedData, \n",
        "                            distsReducedDataArgSorts=distsReducedDataArgSorts, k=None, r=r)\n",
        "    percision.append(a)\n",
        "    recall.append(b)\n",
        "    mean_percision.append(c)\n",
        "    mean_recall.append(d)\n",
        "\n",
        "print(colored(f\"mean_percision: {np.array(mean_percision)}\", 'yellow'))\n",
        "print(\"mean_recall:\", np.array(mean_recall))"
      ],
      "execution_count": null,
      "outputs": [
        {
          "output_type": "stream",
          "name": "stdout",
          "text": [
            "option: multipass\n",
            "\u001b[33mmean_percision: [0.99142857 0.96031746 0.90564626]\u001b[0m\n",
            "mean_recall: [1.         1.         0.99904762]\n"
          ]
        }
      ]
    },
    {
      "cell_type": "markdown",
      "metadata": {
        "id": "ZprrIOH8tOhl"
      },
      "source": [
        " With dtw as ground truth"
      ]
    },
    {
      "cell_type": "code",
      "metadata": {
        "colab": {
          "base_uri": "https://localhost:8080/"
        },
        "id": "KP7RcLUk_7Qx",
        "outputId": "66508599-3c47-41c3-ce57-d69deb23ba40"
      },
      "source": [
        "print(\"option:\", option)\n",
        "percision = []\n",
        "recall = []\n",
        "mean_percision = []\n",
        "mean_recall = []\n",
        "\n",
        "for r in [0.002, 0.005, 0.01]:\n",
        "    a, b, c, d = precisionAndRecallData(data, N=10, max_limit=50,  \n",
        "                            distsData=dists_dtw/10, distsDataArgSorts=data_ranked_list_dtw, \n",
        "                            distsReducedData=distsReducedData, \n",
        "                            distsReducedDataArgSorts=distsReducedDataArgSorts, k=None, r=r)\n",
        "    percision.append(a)\n",
        "    recall.append(b)\n",
        "    mean_percision.append(c)\n",
        "    mean_recall.append(d)\n",
        "\n",
        "print(colored(f\"mean_percision: {np.array(mean_percision)}\", 'yellow'))\n",
        "print(\"mean_recall:\", np.array(mean_recall))"
      ],
      "execution_count": null,
      "outputs": [
        {
          "output_type": "stream",
          "name": "stdout",
          "text": [
            "option: binary\n",
            "\u001b[33mmean_percision: [0.57516629 0.36469388 0.37047619]\u001b[0m\n",
            "mean_recall: [0.9952381  0.95142857 0.87625472]\n"
          ]
        }
      ]
    },
    {
      "cell_type": "code",
      "metadata": {
        "colab": {
          "base_uri": "https://localhost:8080/"
        },
        "id": "aJeKcCPatRJe",
        "outputId": "60fcc28c-6fcc-4af0-a4b9-8e74ad32d811"
      },
      "source": [
        "print(\"option:\", option)\n",
        "percision = []\n",
        "recall = []\n",
        "mean_percision = []\n",
        "mean_recall = []\n",
        "\n",
        "for r in [0.002, 0.005, 0.01]:\n",
        "    a, b, c, d = precisionAndRecallData(data, N=10, max_limit=50, \n",
        "                            distsData=dists_dtw/10, distsDataArgSorts=data_ranked_list_dtw, \n",
        "                            distsReducedData=distsReducedData, \n",
        "                            distsReducedDataArgSorts=distsReducedDataArgSorts, k=None, r=r)\n",
        "    percision.append(a)\n",
        "    recall.append(b)\n",
        "    mean_percision.append(c)\n",
        "    mean_recall.append(d)\n",
        "\n",
        "print(colored(f\"mean_percision: {np.array(mean_percision)}\", 'yellow'))\n",
        "print(\"mean_recall:\", np.array(mean_recall))"
      ],
      "execution_count": null,
      "outputs": [
        {
          "output_type": "stream",
          "name": "stdout",
          "text": [
            "option: multipass\n",
            "\u001b[33mmean_percision: [1.         0.98571429 0.86869992]\u001b[0m\n",
            "mean_recall: [0.76428571 0.63738095 0.54518519]\n"
          ]
        }
      ]
    },
    {
      "cell_type": "markdown",
      "metadata": {
        "id": "ykgEe_po11W7"
      },
      "source": [
        "## AP and MAP"
      ]
    },
    {
      "cell_type": "code",
      "metadata": {
        "id": "ftathFPCMmJa"
      },
      "source": [
        "def precisionAndRecallDataPoint(index, N, max_limit, distsData, distsDataArgSorts, \n",
        "                                distsReducedData, distsReducedDataArgSorts, k=None, r=None): \n",
        "    '''\n",
        "    calculates percision and recall for one data point (as a query) @ N\n",
        "    index: the index of data point\n",
        "    path='/content/gdrive/My Drive/IR Project/Car-Bus/'\n",
        "    This function is not sensitive to k if k >= N\n",
        "    '''\n",
        "    if k:\n",
        "        c = 0\n",
        "        for i in range(N):\n",
        "            if distsReducedDataArgSorts[index][i] in distsDataArgSorts[index][:N]:\n",
        "                c += 1\n",
        "        percision = c/N\n",
        "        recall = c/N\n",
        "        return percision, recall\n",
        "    elif r:\n",
        "        c = 0\n",
        "        idx = np.where(distsData[index] < r)[0]\n",
        "        idx_red = np.where(distsReducedData[index] < r)[0]\n",
        "        I = np.argsort(distsData[index][idx])\n",
        "        idx = idx[I][:min(max_limit, N)]\n",
        "        J = np.argsort(distsReducedData[index][idx_red])\n",
        "        idx_red = idx_red[J][:min(max_limit, N)]\n",
        "        for i in range(len(idx_red)):\n",
        "            if idx_red[i] in idx:\n",
        "                c += 1\n",
        "        percision = c/len(idx_red)\n",
        "        recall = c/len(idx)\n",
        "        return percision, recall\n",
        "    else:\n",
        "        print(colored(\"Pleas specify the value of k or r.\", \"yellow\"))"
      ],
      "execution_count": null,
      "outputs": []
    },
    {
      "cell_type": "code",
      "metadata": {
        "id": "LmXpSgnI7aZk"
      },
      "source": [
        "def averagePrecisionData(data, path, max_limit, reduction_dim, reducedData,  \n",
        "                         option, k=None, r=None, dtw=False):\n",
        "    '''\n",
        "    calculates average percision (AP) for all data points as well as \n",
        "    the average of AP on all data points as queries (i.e. MAP)\n",
        "    path='/content/gdrive/My Drive/IR Project/Car-Bus/'\n",
        "    Note: Don't give values for both k and r (one of them should be None).\n",
        "    '''\n",
        "    if dtw:\n",
        "        distsData = dists_dtw/10\n",
        "        distsDataArgSorts = data_ranked_list_dtw\n",
        "    else:\n",
        "        distsData = np.array(pd.read_csv(path+\"distsData_\"+option+\".csv\", header=None))\n",
        "        distsDataArgSorts = np.array(pd.read_csv(path+\"distsDataArgSorts_\"+option+\".csv\", header=None))\n",
        "    \n",
        "    distsReducedData = np.array(pd.read_csv(path+\"distsReducedData_\"+option+\".csv\", header=None))\n",
        "    distsReducedDataArgSorts = np.array(pd.read_csv(path+\"distsReducedDataArgSorts_\"+option+\".csv\", header=None))\n",
        "    n = len(data)\n",
        "    AP = np.zeros(n)\n",
        "    if k:\n",
        "        AP_temp = np.zeros((k, n))\n",
        "        for i in range(k):\n",
        "            percision, _, _, _ = precisionAndRecallData(data, i+1, max_limit,  \n",
        "                                    distsData, distsDataArgSorts, distsReducedData, \n",
        "                                    distsReducedDataArgSorts, k=k, r=r)\n",
        "            for t in range(n):\n",
        "                if distsReducedDataArgSorts[t][i] in distsDataArgSorts[t]:\n",
        "                    AP_temp[i][t] = percision[t] \n",
        "\n",
        "        AP = np.mean(AP_temp, 0)\n",
        "        MAP = np.mean(AP)\n",
        "        return AP, MAP\n",
        "    elif r:\n",
        "        for t in range(n):\n",
        "            AP_temp = []\n",
        "            s = len(queryRankList(data[t], reduction_dim, option, max_limit, k=None, r=r))\n",
        "            for i in range(s):\n",
        "                percision, _ = precisionAndRecallDataPoint(t, i+1, max_limit,  \n",
        "                                distsData, distsDataArgSorts, distsReducedData, \n",
        "                                    distsReducedDataArgSorts, k=None, r=r)\n",
        "                idx = np.where(distsData[t] < r)[0]\n",
        "                idx_red = np.where(distsReducedData[t] < r)[0]\n",
        "                I = np.argsort(distsData[t][idx])\n",
        "                idx = idx[I][:min(max_limit, i+1)]\n",
        "                J = np.argsort(distsReducedData[t][idx_red])\n",
        "                idx_red = idx_red[J][:min(max_limit, i+1)]\n",
        "                if i < len(idx_red):\n",
        "                    if idx_red[i] in idx:\n",
        "                        AP_temp.append(percision)\n",
        "            AP[t] = np.sum(AP_temp)/s\n",
        "        MAP = np.mean(AP)\n",
        "        return AP, MAP"
      ],
      "execution_count": null,
      "outputs": []
    },
    {
      "cell_type": "markdown",
      "metadata": {
        "id": "jwk7C49djxHs"
      },
      "source": [
        "### AP and MAP for kNN queries"
      ]
    },
    {
      "cell_type": "markdown",
      "metadata": {
        "id": "ullO65ldROlJ"
      },
      "source": [
        "#### binary"
      ]
    },
    {
      "cell_type": "code",
      "metadata": {
        "colab": {
          "base_uri": "https://localhost:8080/"
        },
        "id": "WKkb_OqaRL5G",
        "outputId": "1306be74-6f63-4a15-cb9b-3708f5ba7004"
      },
      "source": [
        "start_time = time.time()\n",
        "print(\"option:\", option)\n",
        "AP = []\n",
        "MAP = []\n",
        "path = '/content/gdrive/My Drive/IR Project/Car-Bus/'\n",
        "\n",
        "for k in [5, 10, 20]:\n",
        "    a, b = averagePrecisionData(data, path, max_limit, reduction_dim, \n",
        "                                reducedData, option, k=k, r=None, dtw=False)\n",
        "    AP.append(a)\n",
        "    MAP.append(b)\n",
        "\n",
        "print(colored(f\"MAP: {np.array(MAP)}\", 'yellow'))\n",
        "print(\"Total time:\", time.time() - start_time)"
      ],
      "execution_count": null,
      "outputs": [
        {
          "output_type": "stream",
          "name": "stdout",
          "text": [
            "option: binary\n",
            "\u001b[33mMAP: [0.89292063 0.89955367 0.92400032]\u001b[0m\n",
            "Total time: 0.34138035774230957\n"
          ]
        }
      ]
    },
    {
      "cell_type": "markdown",
      "metadata": {
        "id": "uCWrmbwZLkB-"
      },
      "source": [
        "with dtw"
      ]
    },
    {
      "cell_type": "code",
      "metadata": {
        "colab": {
          "base_uri": "https://localhost:8080/"
        },
        "id": "FhmTYDuq2w2H",
        "outputId": "4772365d-76aa-4325-ff55-253f34a3acef"
      },
      "source": [
        "print(\"option:\", option)\n",
        "start_time = time.time()\n",
        "AP = []\n",
        "MAP = []\n",
        "\n",
        "for k in [5, 10, 20]:\n",
        "    a, b = averagePrecisionData(data, path, max_limit, reduction_dim, \n",
        "                                reducedData, option, k=k, r=None, dtw=True)\n",
        "    AP.append(a)\n",
        "    MAP.append(b)\n",
        "\n",
        "print(colored(f\"MAP: {np.array(MAP)}\", 'yellow'))\n",
        "print(\"Total time:\", time.time() - start_time)"
      ],
      "execution_count": null,
      "outputs": [
        {
          "output_type": "stream",
          "name": "stdout",
          "text": [
            "option: binary\n",
            "\u001b[33mMAP: [0.65803175 0.6022585  0.55688166]\u001b[0m\n",
            "Total time: 0.3364250659942627\n"
          ]
        }
      ]
    },
    {
      "cell_type": "markdown",
      "metadata": {
        "id": "53LI7a25RSOD"
      },
      "source": [
        "#### Multipass"
      ]
    },
    {
      "cell_type": "code",
      "metadata": {
        "colab": {
          "base_uri": "https://localhost:8080/"
        },
        "id": "nnXQfnalulef",
        "outputId": "35bbe15f-93bb-47a8-9d3e-c9ab005ad728"
      },
      "source": [
        "start_time = time.time()\n",
        "print(\"option:\", option)\n",
        "AP = []\n",
        "MAP = []\n",
        "\n",
        "for k in [5, 10, 20]:\n",
        "    a, b = averagePrecisionData(data, path, max_limit, reduction_dim, \n",
        "                                reducedData, option, k=k, r=None, dtw=False)\n",
        "    AP.append(a)\n",
        "    MAP.append(b)\n",
        "\n",
        "print(colored(f\"MAP: {np.array(MAP)}\", 'yellow'))\n",
        "print(\"Total time:\", time.time() - start_time)"
      ],
      "execution_count": null,
      "outputs": [
        {
          "output_type": "stream",
          "name": "stdout",
          "text": [
            "option: multipass\n",
            "\u001b[33mMAP: [0.95787302 0.94957974 0.95298007]\u001b[0m\n",
            "Total time: 0.34154462814331055\n"
          ]
        }
      ]
    },
    {
      "cell_type": "markdown",
      "metadata": {
        "id": "fh-8vCRDL0xg"
      },
      "source": [
        "with dtw"
      ]
    },
    {
      "cell_type": "code",
      "metadata": {
        "colab": {
          "base_uri": "https://localhost:8080/"
        },
        "id": "sN98uizJVv6b",
        "outputId": "6edb391b-94a3-4325-c469-7a9e27344783"
      },
      "source": [
        "print(\"option:\", option)\n",
        "start_time = time.time()\n",
        "AP = []\n",
        "MAP = []\n",
        "\n",
        "for k in [5, 10, 20]:\n",
        "    a, b = averagePrecisionData(data, path, max_limit, reduction_dim, \n",
        "                                reducedData, option, k=k, r=None, dtw=True)\n",
        "    AP.append(a)\n",
        "    MAP.append(b)\n",
        "\n",
        "print(colored(f\"MAP: {np.array(MAP)}\", 'yellow'))\n",
        "print(\"Total time:\", time.time() - start_time)"
      ],
      "execution_count": null,
      "outputs": [
        {
          "output_type": "stream",
          "name": "stdout",
          "text": [
            "option: multipass\n",
            "\u001b[33mMAP: [0.66460317 0.59773621 0.56226299]\u001b[0m\n",
            "Total time: 0.3031306266784668\n"
          ]
        }
      ]
    },
    {
      "cell_type": "markdown",
      "metadata": {
        "id": "R453Ju8fj-G5"
      },
      "source": [
        "### AP and MAP for range queries"
      ]
    },
    {
      "cell_type": "markdown",
      "metadata": {
        "id": "gwednoWLRD7B"
      },
      "source": [
        "#### binary"
      ]
    },
    {
      "cell_type": "code",
      "metadata": {
        "colab": {
          "base_uri": "https://localhost:8080/"
        },
        "id": "j5xT45mc6buP",
        "outputId": "b6877748-2629-455a-9764-e1991510ac88"
      },
      "source": [
        "start_time = time.time()\n",
        "print(\"option:\", option)\n",
        "AP = []\n",
        "MAP = []\n",
        "\n",
        "for r in [0.002, 0.005, 0.01]:\n",
        "    s = time.time()\n",
        "    a, b = averagePrecisionData(data, path, max_limit, reduction_dim, \n",
        "                                reducedData, option, k=None, r=r, dtw=False)\n",
        "    AP.append(a)\n",
        "    MAP.append(b)\n",
        "    print(f\"time for {r}: {time.time() - s}\")\n",
        "    \n",
        "print(colored(f\"MAP: {np.array(MAP)}\", 'yellow'))\n",
        "print(time.time() - start_time)"
      ],
      "execution_count": null,
      "outputs": [
        {
          "output_type": "stream",
          "name": "stdout",
          "text": [
            "option: binary\n",
            "time for 0.002: 101.30378484725952\n",
            "time for 0.005: 102.26783227920532\n",
            "time for 0.01: 102.7100875377655\n",
            "\u001b[33mMAP: [0.80612116 0.7228063  0.72737918]\u001b[0m\n",
            "306.2884039878845\n"
          ]
        }
      ]
    },
    {
      "cell_type": "markdown",
      "metadata": {
        "id": "HKOCRSHgMMhx"
      },
      "source": [
        "with dtw"
      ]
    },
    {
      "cell_type": "code",
      "metadata": {
        "colab": {
          "base_uri": "https://localhost:8080/"
        },
        "id": "b4wMQ79C8Gwq",
        "outputId": "0de66955-b2bd-43c4-da26-83cb8c387005"
      },
      "source": [
        "np.max(dists_dtw)/10"
      ],
      "execution_count": null,
      "outputs": [
        {
          "output_type": "execute_result",
          "data": {
            "text/plain": [
              "0.17211629604418585"
            ]
          },
          "metadata": {},
          "execution_count": 127
        }
      ]
    },
    {
      "cell_type": "code",
      "metadata": {
        "colab": {
          "base_uri": "https://localhost:8080/"
        },
        "id": "taNPw9tP8YUQ",
        "outputId": "b1d155d8-53f4-4510-9117-069d46b6d405"
      },
      "source": [
        "start_time = time.time()\n",
        "print(\"option:\", option)\n",
        "AP = []\n",
        "MAP = []\n",
        "\n",
        "for r in [0.002, 0.005, 0.01]:\n",
        "    s = time.time()\n",
        "    a, b = averagePrecisionData(data, path, max_limit, reduction_dim, \n",
        "                                reducedData, option, k=None, r=r, dtw=True)\n",
        "    AP.append(a)\n",
        "    MAP.append(b)\n",
        "    print(f\"time for {r}: {time.time() - s}\")\n",
        "    \n",
        "print(colored(f\"MAP: {np.array(MAP)}\", 'yellow'))\n",
        "print(time.time() - start_time)"
      ],
      "execution_count": null,
      "outputs": [
        {
          "output_type": "stream",
          "name": "stdout",
          "text": [
            "option: binary\n",
            "time for 0.002: 101.32318472862244\n",
            "time for 0.005: 101.62988615036011\n",
            "time for 0.01: 101.82222056388855\n",
            "\u001b[33mMAP: [0.49609288 0.16235595 0.06341763]\u001b[0m\n",
            "304.779910326004\n"
          ]
        }
      ]
    },
    {
      "cell_type": "markdown",
      "metadata": {
        "id": "sfSxiNpWQ4Nt"
      },
      "source": [
        "#### Multipass"
      ]
    },
    {
      "cell_type": "code",
      "metadata": {
        "colab": {
          "base_uri": "https://localhost:8080/"
        },
        "id": "FHvCc_jrXI16",
        "outputId": "195053e2-7596-4416-8979-bbaff90409e3"
      },
      "source": [
        "start_time = time.time()\n",
        "print(\"option:\", option)\n",
        "AP = []\n",
        "MAP = []\n",
        "\n",
        "for r in [0.002, 0.005, 0.01]:\n",
        "    s = time.time()\n",
        "    a, b = averagePrecisionData(data, path, max_limit, reduction_dim, \n",
        "                                reducedData, option, k=None, r=r, dtw=False)\n",
        "    AP.append(a)\n",
        "    MAP.append(b)\n",
        "    print(f\"time for {r}: {time.time() - s}\")\n",
        "    \n",
        "print(colored(f\"MAP: {np.array(MAP)}\", 'yellow'))\n",
        "print(time.time() - start_time)"
      ],
      "execution_count": null,
      "outputs": [
        {
          "output_type": "stream",
          "name": "stdout",
          "text": [
            "option: multipass\n",
            "time for 0.002: 101.0801637172699\n",
            "time for 0.005: 100.64984893798828\n",
            "time for 0.01: 100.59296822547913\n",
            "\u001b[33mMAP: [0.99142857 0.96031746 0.89141311]\u001b[0m\n",
            "302.3275215625763\n"
          ]
        }
      ]
    },
    {
      "cell_type": "markdown",
      "metadata": {
        "id": "AeTZB2lPMV8P"
      },
      "source": [
        "with dtw"
      ]
    },
    {
      "cell_type": "code",
      "metadata": {
        "colab": {
          "base_uri": "https://localhost:8080/"
        },
        "id": "StXLhqecwQkB",
        "outputId": "dd652e44-a54f-4016-df55-fbf45fcae96f"
      },
      "source": [
        "start_time = time.time()\n",
        "print(\"option:\", option)\n",
        "AP = []\n",
        "MAP = []\n",
        "\n",
        "for r in [0.002, 0.005, 0.01]:\n",
        "    s = time.time()\n",
        "    a, b = averagePrecisionData(data, path, max_limit, reduction_dim, \n",
        "                                reducedData, option, k=None, r=r, dtw=True)\n",
        "    AP.append(a)\n",
        "    MAP.append(b)\n",
        "    print(f\"time for {r}: {time.time() - s}\")\n",
        "    \n",
        "print(colored(f\"MAP: {np.array(MAP)}\", 'yellow'))\n",
        "print(time.time() - start_time)"
      ],
      "execution_count": null,
      "outputs": [
        {
          "output_type": "stream",
          "name": "stdout",
          "text": [
            "option: multipass\n",
            "time for 0.002: 100.52183413505554\n",
            "time for 0.005: 100.72295641899109\n",
            "time for 0.01: 101.19451594352722\n",
            "\u001b[33mMAP: [0.98169841 0.95239153 0.77363392]\u001b[0m\n",
            "302.4450349807739\n"
          ]
        }
      ]
    },
    {
      "cell_type": "markdown",
      "metadata": {
        "id": "lJdKsTEtQxOy"
      },
      "source": [
        "## nDCG"
      ]
    },
    {
      "cell_type": "code",
      "metadata": {
        "id": "TSSjAe_9iody"
      },
      "source": [
        "def nDCG(data, path, max_limit, reduction_dim, option, N, k=None, r=None, dtw=False):\n",
        "    '''\n",
        "    calculates average nDCG @N for all data points as well as \n",
        "    the average of nDCG @N on all data points as queries;\n",
        "    N should be <= k;\n",
        "    path='/content/gdrive/My Drive/IR Project/Car-Bus/'\n",
        "    Note: Don't give values for both k and r (one of them should be None).\n",
        "    '''\n",
        "    if dtw:\n",
        "        distsData = dists_dtw/10\n",
        "        distsDataArgSorts = data_ranked_list_dtw\n",
        "    else:\n",
        "        distsData = np.array(pd.read_csv(path+\"distsData_\"+option+\".csv\", header=None))\n",
        "        distsDataArgSorts = np.array(pd.read_csv(path+\"distsDataArgSorts_\"+option+\".csv\", header=None))\n",
        "        \n",
        "    distsReducedData = np.array(pd.read_csv(path+\"distsReducedData_\"+option+\".csv\", header=None))\n",
        "    distsReducedDataArgSorts = np.array(pd.read_csv(path+\"distsReducedDataArgSorts_\"+option+\".csv\", header=None))\n",
        "    DCG = np.zeros(len(data))\n",
        "    if k: \n",
        "        iDCG = np.sum([(k-i)/math.log(i+2, 2) for i in range(k)])\n",
        "        for j in range(len(data)):\n",
        "            rel = np.zeros(N)\n",
        "            for i in range(N):\n",
        "                if distsReducedDataArgSorts[j][i] in distsDataArgSorts[j]:\n",
        "                    if k - distsDataArgSorts[j].tolist().index(distsReducedDataArgSorts[j][i]) > 0:\n",
        "                        rel[i] = k - distsDataArgSorts[j].tolist().index(distsReducedDataArgSorts[j][i])\n",
        "            DCG[j] = np.sum([rel[i]/math.log(i+2, 2) for i in range(N)])\n",
        "        return DCG/iDCG, np.mean(DCG/iDCG)\n",
        "    elif r:\n",
        "        relevance = list(reversed(range(1, N+1)))\n",
        "        iDCG = np.sum([relevance[i]/math.log(i+2, 2) for i in range(N)])\n",
        "        for j in range(len(data)):\n",
        "            I = np.where(distsData[j] < r)[0]\n",
        "            relevant = distsDataArgSorts[j][:len(I)]\n",
        "            J = np.where(distsReducedData[j] < r)[0]\n",
        "            retrieved = distsReducedDataArgSorts[j][:len(J)]\n",
        "            rel = np.zeros(N)\n",
        "            for i in range(N):\n",
        "                if distsReducedDataArgSorts[j][i] in distsReducedDataArgSorts[j][:len(I)]:\n",
        "                    if N - distsDataArgSorts[j].tolist().index(distsReducedDataArgSorts[j][i]) > 0:\n",
        "                        rel[i] = N - distsDataArgSorts[j].tolist().index(distsReducedDataArgSorts[j][i])\n",
        "            DCG[j] = np.sum([rel[i]/math.log(i+2, 2) for i in range(N)])\n",
        "        return DCG/iDCG, np.mean(DCG/iDCG)"
      ],
      "execution_count": null,
      "outputs": []
    },
    {
      "cell_type": "markdown",
      "metadata": {
        "id": "ANs2C5T2Qnsh"
      },
      "source": [
        "### nDCG for binary"
      ]
    },
    {
      "cell_type": "code",
      "metadata": {
        "colab": {
          "base_uri": "https://localhost:8080/"
        },
        "id": "UpcMgTykOd2i",
        "outputId": "792ee8f5-e137-4462-b087-4e5061892db9"
      },
      "source": [
        "# N <= k\n",
        "print(\"option:\", option)\n",
        "nDCGs = []\n",
        "for k in [5, 10, 20]:\n",
        "    nDCGs.append(nDCG(data, path, max_limit, reduction_dim, option, N=5, k=k, \n",
        "                      r=None, dtw=False)[1])\n",
        "print(colored(f'nDCGs: {np.array(nDCGs)}', 'yellow'))\n",
        "\n",
        "nDCGs = []\n",
        "for k in [5, 10, 20]:\n",
        "    nDCGs.append(nDCG(data, path, max_limit, reduction_dim, option, N=10, k=k, \n",
        "                      r=None, dtw=False)[1])\n",
        "print(colored(f'nDCGs: {np.array(nDCGs)}', 'yellow'))"
      ],
      "execution_count": null,
      "outputs": [
        {
          "output_type": "stream",
          "name": "stdout",
          "text": [
            "option: binary\n",
            "\u001b[33mnDCGs: [0.93999555 0.79020355 0.59074107]\u001b[0m\n",
            "\u001b[33mnDCGs: [0.96459956 0.95878266 0.82099129]\u001b[0m\n"
          ]
        }
      ]
    },
    {
      "cell_type": "markdown",
      "metadata": {
        "id": "ObY2qLqvMjzV"
      },
      "source": [
        "with dtw"
      ]
    },
    {
      "cell_type": "code",
      "metadata": {
        "colab": {
          "base_uri": "https://localhost:8080/"
        },
        "id": "g4INU-5Ib5bx",
        "outputId": "d0c3f570-b9cc-4e4a-ad77-392acecb469b"
      },
      "source": [
        "# N <= k\n",
        "print(\"option:\", option)\n",
        "nDCGs = []\n",
        "for k in [5, 10, 20]:\n",
        "    nDCGs.append(nDCG(data, path, max_limit, reduction_dim, option, N=5, k=k, \n",
        "                      r=None, dtw=True)[1])\n",
        "print(colored(f'nDCGs: {np.array(nDCGs)}', 'yellow'))\n",
        "\n",
        "nDCGs = []\n",
        "for k in [5, 10, 20]:\n",
        "    nDCGs.append(nDCG(data, path, max_limit, reduction_dim, option, N=10, k=k, \n",
        "                      r=None, dtw=True)[1])\n",
        "print(colored(f'nDCGs: {np.array(nDCGs)}', 'yellow'))"
      ],
      "execution_count": null,
      "outputs": [
        {
          "output_type": "stream",
          "name": "stdout",
          "text": [
            "option: binary\n",
            "\u001b[33mnDCGs: [0.73911551 0.59913406 0.45134234]\u001b[0m\n",
            "\u001b[33mnDCGs: [0.80883322 0.71703946 0.58618933]\u001b[0m\n"
          ]
        }
      ]
    },
    {
      "cell_type": "code",
      "metadata": {
        "colab": {
          "base_uri": "https://localhost:8080/"
        },
        "id": "u9A59IXVOd2j",
        "outputId": "d9e98f7a-2fae-4f0c-d0bd-58ae32051ea5"
      },
      "source": [
        "print(\"option:\", option)\n",
        "nDCGs = []\n",
        "for r in [0.002, 0.005, 0.01]:\n",
        "    nDCGs.append(nDCG(data, path, max_limit, reduction_dim, option, N=5, k=None,\n",
        "                      r=r, dtw=False)[1])\n",
        "print(colored(f'nDCGs@5: {np.array(nDCGs)}', 'yellow'))\n",
        "\n",
        "nDCGs = []\n",
        "for r in [0.002, 0.005, 0.01]:\n",
        "    nDCGs.append(nDCG(data, path, max_limit, reduction_dim, option, N=10, k=None,\n",
        "                      r=r, dtw=False)[1])\n",
        "print(colored(f'nDCGs@10: {np.array(nDCGs)}', 'yellow'))"
      ],
      "execution_count": null,
      "outputs": [
        {
          "output_type": "stream",
          "name": "stdout",
          "text": [
            "option: binary\n",
            "\u001b[33mnDCGs@5: [0.74906277 0.89554195 0.93999555]\u001b[0m\n",
            "\u001b[33mnDCGs@10: [0.63125019 0.88954515 0.95878266]\u001b[0m\n"
          ]
        }
      ]
    },
    {
      "cell_type": "markdown",
      "metadata": {
        "id": "CSJ6MAXQM5WS"
      },
      "source": [
        "with dtw"
      ]
    },
    {
      "cell_type": "code",
      "metadata": {
        "colab": {
          "base_uri": "https://localhost:8080/"
        },
        "id": "AHN4Qx4JOd2j",
        "outputId": "21d3b8af-533e-4dfb-9426-2bdd19c3cf74"
      },
      "source": [
        "print(\"option:\", option)\n",
        "nDCGs = []\n",
        "for r in [0.002, 0.005, 0.01]:\n",
        "    nDCGs.append(nDCG(data, path, max_limit, reduction_dim, option, N=5, k=None,\n",
        "                      r=r, dtw=True)[1])\n",
        "print(colored(f'nDCGs@5: {np.array(nDCGs)}', 'yellow'))\n",
        "\n",
        "nDCGs = []\n",
        "for r in [0.002, 0.005, 0.01]:\n",
        "    nDCGs.append(nDCG(data, path, max_limit, reduction_dim, option, N=10, k=None,\n",
        "                      r=r, dtw=True)[1])\n",
        "print(colored(f'nDCGs@10: {np.array(nDCGs)}', 'yellow'))"
      ],
      "execution_count": null,
      "outputs": [
        {
          "output_type": "stream",
          "name": "stdout",
          "text": [
            "option: binary\n",
            "\u001b[33mnDCGs@5: [0.59572162 0.65426992 0.69134012]\u001b[0m\n",
            "\u001b[33mnDCGs@10: [0.45504448 0.53047428 0.5860093 ]\u001b[0m\n"
          ]
        }
      ]
    },
    {
      "cell_type": "markdown",
      "metadata": {
        "id": "cdqRqbMQQa-g"
      },
      "source": [
        "### nDCG for multipass"
      ]
    },
    {
      "cell_type": "code",
      "metadata": {
        "colab": {
          "base_uri": "https://localhost:8080/"
        },
        "id": "r5ByWBPgNcQ7",
        "outputId": "22980f2b-f92d-4f2f-e5f7-5c99cae51c82"
      },
      "source": [
        "# N <= k\n",
        "print(\"option:\", option)\n",
        "nDCGs = []\n",
        "for k in [5, 10, 20]:\n",
        "    nDCGs.append(nDCG(data, path, max_limit, reduction_dim, option, N=5, k=k, \n",
        "                      r=None, dtw=False)[1])\n",
        "print(colored(f'nDCGs: {np.array(nDCGs)}', 'yellow'))\n",
        "\n",
        "nDCGs = []\n",
        "for k in [5, 10, 20]:\n",
        "    nDCGs.append(nDCG(data, path, max_limit, reduction_dim, option, N=10, k=k, \n",
        "                      r=None, dtw=False)[1])\n",
        "print(colored(f'nDCGs: {np.array(nDCGs)}', 'yellow'))"
      ],
      "execution_count": null,
      "outputs": [
        {
          "output_type": "stream",
          "name": "stdout",
          "text": [
            "option: multipass\n",
            "\u001b[33mnDCGs: [0.98087892 0.82095106 0.60239576]\u001b[0m\n",
            "\u001b[33mnDCGs: [0.9941699  0.98562477 0.82980385]\u001b[0m\n"
          ]
        }
      ]
    },
    {
      "cell_type": "markdown",
      "metadata": {
        "id": "miTba9N6NEY5"
      },
      "source": [
        "with dtw"
      ]
    },
    {
      "cell_type": "code",
      "metadata": {
        "colab": {
          "base_uri": "https://localhost:8080/"
        },
        "id": "yj_wg5rY02Ss",
        "outputId": "af8d8934-913b-444f-d764-9630e0388316"
      },
      "source": [
        "# N <= k *\n",
        "print(\"option:\", option)\n",
        "nDCGs = []\n",
        "for k in [5, 10, 20]:\n",
        "    nDCGs.append(nDCG(data, path, max_limit, reduction_dim, option, N=5, k=k, \n",
        "                      r=None, dtw=True)[1])\n",
        "print(colored(f'nDCGs: {np.array(nDCGs)}', 'yellow'))\n",
        "\n",
        "nDCGs = []\n",
        "for k in [5, 10, 20]:\n",
        "    nDCGs.append(nDCG(data, path, max_limit, reduction_dim, option, N=10, k=k, \n",
        "                      r=None, dtw=True)[1])\n",
        "print(colored(f'nDCGs: {np.array(nDCGs)}', 'yellow'))"
      ],
      "execution_count": null,
      "outputs": [
        {
          "output_type": "stream",
          "name": "stdout",
          "text": [
            "option: multipass\n",
            "\u001b[33mnDCGs: [0.73093142 0.5974528  0.46068081]\u001b[0m\n",
            "\u001b[33mnDCGs: [0.79638853 0.70525119 0.5880617 ]\u001b[0m\n"
          ]
        }
      ]
    },
    {
      "cell_type": "code",
      "metadata": {
        "colab": {
          "base_uri": "https://localhost:8080/"
        },
        "id": "KFQAf0P6OPj-",
        "outputId": "772b3bca-ca12-4632-9d71-bcbf68ff2b9d"
      },
      "source": [
        "print(\"option:\", option)\n",
        "nDCGs = []\n",
        "for r in [0.002, 0.005, 0.01]:\n",
        "    nDCGs.append(nDCG(data, path, max_limit, reduction_dim, option, N=5, k=None,\n",
        "                      r=r, dtw=False)[1])\n",
        "print(colored(f'nDCGs@5: {np.array(nDCGs)}', 'yellow'))\n",
        "\n",
        "nDCGs = []\n",
        "for r in [0.002, 0.005, 0.01]:\n",
        "    nDCGs.append(nDCG(data, path, max_limit, reduction_dim, option, N=10, k=None,\n",
        "                      r=r, dtw=False)[1])\n",
        "print(colored(f'nDCGs@10: {np.array(nDCGs)}', 'yellow'))"
      ],
      "execution_count": null,
      "outputs": [
        {
          "output_type": "stream",
          "name": "stdout",
          "text": [
            "option: multipass\n",
            "\u001b[33mnDCGs@5: [0.51753121 0.53928247 0.62596538]\u001b[0m\n",
            "\u001b[33mnDCGs@10: [0.35992109 0.37922571 0.47370696]\u001b[0m\n"
          ]
        }
      ]
    },
    {
      "cell_type": "markdown",
      "metadata": {
        "id": "cLulBk_UTjoL"
      },
      "source": [
        "with dtw"
      ]
    },
    {
      "cell_type": "code",
      "metadata": {
        "colab": {
          "base_uri": "https://localhost:8080/"
        },
        "id": "MPk9NHz4OW1M",
        "outputId": "d4e29b6a-05ad-4a3a-ca4c-5422c5143169"
      },
      "source": [
        "print(\"option:\", option)\n",
        "nDCGs = []\n",
        "for r in [0.002, 0.005, 0.01]:\n",
        "    nDCGs.append(nDCG(data, path, max_limit, reduction_dim, option, N=5, k=None,\n",
        "                      r=r, dtw=True)[1])\n",
        "print(colored(f'nDCGs@5: {np.array(nDCGs)}', 'yellow'))\n",
        "\n",
        "nDCGs = []\n",
        "for r in [0.002, 0.005, 0.01]:\n",
        "    nDCGs.append(nDCG(data, path, max_limit, reduction_dim, option, N=10, k=None,\n",
        "                      r=r, dtw=True)[1])\n",
        "print(colored(f'nDCGs@10: {np.array(nDCGs)}', 'yellow'))"
      ],
      "execution_count": null,
      "outputs": [
        {
          "output_type": "stream",
          "name": "stdout",
          "text": [
            "option: multipass\n",
            "\u001b[33mnDCGs@5: [0.5931745  0.64160653 0.67822177]\u001b[0m\n",
            "\u001b[33mnDCGs@10: [0.43632625 0.50724123 0.56315435]\u001b[0m\n"
          ]
        }
      ]
    }
  ]
}