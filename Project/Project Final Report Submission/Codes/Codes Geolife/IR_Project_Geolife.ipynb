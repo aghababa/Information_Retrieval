{
 "cells": [
  {
   "cell_type": "code",
   "execution_count": 3,
   "metadata": {
    "id": "YlTyxo7OwZxt"
   },
   "outputs": [],
   "source": [
    "#pip install tslearn"
   ]
  },
  {
   "cell_type": "code",
   "execution_count": 1,
   "metadata": {
    "id": "b5BXAvdNQw5t",
    "scrolled": true
   },
   "outputs": [],
   "source": [
    "import glob\n",
    "import numpy as np \n",
    "import time\n",
    "import math\n",
    "import random\n",
    "from scipy import linalg as LA\n",
    "import pandas as pd\n",
    "import matplotlib as mpl\n",
    "import matplotlib.pyplot as plt\n",
    "from termcolor import colored\n",
    "import csv\n",
    "#import tslearn\n",
    "#from tslearn.metrics import dtw"
   ]
  },
  {
   "cell_type": "markdown",
   "metadata": {
    "id": "FvCrw-XVT1mL"
   },
   "source": [
    "# Cleaned csv data"
   ]
  },
  {
   "cell_type": "code",
   "execution_count": 46,
   "metadata": {
    "colab": {
     "base_uri": "https://localhost:8080/"
    },
    "id": "q7HjuCywSo8A",
    "outputId": "bf935450-e3c6-4257-9a0f-32663b63fa6f"
   },
   "outputs": [
    {
     "data": {
      "text/plain": [
       "14187"
      ]
     },
     "execution_count": 46,
     "metadata": {},
     "output_type": "execute_result"
    }
   ],
   "source": [
    "path = '/Users/hasan/Desktop/Anaconda/IR Project data/Cleaned Geolife csv format/'\n",
    "I = glob.glob(path+'/*.csv', recursive=True)\n",
    "\n",
    "data = []\n",
    "for i in range(len(I)):\n",
    "    data.append(np.array(pd.read_csv(path+str(i)+'.csv', header=None)))\n",
    "\n",
    "data = np.array(data, dtype=object)\n",
    "print(len(data))"
   ]
  },
  {
   "cell_type": "markdown",
   "metadata": {
    "id": "3QDO5FcsY8Ax"
   },
   "source": [
    "# Vectorizing trajectories"
   ]
  },
  {
   "cell_type": "code",
   "execution_count": 47,
   "metadata": {
    "id": "E4Q4gb9hiv8Y"
   },
   "outputs": [],
   "source": [
    "n_x_grids = 50\n",
    "n_y_grids = 50\n",
    "sigma_coeff = 3\n",
    "M = len(data)\n",
    "reduction_dim = 100\n",
    "option = 'binary' #'multipass'\n",
    "max_limit = 50"
   ]
  },
  {
   "cell_type": "code",
   "execution_count": 48,
   "metadata": {
    "id": "BKVAHls23t6V"
   },
   "outputs": [],
   "source": [
    "def getGridsXAndY(data, n_x_grids, n_y_grids, path=None):\n",
    "    '''\n",
    "    return: x, y-linspaces in the rectangle (x_min, y_min), (x_max, y_max)\n",
    "    '''\n",
    "    x_min, y_min = np.min([np.min(data[i], axis=0) for i in range(len(data))], axis=0)\n",
    "    x_max, y_max = np.max([np.max(data[i], axis=0) for i in range(len(data))], axis=0)\n",
    "    x_margin = 0.05 * (x_max - x_min)\n",
    "    y_margin = 0.05 * (y_max - y_min)\n",
    "    x = np.linspace(x_min - x_margin, x_max + x_margin, n_x_grids+1)\n",
    "    y = np.linspace(y_min - y_margin, y_max + y_margin, n_y_grids+1)\n",
    "    if path:\n",
    "        np.savetxt(path+\"x.csv\", x.reshape(1, len(x)), delimiter=\",\")\n",
    "        np.savetxt(path+\"y.csv\", y.reshape(1, len(y)), delimiter=\",\")\n",
    "        np.savetxt(path+\"minMaxs.csv\", [x_min, y_min, x_max, y_max], delimiter=\"'\")\n",
    "    return x, y, x_min, y_min, x_max, y_max"
   ]
  },
  {
   "cell_type": "code",
   "execution_count": 49,
   "metadata": {
    "id": "okTLSYdr-VZE"
   },
   "outputs": [],
   "source": [
    "path1 = '/Users/hasan/Desktop/Anaconda/IR Project data/'\n",
    "x, y, x_min, y_min, x_max, y_max = getGridsXAndY(data, n_x_grids, n_y_grids, path=None)\n",
    "n_x_grids = len(x) - 1\n",
    "n_y_grids = len(y) - 1"
   ]
  },
  {
   "cell_type": "code",
   "execution_count": 50,
   "metadata": {
    "id": "eKjw9vCss00P"
   },
   "outputs": [],
   "source": [
    "def centersSimilarityMatrix(sigma_coeff=5, path=None):\n",
    "    '''\n",
    "    Gives the similarity matrix of centers of grids using Gauusian kernel\n",
    "    '''\n",
    "    tensor = np.zeros((n_x_grids, n_y_grids, 2))\n",
    "    for i in range(n_x_grids):\n",
    "        for j in range(n_y_grids):\n",
    "            tensor[i][j] = [(x[i]+x[i+1])/2, (y[j]+y[j+1])/2]\n",
    "    tensor = tensor.reshape(-1,2)\n",
    "    simMatrix = np.ones((len(tensor), len(tensor)))\n",
    "    sigma = sigma_coeff * ((y_max-y_min)+(x_max-x_min))/(n_x_grids + n_y_grids)\n",
    "    for i in range(len(tensor) - 1):\n",
    "        simMatrix[i][i+1:] = np.exp(-np.sum((tensor[i+1:]-tensor[i])*(tensor[i+1:]-tensor[i]), \n",
    "                                             axis=1)/sigma**2)\n",
    "    for i in range(len(tensor) - 1):\n",
    "        simMatrix[:,i][i+1:] = simMatrix[i][i+1:]\n",
    "    if path:\n",
    "        np.savetxt(path+\"Similarity_Matrix.csv\", simMatrix, delimiter=\",\")\n",
    "    return simMatrix"
   ]
  },
  {
   "cell_type": "code",
   "execution_count": 51,
   "metadata": {
    "colab": {
     "base_uri": "https://localhost:8080/"
    },
    "id": "H_CGss9GdH8T",
    "outputId": "73123d00-7440-454f-bd89-c4825d29cb9f"
   },
   "outputs": [
    {
     "data": {
      "text/plain": [
       "(2500, 2500)"
      ]
     },
     "execution_count": 51,
     "metadata": {},
     "output_type": "execute_result"
    }
   ],
   "source": [
    "C = centersSimilarityMatrix(sigma_coeff, path=None)\n",
    "print(C.shape)"
   ]
  },
  {
   "cell_type": "code",
   "execution_count": 52,
   "metadata": {
    "id": "uN2ILY67s0xn"
   },
   "outputs": [],
   "source": [
    "def vectorizeLineSegment(LineSegment): \n",
    "    '''\n",
    "    LineSegment: of shape (2, 2); coordinates of start and end are given; [[x1, y1], [x2, y2]]\n",
    "    return: a binary vector of length n_x_grids x n_y_grids, which shows if \n",
    "            LineSegment has occured in each grid or not\n",
    "    '''\n",
    "    array = np.zeros((n_x_grids, n_y_grids))\n",
    "    p1, p2 = LineSegment\n",
    "    slope = (p2-p1)[1]/((p2-p1)[0] + 1e-10)\n",
    "    i1 = np.where(x - p1[0] < 0)[0][-1]\n",
    "    i2 = np.where(x - p2[0] < 0)[0][-1]\n",
    "    xIdxStart = min(i1, i2)\n",
    "    xIdxEnd = max(i1, i2)\n",
    "\n",
    "    if xIdxEnd != xIdxStart:\n",
    "        ''' dealing with start point of lineSegment'''\n",
    "        if i1 < i2:\n",
    "            j_start = np.where(y - p1[1] < 0)[0][-1]\n",
    "            y_val_end = slope * (x[i1+1] - p1[0]) + p1[1]\n",
    "        else:\n",
    "            j_start = np.where(y - p2[1] < 0)[0][-1]\n",
    "            y_val_end = slope * (x[i2+1] - p1[0]) + p1[1]\n",
    "        j_end = np.where(y - y_val_end < 0)[0][-1]\n",
    "        array[xIdxStart][np.arange(min(j_start, j_end), max(j_start, j_end)+1)] = 1\n",
    "\n",
    "        ''' dealing with end point of lineSegment'''\n",
    "        if i1 < i2:\n",
    "            j_end = np.where(y - p2[1] < 0)[0][-1]\n",
    "            y_val_start = slope * (x[i2] - p1[0]) + p1[1]\n",
    "        else:\n",
    "            j_end = np.where(y - p1[1] < 0)[0][-1]\n",
    "            y_val_start = slope * (x[i1] - p1[0]) + p1[1]\n",
    "        j_start = np.where(y - y_val_start < 0)[0][-1]\n",
    "        array[xIdxEnd][np.arange(min(j_start, j_end), max(j_start, j_end)+1)] = 1\n",
    "\n",
    "        ''' dealing with non-endpoints of lineSegment'''\n",
    "        for i in range(xIdxStart+1, xIdxEnd):\n",
    "            y_val_start = slope * (x[i] - p1[0]) + p1[1]\n",
    "            y_val_end = slope * (x[i+1] - p1[0]) + p1[1]\n",
    "            j_start = np.where(y - y_val_start < 0)[0][-1]\n",
    "            j_end = np.where(y - y_val_end < 0)[0][-1]\n",
    "            array[i][np.arange(min(j_start, j_end), max(j_start, j_end)+1)] = 1\n",
    "    else:\n",
    "        y_val_start = min(p1[1], p2[1])\n",
    "        y_val_end = max(p1[1], p2[1])\n",
    "        j_start = np.where(y - y_val_start < 0)[0][-1]\n",
    "        j_end = np.where(y - y_val_end < 0)[0][-1]\n",
    "        array[xIdxStart][np.arange(min(j_start, j_end), max(j_start, j_end)+1)] = 1\n",
    "    return array.reshape(n_x_grids * n_y_grids)"
   ]
  },
  {
   "cell_type": "code",
   "execution_count": 53,
   "metadata": {
    "id": "-w9MzXnlwykE"
   },
   "outputs": [],
   "source": [
    "def vectorizeTrajectory(trajectory, option): # T --> T_tilda\n",
    "    '''\n",
    "    trajectory: of shape (m, 2)\n",
    "    return: a vector of length n_x_grids x n_y_grids, which shows the number \n",
    "            of occurences of trajectory in each grid\n",
    "    '''\n",
    "    A = [vectorizeLineSegment(trajectory[i:i+2]) for i in range(len(trajectory) - 1)]\n",
    "    if option == 'multipass':\n",
    "        return np.sum(A, axis=0)\n",
    "    elif option == 'binary':\n",
    "        return np.sign(np.sum(A, axis=0))\n",
    "\n",
    "\n",
    "def vectorizeData(data, option): # data --> D_tilda\n",
    "    ''' \n",
    "    vectorizes vectorizeTrajectory() over data \n",
    "    '''\n",
    "    mappedData = [vectorizeTrajectory(data[i], option) for i in range(len(data))]\n",
    "    return np.array(mappedData).T"
   ]
  },
  {
   "cell_type": "code",
   "execution_count": 54,
   "metadata": {},
   "outputs": [
    {
     "name": "stdout",
     "output_type": "stream",
     "text": [
      "501.872985124588\n"
     ]
    }
   ],
   "source": [
    "start_time = time.time()\n",
    "D_tilda = vectorizeData(data, option)\n",
    "print(time.time() - start_time)"
   ]
  },
  {
   "cell_type": "code",
   "execution_count": 55,
   "metadata": {
    "id": "r4kpzj_9c6wx"
   },
   "outputs": [],
   "source": [
    "import scipy \n",
    "\n",
    "def dimReductionData(D_tilda, option, reduction_dim, path=None):\n",
    "    '''\n",
    "    Performs dimentionality reduction using SVD of similarity matrix C of centers of grids\n",
    "    path='/content/gdrive/My Drive/IR Project/'\n",
    "    '''\n",
    "    Delta, P = np.linalg.eigh(C, UPLO='L')\n",
    "    I = np.where(Delta <= 1e-15)[0]\n",
    "    Delta[I] = 0\n",
    "    Delta_0 = Delta \n",
    "    D_tilda_tilda = np.diag(np.sqrt(Delta_0)) @ P.T @ D_tilda\n",
    "    U, S, Vt = scipy.linalg.svd(D_tilda_tilda)\n",
    "    U_e = U[:, :reduction_dim] \n",
    "    if path:\n",
    "        np.savetxt(path+\"Delta_0_sqrt@Pt_\"+ option +\".csv\", \n",
    "                   np.diag(np.sqrt(Delta_0)) @ P.T, delimiter=',')\n",
    "        np.savetxt(path+\"U_e_\"+ option +\".csv\", U_e, delimiter=',')\n",
    "        np.savetxt(path+\"reducedData_\"+ option +\".csv\", U_e.T @ D_tilda_tilda, \n",
    "                   delimiter=',')\n",
    "    return np.sqrt(Delta_0), P.T, U_e, U_e.T @ D_tilda_tilda"
   ]
  },
  {
   "cell_type": "code",
   "execution_count": 56,
   "metadata": {
    "colab": {
     "base_uri": "https://localhost:8080/"
    },
    "id": "60U0R1s5c6ob",
    "outputId": "4d78bec9-cf1e-448d-d2fc-123e7d3a049b",
    "scrolled": true
   },
   "outputs": [
    {
     "name": "stdout",
     "output_type": "stream",
     "text": [
      "(100, 14187)\n",
      "22.85414719581604\n"
     ]
    }
   ],
   "source": [
    "s = time.time()\n",
    "Delta_0_sqrt, Pt, U_e, reducedData = \\\n",
    "                    dimReductionData(D_tilda, option, reduction_dim, path=None)\n",
    "\n",
    "print(reducedData.shape)\n",
    "print(time.time() - s)"
   ]
  },
  {
   "cell_type": "code",
   "execution_count": 57,
   "metadata": {},
   "outputs": [],
   "source": [
    "def gridAggregateDistVectorized(traj_vectorized, data_vectorized, option):\n",
    "    '''\n",
    "    Calculates the Grid Aggregated Distance between traj_vectorized and data_vectorized \n",
    "    (which is an array of vectorized trajectories) with respect to centers matrix C; \n",
    "    normalized by the number of grids\n",
    "    '''\n",
    "    c = np.diag(Delta_0_sqrt) @ Pt @ (data_vectorized - traj_vectorized).T\n",
    "    dists = np.sum(c * c, 0)\n",
    "    return np.sqrt(dists)/(n_x_grids * n_y_grids)"
   ]
  },
  {
   "cell_type": "code",
   "execution_count": 58,
   "metadata": {
    "id": "6jmdPAKjgnhY"
   },
   "outputs": [],
   "source": [
    "def dimReducedQuery(query, option):\n",
    "    Min_x, Min_y = np.min(query, axis=0)\n",
    "    Max_x, Max_y = np.max(query, axis=0)\n",
    "    if (x[0] < Min_x and y[0] < Min_y and Max_x < x[-1] and Max_y < y[-1]):\n",
    "        T_q_tilda = vectorizeTrajectory(query, option=option) # vectorizedQuery\n",
    "        T_q_tilda_tilda = np.diag(Delta_0_sqrt) @ Pt @ T_q_tilda\n",
    "        T_q_e_tilda_tilda = U_e.T @ T_q_tilda_tilda\n",
    "        return T_q_e_tilda_tilda \n",
    "    else:\n",
    "        print(colored(f\"The query is not in the specified range of data.\\n \\\n",
    "        Please enter a query in the valid rectangular area: \\n \\\n",
    "        {[x[0], x[-1]]}x{[y[0], y[-1]]}\", \"yellow\"))\n",
    "        return"
   ]
  },
  {
   "cell_type": "code",
   "execution_count": 59,
   "metadata": {
    "colab": {
     "base_uri": "https://localhost:8080/",
     "height": 265
    },
    "id": "snHsSRrz__qF",
    "outputId": "ca6f1153-7d17-45a5-f168-a40a835dc91e"
   },
   "outputs": [
    {
     "data": {
      "image/png": "[encoded data removed]",
      "text/plain": [
       "<Figure size 432x288 with 1 Axes>"
      ]
     },
     "metadata": {
      "needs_background": "light"
     },
     "output_type": "display_data"
    }
   ],
   "source": [
    "for i in range(100):\n",
    "    plt.plot(data[i][:,0], data[i][:,1])\n",
    "    plt.plot(x, y)\n",
    "plt.show()"
   ]
  },
  {
   "cell_type": "code",
   "execution_count": 60,
   "metadata": {
    "id": "GwWEIaP1iMpp"
   },
   "outputs": [],
   "source": [
    "def queryRankList(query, reduction_dim, reducedData, option, max_limit, k=None, r=None): \n",
    "    '''\n",
    "    returns a list; the indices of the trajectories to be retrieved for the query\n",
    "    '''\n",
    "    mappedReducedQuery = dimReducedQuery(query, option=option)\n",
    "    distQueryFromReducedData = LA.norm(reducedData - mappedReducedQuery.reshape(reduction_dim, 1), \n",
    "                                       axis=0) / (n_x_grids * n_y_grids)\n",
    "    distQueryFromReducedDataSortedIndices = np.argsort(distQueryFromReducedData)\n",
    "    if k:\n",
    "        return distQueryFromReducedDataSortedIndices[:k]\n",
    "    elif r:\n",
    "        idx = np.where(distQueryFromReducedData < r)[0]\n",
    "        return idx[:max_limit]\n",
    "    else:\n",
    "        print(colored(\"Please specify k or r\", \"yellow\"))\n",
    "        return"
   ]
  },
  {
   "cell_type": "code",
   "execution_count": 61,
   "metadata": {
    "id": "t0BAulKGiMmv"
   },
   "outputs": [],
   "source": [
    "def dataRankedLists(data_vectorized, reducedData, option, path=None): \n",
    "    # get real dists of data points with grid aggregated distance\n",
    "    n = len(data_vectorized)\n",
    "    distsData = np.zeros((n, n))\n",
    "    for j in range(n-1):\n",
    "        distsData[j][j+1:] = gridAggregateDistVectorized(data_vectorized[j], \n",
    "                                                         data_vectorized[j+1:], \n",
    "                                                         option=option)\n",
    "    distsData = distsData + distsData.T\n",
    "    distsDataArgSorts = np.argsort(distsData)\n",
    "    if path:\n",
    "        np.savetxt(path+\"distsData_\"+option+\".csv\", distsData, delimiter=\",\")\n",
    "        np.savetxt(path+\"distsDataArgSorts_\"+option+\".csv\", distsDataArgSorts, delimiter=\",\")\n",
    "\n",
    "    # get dists of data points after dim reduction\n",
    "    distsReducedData = np.zeros((n,n))\n",
    "    for j in range(n-1):\n",
    "        a = LA.norm(reducedData[j] - reducedData[j+1:], axis=1)/(n_x_grids * n_y_grids)\n",
    "        distsReducedData[j][j+1:] = a\n",
    "    distsReducedData = distsReducedData + distsReducedData.T\n",
    "    distsReducedDataArgSorts = np.argsort(distsReducedData)\n",
    "    if path:\n",
    "        np.savetxt(path+\"distsReducedData_\"+option+\".csv\", distsReducedData, delimiter=\",\")\n",
    "        np.savetxt(path+\"distsReducedDataArgSorts_\"+option+\".csv\", distsReducedDataArgSorts, \n",
    "                   delimiter=\",\")\n",
    "    return distsData, distsDataArgSorts, distsReducedData, distsReducedDataArgSorts\n"
   ]
  },
  {
   "cell_type": "code",
   "execution_count": 62,
   "metadata": {},
   "outputs": [],
   "source": [
    "np.random.seed(10)\n",
    "I = np.random.permutation(len(data))[:1000]\n",
    "data_sample = data[I]"
   ]
  },
  {
   "cell_type": "code",
   "execution_count": 63,
   "metadata": {},
   "outputs": [
    {
     "data": {
      "text/plain": [
       "array([ 9285,  8078,  7828, 12242, 12515,  9558,  1479, 12238,  4376,\n",
       "        4773,  9067,  8739,  2310,  9294, 12926,  3876,  9345,  7032,\n",
       "        4526,  5816,  1633, 12647,   484, 12462, 12071, 13367,  8661,\n",
       "        2470,  1148,  6821,  4911,  7907, 10700,   237,  4594, 14054,\n",
       "       10458,   979, 10774, 13890, 11851, 10464,  5664,  8966, 10032,\n",
       "        5725, 12639,  9061,  3654,  6229, 12946,  4202,  1372, 10270,\n",
       "       11071,   374,  9365, 11477,  6351, 11955,  8648,  4294,  9849,\n",
       "        1911,  8351, 12325, 13867,  2178,  8377,  8938,  1091,  2647,\n",
       "       13262,  9390,  4791,   190, 14106,  9457,  1887,  9598,  3603,\n",
       "       11980, 11443,   976,  4612, 11039,  3732,  8222, 12980,  7523,\n",
       "        7077,  2903,  4183,  7431,  1465,  1707,  3673, 10945, 10097,\n",
       "        5737, 14123,  7945,  1600, 10865, 11909, 11671,  8674,   145,\n",
       "        4577,  1573,  9999,  9017,  9872,  1144, 11360,  6895,  8095,\n",
       "        5830, 12054,  4701,   937, 13312, 10339,  4338,  1236, 10149,\n",
       "       13242,   117,  8419,  8763,  8202, 13282,  2923,  7388,  3746,\n",
       "         370,  7012,   500,  1602,  9187,  1692,  3601, 11326,  4980,\n",
       "        7560,  7587,  7385,  2444,  6406,  6660,  8588,  6222, 10122,\n",
       "        6987, 13974,  5717, 14150,  6085, 10900,  8143, 14110,  9007,\n",
       "         660,  5867,  9247, 12337,   848, 12058,  3574, 11263,  9897,\n",
       "          99,  6521, 12387, 13050,  7571,  9277,  8004, 10024,  1529,\n",
       "        9130,  7397,  5802, 12085,  7310, 11684,  8120,  8616,  7798,\n",
       "       13111, 11690,  6128,  4109,  7130, 12927,  6262,  4448, 11828,\n",
       "       13514,  5644,  7128, 12323, 11625,   450,  6190,  2948,  2990,\n",
       "         832,  1178,  6570,  2898,  3051,   838,  9111, 11164,  9014,\n",
       "        4609,  5777,   463,  3547,  2643,  7271,  1879,  4792, 11707,\n",
       "        7509,  5100,  5350,  7774,   723, 10186,  2664,  4838, 10376,\n",
       "          40,  8393,  9629, 12712,  1182,  9335,  7863, 11772, 12698,\n",
       "        2375,   291, 11147,  7300,  6564,  8189,  9269,  7471,   710,\n",
       "       10367, 11211,  6958,  5864, 11961,  6462,  6675,  6724, 11138,\n",
       "        6569, 12206,  3347,  3992,  8300, 13296,  8903,   702,  2028,\n",
       "        4658, 12716,    76,  8614,  2229,  9062,  6673,  6279,  7897,\n",
       "        2966, 13844,  3856,  9256,  1629,  6674,  1782, 10540,  3247,\n",
       "       13217,  7993,  6100, 12187, 11230,  8400,  2260,  2220, 12662,\n",
       "        9766,  4968,  7634,  9526,  6335,  6742,  4510,  8423, 12728,\n",
       "        2037, 13588,  4775,  5254,  9344,  2971, 13563, 13395, 10486,\n",
       "        3859,  4269, 10813,  2133, 11471, 11343, 12372,  3332,  1752,\n",
       "       10272,  3945, 11977,  8927,  5419, 11036, 10677,  3435, 10229,\n",
       "         830,  1626,  6476,  3902,  1783,  3262,  7846, 13733,  1978,\n",
       "        2681,  5700,  7043,  5668,  2632,  9648,  6894, 12909,  1838,\n",
       "        7821,  2200, 12504, 11438,  1124, 10398, 13028,  2212,  9587,\n",
       "       12752, 11804, 10854, 13888,  9329, 12049, 10318,  5051,  4852,\n",
       "        9702,  1534,  2992,  7076, 12032,  1572, 13915,  1149,  7470,\n",
       "        6854, 13794,  8596, 13310,  2076,  4291,   590,  4825,  5293,\n",
       "        9413,  4524,  8899,  4952,  5607, 13346,  3457,  6329, 10778,\n",
       "        9794,  4067,  6546,  7246,  1501,  9788,  1986, 10787,  5163,\n",
       "        7738,  7655,  4896,  5309, 10066, 13216, 12748,  6794,  6718,\n",
       "       11118, 10889, 13135,  7273,  6953,  9650, 12638,  6713, 11106,\n",
       "       12144,  7118,  7581, 13323,  7960,  6866, 12922,  3717, 11339,\n",
       "       11825, 10535, 12440,  3100,  7450, 13248, 11045, 12832, 12580,\n",
       "       13567,   507, 10487, 12174, 10162, 13114,  1935, 11441, 11289,\n",
       "        9371,   306,  5327, 10964,   880,  9149,  8230, 11187, 13256,\n",
       "        1710,  5183,  8388,  1449,  3183,  5285, 13429,  2357, 11304,\n",
       "       12682, 14013,  7835,  2922,  1900,  4903,  5514,  3611, 14177,\n",
       "        2169,  5526,   840,  3499, 10655,  1870,  3042,  8700,  7775,\n",
       "        6006, 10481,  2315,  6384, 11514,  7750,  1047,  1359,  5451,\n",
       "        6812,  8892, 11267,  8341,    43, 10395,  1043,   931,  5556,\n",
       "        5150,  6487, 10454, 13718, 12455,  7027,  4684, 11373,  2447,\n",
       "         568,   917, 12558,  2785,  6669, 14023,  8442,  7841,  3868,\n",
       "        4221,  1930, 13179, 12198,  4075, 10300,  7549,  2270, 13962,\n",
       "       11574, 13773,  1164, 11079, 11141,  7697,  1274,  9507, 11876,\n",
       "        1988,  5760,  8487,  4616,  6777,  1232,  7874,  6297,  9678,\n",
       "        3477, 12894,  9719, 13734,  3616,  7446,  6832,  2762,  4386,\n",
       "        5463,  7351, 12454,  7222,  8250,  4265,   325,  4355,  5560,\n",
       "       12589, 11782,  6432, 10190, 13921, 12543,  5457,  9961,  5459,\n",
       "       10790,  4490,  5228,  4084,  6954,  1641,  4400,  6377,  3896,\n",
       "       11710, 12346,  8557,  3939,  5585,  3358, 12699, 10068, 10928,\n",
       "        3355,  8643,  9158, 14002,  3744,  4336,  4901,  7090,  3776,\n",
       "        4004,  6215,  8366, 13887,  8617,  1793,  1189, 10966, 10418,\n",
       "        7031,  4918,  8372, 13176,   798, 10230, 10812,  7247,  4846,\n",
       "       10894,  5684,  4654, 13259,  4881, 13918, 12279, 13373, 10096,\n",
       "        4298, 12806, 12843,  7702, 11560,  3136,  4035,  3157,  6341,\n",
       "        3693,  5042,  5223, 11377,  8237,  3133,  7040, 10404,  9011,\n",
       "        9027,  9199,  4182,  8402,  7925,  5320, 12027,  9228, 11667,\n",
       "        2853,  7826,  4742, 10955,  4160,  9669, 10862,  9082,   620,\n",
       "       11212,   952, 10426,  5880,  8483,  6592, 11274,  9153,  6621,\n",
       "        8301,  2486,  1570,  3297, 11789,  1552,   172,  6447, 11691,\n",
       "        8826,  8094, 10071,  6304,  8236,   126,  9020,  8934, 13191,\n",
       "        6737,  5677,  3740,  1679,  5190,  6622,  5469,  5021,  4671,\n",
       "        8013,  4732, 10172,  4342, 10601, 13402, 12092,  4275,  4034,\n",
       "        6804,  4845,  1154,  3588,  7110, 12705, 10240,  9148,  2034,\n",
       "       11394, 10556,  2856,  4760, 11530,  6814, 10835,   558,  8741,\n",
       "        6635, 13083, 11937,  4924,   103,  5274,  3130,   612,  1728,\n",
       "        2967,  6967, 13547,  5315,  8426,  6497,  4171,  2871,  4372,\n",
       "       10322,  3726, 11081,  7213,  5121,  6593,   974,  6524, 10972,\n",
       "         961, 12227,  7296,  6982,  3543,  6254,   452, 11724,  3305,\n",
       "        1497, 10650, 13057,  4955,  8728,  1717,  1319,   988,  5179,\n",
       "        3564, 12184, 10028, 13500,  2637,  3106,  4921,   121,  8572,\n",
       "       12848,  3774, 12685, 11747,  8133,  2036,  8318,  2411,  4129,\n",
       "        1392,  5500,  7628, 12034,  9274,  6937,  9588,  5652,  4156,\n",
       "         231,  8056, 12137, 13363, 12051,  4091,   695, 11102,  5186,\n",
       "        2156, 12572, 10980,     0, 10308,  2362,  5237,  7768, 13691,\n",
       "        8591, 10671,   605,  2833,  4748, 12735,   898, 12028,  9282,\n",
       "       11826,  5004,   825,  2152,  6590,  9233,  3073,  9325,  3613,\n",
       "          87,  4009, 10232,  9683,   140,  1810, 13934,  3702, 11613,\n",
       "       12808,  3875, 11741,  6699,  2381,  9859,  7226,  6048,  5839,\n",
       "       11219,  2030, 12464, 12626, 10674,  1391,  9585,  5876,  3091,\n",
       "        2330,  8550,  2938,  5162,  3075,  6833,  4856, 10175,  8353,\n",
       "        6317,  4877, 10449, 11923,  9672,   217,  2346,  6315,   392,\n",
       "        1126, 10586, 10255,  3815, 12723, 14026,  7009,  2198,  2539,\n",
       "        5194,  9668,   783, 13942,  5871,  9659,  1829,  4328,  9316,\n",
       "       10610,  3559, 11406,  3620,  1483,  6056,  1961, 10093,  7788,\n",
       "       10588,  5349, 11587,  9343, 13147, 12349,  4938,  5295,  9937,\n",
       "        1792,  1711,  8883,  3555,  2716,  6730, 10466,  8302,  9865,\n",
       "        2625,   137, 12988,  9042, 10882, 11017,  8624, 12891,  5540,\n",
       "        1369, 13470,  2646,   835,   218,  1797, 13266, 12042,  2392,\n",
       "        3975, 12055,  2395,   762,  9643, 10324,  1328, 10414,  3734,\n",
       "        3117,   892, 13009,  8814, 10951,   285, 11455,  1298, 11653,\n",
       "       13688,  5306, 13496, 13295,  8800, 11990,  1143,  1929,  6516,\n",
       "       11706,  4453,  9829,  5003,  6263, 12377,  1166,  2005, 10144,\n",
       "       10879,   701,  1001, 12937,  1032, 11467, 10342,   477, 13097,\n",
       "        2801,  3441,  9045,  2855,  3506,  1029,   878, 12124,  5775,\n",
       "       12570])"
      ]
     },
     "execution_count": 63,
     "metadata": {},
     "output_type": "execute_result"
    }
   ],
   "source": [
    "print(I)"
   ]
  },
  {
   "cell_type": "code",
   "execution_count": 64,
   "metadata": {
    "colab": {
     "base_uri": "https://localhost:8080/"
    },
    "id": "G4r184Ub7rQ4",
    "outputId": "f471176f-13b3-49b6-f08f-ae98f93fe613"
   },
   "outputs": [
    {
     "name": "stdout",
     "output_type": "stream",
     "text": [
      "288.46980476379395\n"
     ]
    }
   ],
   "source": [
    "start_time = time.time()\n",
    "distsData, distsDataArgSorts, distsReducedData, distsReducedDataArgSorts = \\\n",
    "                                dataRankedLists(D_tilda.T[I], reducedData.T[I], \n",
    "                                                option, path=None) #path1\n",
    "print(time.time() - start_time)"
   ]
  },
  {
   "cell_type": "code",
   "execution_count": 70,
   "metadata": {
    "id": "6GDsBXhN7acS"
   },
   "outputs": [],
   "source": [
    "def precisionAndRecallData(data, N, max_limit, distsData, distsDataArgSorts, \n",
    "                           distsReducedData, distsReducedDataArgSorts, k=None, r=None): \n",
    "    '''\n",
    "    calculates percision and recall for all data points as well as \n",
    "    the average of percision and recall for all data @N (Note: This is not AP)\n",
    "    path='/content/gdrive/My Drive/IR Project/'\n",
    "    This function is not sensitive to k if k>=N.\n",
    "    Note: Don't give values for both k and r (one of them should be None).\n",
    "    '''\n",
    "    percision = np.zeros(len(data))\n",
    "    recall = np.zeros(len(data))\n",
    "    if (k and r):\n",
    "        for j in range(len(data)):\n",
    "            c = 0\n",
    "            for i in range(N):\n",
    "                if distsReducedDataArgSorts[j][i] in distsDataArgSorts[j][:N]:\n",
    "                    c += 1\n",
    "            percision[j] = c/N\n",
    "            recall[j] = c/N\n",
    "        percision_k = percision.copy()\n",
    "        recall_k = recall.copy()\n",
    "        for j in range(len(data)):\n",
    "            d = 0\n",
    "            idx = np.where(distsData[j] < r)[0][:min(max_limit, N)]\n",
    "            idx_red = np.where(distsReducedData[j] < r)[0][:min(max_limit, N)]\n",
    "            for i in range(len(idx_red)):\n",
    "                if idx_red[i] in idx:\n",
    "                    d += 1\n",
    "            percision[j] = d/len(idx_red)\n",
    "            recall[j] = d/len(idx)\n",
    "        return {f\"k={k}:\": [percision_k, recall_k, np.mean(percision_k), np.mean(recall_k)],\n",
    "                f\"r={r}:\": [percision, recall, np.mean(percision), np.mean(recall)]}\n",
    "    elif k:\n",
    "        for j in range(len(data)):\n",
    "            c = 0\n",
    "            for i in range(N):\n",
    "                if distsReducedDataArgSorts[j][i] in distsDataArgSorts[j][:N]:\n",
    "                    c += 1\n",
    "            percision[j] = c/N\n",
    "            recall[j] = c/N\n",
    "        return percision, recall, np.mean(percision), np.mean(recall)\n",
    "    elif r:\n",
    "        for j in range(len(data)):\n",
    "            c = 0\n",
    "            idx = np.where(distsData[j] < r)[0]\n",
    "            idx_red = np.where(distsReducedData[j] < r)[0]\n",
    "            I = np.argsort(distsData[j][idx])\n",
    "            idx = idx[I][:min(max_limit, N)]\n",
    "            J = np.argsort(distsReducedData[j][idx_red])\n",
    "            idx_red = idx_red[J][:min(max_limit, N)]\n",
    "            for i in range(len(idx_red)):\n",
    "                if idx_red[i] in idx:\n",
    "                    c += 1\n",
    "            percision[j] = c/len(idx_red)\n",
    "            recall[j] = c/len(idx)\n",
    "        return percision, recall, np.mean(percision), np.mean(recall)\n",
    "    else:\n",
    "        print(colored(\"Pleas specify the value of k or r.\", \"yellow\"))"
   ]
  },
  {
   "cell_type": "markdown",
   "metadata": {
    "id": "Lh2p98tegtf-"
   },
   "source": [
    "### Average of percisions of all data points where each is used as kNN queries"
   ]
  },
  {
   "cell_type": "code",
   "execution_count": 71,
   "metadata": {},
   "outputs": [
    {
     "name": "stdout",
     "output_type": "stream",
     "text": [
      "option: binary\n",
      "\u001b[33mmean_percision: [0.8676  0.8921  0.90735]\u001b[0m\n",
      "mean_recall: [0.8676  0.8921  0.90735]\n"
     ]
    }
   ],
   "source": [
    "# Note: for kNN queries percision and recall are the same\n",
    "percision = []\n",
    "recall = []\n",
    "mean_percision = []\n",
    "mean_recall = []\n",
    "print('option:', option)\n",
    "\n",
    "for k in [5,10,20]:\n",
    "    a, b, c, d = precisionAndRecallData(data_sample, N=k, max_limit=max_limit, \n",
    "                                        distsData=distsData, distsDataArgSorts=distsDataArgSorts, \n",
    "                                        distsReducedData=distsReducedData, \n",
    "                                        distsReducedDataArgSorts=distsReducedDataArgSorts, \n",
    "                                        k=k, r=None)\n",
    "    percision.append(a)\n",
    "    recall.append(b)\n",
    "    mean_percision.append(c)\n",
    "    mean_recall.append(d)\n",
    "\n",
    "print(colored(f\"mean_percision: {np.array(mean_percision)}\", 'yellow'))\n",
    "print(\"mean_recall:\", np.array(mean_recall))"
   ]
  },
  {
   "cell_type": "code",
   "execution_count": 34,
   "metadata": {},
   "outputs": [
    {
     "name": "stdout",
     "output_type": "stream",
     "text": [
      "option: multipass\n",
      "\u001b[33mmean_percision: [0.948   0.959   0.96525]\u001b[0m\n",
      "mean_recall: [0.948   0.959   0.96525]\n"
     ]
    }
   ],
   "source": [
    "# Note: for kNN queries percision and recall are the same\n",
    "percision = []\n",
    "recall = []\n",
    "mean_percision = []\n",
    "mean_recall = []\n",
    "print('option:', option)\n",
    "\n",
    "for k in [5, 10, 20]:\n",
    "    a, b, c, d = precisionAndRecallData(data_sample, N=k, max_limit=max_limit, \n",
    "                                        distsData=distsData, distsDataArgSorts=distsDataArgSorts, \n",
    "                                        distsReducedData=distsReducedData, \n",
    "                                        distsReducedDataArgSorts=distsReducedDataArgSorts, \n",
    "                                        k=k, r=None)\n",
    "    percision.append(a)\n",
    "    recall.append(b)\n",
    "    mean_percision.append(c)\n",
    "    mean_recall.append(d)\n",
    "\n",
    "print(colored(f\"mean_percision: {np.array(mean_percision)}\", 'yellow'))\n",
    "print(\"mean_recall:\", np.array(mean_recall))"
   ]
  },
  {
   "cell_type": "markdown",
   "metadata": {
    "id": "fE8KpOEzg_jC"
   },
   "source": [
    "### Averages of percisions and recalls of all data points where each is used as range queries"
   ]
  },
  {
   "cell_type": "code",
   "execution_count": 35,
   "metadata": {
    "colab": {
     "base_uri": "https://localhost:8080/"
    },
    "id": "P5QDba1thmzf",
    "outputId": "c301168d-a4a5-4784-9a41-22d8f62cbe6b"
   },
   "outputs": [
    {
     "data": {
      "text/plain": [
       "(6.406667235189689, 6.404558060858125)"
      ]
     },
     "execution_count": 35,
     "metadata": {},
     "output_type": "execute_result"
    }
   ],
   "source": [
    "np.max(distsData), np.max(distsReducedData)"
   ]
  },
  {
   "cell_type": "code",
   "execution_count": 72,
   "metadata": {},
   "outputs": [
    {
     "name": "stdout",
     "output_type": "stream",
     "text": [
      "option: binary\n",
      "\u001b[33mmean_percision: [0.92746468 0.88955595 0.8883381 ]\u001b[0m\n",
      "mean_recall: [0.9549 0.9023 0.8892]\n"
     ]
    }
   ],
   "source": [
    "percision = []\n",
    "recall = []\n",
    "mean_percision = []\n",
    "mean_recall = []\n",
    "print('option:', option)\n",
    "\n",
    "for r in [0.001, 0.005, 0.01]:\n",
    "    a, b, c, d = precisionAndRecallData(data_sample, N=10, max_limit=max_limit,  \n",
    "                                        distsData=distsData, distsDataArgSorts=distsDataArgSorts, \n",
    "                                        distsReducedData=distsReducedData, \n",
    "                                        distsReducedDataArgSorts=distsReducedDataArgSorts, \n",
    "                                        k=None, r=r)\n",
    "    percision.append(a)\n",
    "    recall.append(b)\n",
    "    mean_percision.append(c)\n",
    "    mean_recall.append(d)\n",
    "\n",
    "print(colored(f\"mean_percision: {np.array(mean_percision)}\", 'yellow'))\n",
    "print(\"mean_recall:\", np.array(mean_recall))"
   ]
  },
  {
   "cell_type": "code",
   "execution_count": 36,
   "metadata": {},
   "outputs": [
    {
     "name": "stdout",
     "output_type": "stream",
     "text": [
      "option: multipass\n",
      "\u001b[33mmean_percision: [0.999      0.98944841 0.97646944]\u001b[0m\n",
      "mean_recall: [1.     1.     0.9978]\n"
     ]
    }
   ],
   "source": [
    "percision = []\n",
    "recall = []\n",
    "mean_percision = []\n",
    "mean_recall = []\n",
    "print('option:', option)\n",
    "\n",
    "for r in [0.001, 0.005, 0.01]:\n",
    "    a, b, c, d = precisionAndRecallData(data_sample, N=10, max_limit=max_limit, \n",
    "                                        distsData=distsData, distsDataArgSorts=distsDataArgSorts, \n",
    "                                        distsReducedData=distsReducedData, \n",
    "                                        distsReducedDataArgSorts=distsReducedDataArgSorts, \n",
    "                                        k=None, r=r)\n",
    "    percision.append(a)\n",
    "    recall.append(b)\n",
    "    mean_percision.append(c)\n",
    "    mean_recall.append(d)\n",
    "\n",
    "print(colored(f\"mean_percision: {np.array(mean_percision)}\", 'yellow'))\n",
    "print(\"mean_recall:\", np.array(mean_recall))"
   ]
  },
  {
   "cell_type": "code",
   "execution_count": 73,
   "metadata": {
    "id": "ftathFPCMmJa"
   },
   "outputs": [],
   "source": [
    "def precisionAndRecallDataPoint(index, N, max_limit, distsData, distsDataArgSorts, \n",
    "                                distsReducedData, distsReducedDataArgSorts, k=None, r=None): \n",
    "    '''\n",
    "    calculates percision and recall for one data point (as a query) @ N\n",
    "    index: the index of data point\n",
    "    path='/content/gdrive/My Drive/IR Project/'\n",
    "    This function is not sensitive to k if k >= N\n",
    "    '''\n",
    "    if k:\n",
    "        c = 0\n",
    "        for i in range(N):\n",
    "            if distsReducedDataArgSorts[index][i] in distsDataArgSorts[index][:N]:\n",
    "                c += 1\n",
    "        percision = c/N\n",
    "        recall = c/N\n",
    "        return percision, recall\n",
    "    elif r:\n",
    "        c = 0\n",
    "        idx = np.where(distsData[index] < r)[0]\n",
    "        idx_red = np.where(distsReducedData[index] < r)[0]\n",
    "        I = np.argsort(distsData[index][idx])\n",
    "        idx = idx[I][:min(max_limit, N)]\n",
    "        J = np.argsort(distsReducedData[index][idx_red])\n",
    "        idx_red = idx_red[J][:min(max_limit, N)]\n",
    "        for i in range(len(idx_red)):\n",
    "            if idx_red[i] in idx:\n",
    "                c += 1\n",
    "        percision = c/len(idx_red)\n",
    "        recall = c/len(idx)\n",
    "        return percision, recall\n",
    "    else:\n",
    "        print(colored(\"Pleas specify the value of k or r.\", \"yellow\"))\n"
   ]
  },
  {
   "cell_type": "code",
   "execution_count": 74,
   "metadata": {
    "id": "LmXpSgnI7aZk"
   },
   "outputs": [],
   "source": [
    "def averagePrecisionData(data, path, max_limit, reduction_dim, reducedData, \n",
    "                         option, k=None, r=None):\n",
    "    '''\n",
    "    calculates average percision (AP) for all data points as well as \n",
    "    the average of AP on all data points as queries (i.e. MAP)\n",
    "    path='/content/gdrive/My Drive/IR Project/'\n",
    "    Note: Don't give values for both k and r (one of them should be None).\n",
    "    '''\n",
    "    distsData = np.array(pd.read_csv(path+\"distsData_\"+option+\".csv\", header=None))\n",
    "    distsDataArgSorts = np.array(pd.read_csv(path+\"distsDataArgSorts_\"+option+\".csv\", header=None))\n",
    "    distsReducedData = np.array(pd.read_csv(path+\"distsReducedData_\"+option+\".csv\", header=None))\n",
    "    distsReducedDataArgSorts = np.array(pd.read_csv(path+\"distsReducedDataArgSorts_\"+option+\".csv\", header=None))\n",
    "    n = len(data)\n",
    "    AP = np.zeros(n)\n",
    "    if k:\n",
    "        AP_temp = np.zeros((k, n))\n",
    "        for i in range(k):\n",
    "            percision, _, _, _ = precisionAndRecallData(data, i+1, max_limit, \n",
    "                                        distsData, distsDataArgSorts, distsReducedData, \n",
    "                                        distsReducedDataArgSorts, k=k, r=r)\n",
    "            for t in range(n):\n",
    "                if distsReducedDataArgSorts[t][i] in distsDataArgSorts[t]:\n",
    "                    AP_temp[i][t] = percision[t] \n",
    "\n",
    "        AP = np.mean(AP_temp, 0)\n",
    "        MAP = np.mean(AP)\n",
    "        return AP, MAP\n",
    "    elif r:\n",
    "        for t in range(n):\n",
    "            AP_temp = []\n",
    "            s = len(np.where(distsReducedData[t] < r)[0])\n",
    "            for i in range(s):\n",
    "                percision, _ = precisionAndRecallDataPoint(t, i+1, max_limit, \n",
    "                                        distsData, distsDataArgSorts, distsReducedData, \n",
    "                                        distsReducedDataArgSorts,k=None, r=r)\n",
    "                idx = np.where(distsData[t] < r)[0]\n",
    "                idx_red = np.where(distsReducedData[t] < r)[0]\n",
    "                I = np.argsort(distsData[t][idx])\n",
    "                idx = idx[I][:min(max_limit, i+1)]\n",
    "                J = np.argsort(distsReducedData[t][idx_red])\n",
    "                idx_red = idx_red[J][:min(max_limit, i+1)]\n",
    "                if i < len(idx_red):\n",
    "                    if idx_red[i] in idx:\n",
    "                        AP_temp.append(percision)\n",
    "            AP[t] = np.sum(AP_temp)/s\n",
    "        MAP = np.mean(AP)\n",
    "        return AP, MAP"
   ]
  },
  {
   "cell_type": "markdown",
   "metadata": {
    "id": "jwk7C49djxHs"
   },
   "source": [
    "### AP and MAP for kNN queries"
   ]
  },
  {
   "cell_type": "code",
   "execution_count": 75,
   "metadata": {},
   "outputs": [
    {
     "name": "stdout",
     "output_type": "stream",
     "text": [
      "option: binary\n",
      "\u001b[33mMAP: [0.86317    0.87506683 0.89043278]\u001b[0m\n",
      "Total time: 3.7365458011627197\n"
     ]
    }
   ],
   "source": [
    "start_time = time.time()\n",
    "AP = []\n",
    "MAP = []\n",
    "print('option:', option)\n",
    "for k in [5, 10, 20]:\n",
    "    a, b = averagePrecisionData(data_sample, path1, max_limit, reduction_dim, \n",
    "                                reducedData.T[I].T, option, k=k, r=None)\n",
    "    AP.append(a)\n",
    "    MAP.append(b)\n",
    "\n",
    "print(colored(f\"MAP: {np.array(MAP)}\", 'yellow'))\n",
    "print(\"Total time:\", time.time() - start_time)"
   ]
  },
  {
   "cell_type": "code",
   "execution_count": 39,
   "metadata": {},
   "outputs": [
    {
     "name": "stdout",
     "output_type": "stream",
     "text": [
      "option: multipass\n",
      "\u001b[33mMAP: [0.95966667 0.95770198 0.96035579]\u001b[0m\n",
      "Total time: 4.227134943008423\n"
     ]
    }
   ],
   "source": [
    "start_time = time.time()\n",
    "AP = []\n",
    "MAP = []\n",
    "print('option:', option)\n",
    "for k in [5, 10, 20]:\n",
    "    a, b = averagePrecisionData(data_sample, path1, max_limit, reduction_dim, \n",
    "                                reducedData.T[I].T, option, k=k, r=None)\n",
    "    AP.append(a)\n",
    "    MAP.append(b)\n",
    "\n",
    "print(colored(f\"MAP: {np.array(MAP)}\", 'yellow'))\n",
    "print(\"Total time:\", time.time() - start_time)"
   ]
  },
  {
   "cell_type": "markdown",
   "metadata": {
    "id": "R453Ju8fj-G5"
   },
   "source": [
    "### AP and MAP for range queries"
   ]
  },
  {
   "cell_type": "code",
   "execution_count": 85,
   "metadata": {},
   "outputs": [
    {
     "name": "stdout",
     "output_type": "stream",
     "text": [
      "option: binary\n",
      "4.198775053024292\n",
      "167.11280465126038\n",
      "362.10226011276245\n",
      "\u001b[33mMAP: [0.81156418 0.20245203 0.03756224]\u001b[0m\n",
      "533.4157500267029\n"
     ]
    }
   ],
   "source": [
    "start_time = time.time()\n",
    "AP = []\n",
    "MAP = []\n",
    "print('option:', option)\n",
    "\n",
    "for r in [0.001, 0.005, 0.01]:\n",
    "    s_time = time.time()\n",
    "    a, b = averagePrecisionData(data_sample, path1, max_limit, reduction_dim, \n",
    "                                reducedData.T[I].T, option, k=None, r=r)\n",
    "    AP.append(a)\n",
    "    MAP.append(b)\n",
    "    print(time.time() - s_time)\n",
    "    \n",
    "print(colored(f\"MAP: {np.array(MAP)}\", 'yellow'))\n",
    "print(time.time() - start_time)"
   ]
  },
  {
   "cell_type": "code",
   "execution_count": 40,
   "metadata": {},
   "outputs": [
    {
     "name": "stdout",
     "output_type": "stream",
     "text": [
      "option: multipass\n",
      "\u001b[33mMAP: [0.999      0.98734919 0.95820147]\u001b[0m\n",
      "3.397214889526367\n"
     ]
    }
   ],
   "source": [
    "start_time = time.time()\n",
    "AP = []\n",
    "MAP = []\n",
    "print('option:', option)\n",
    "\n",
    "for r in [0.001, 0.005, 0.01]:\n",
    "    a, b = averagePrecisionData(data_sample, path1, max_limit, reduction_dim, \n",
    "                                reducedData.T[I].T, option, k=None, r=r)\n",
    "    AP.append(a)\n",
    "    MAP.append(b)\n",
    "    \n",
    "print(colored(f\"MAP: {np.array(MAP)}\", 'yellow'))\n",
    "print(time.time() - start_time)"
   ]
  },
  {
   "cell_type": "code",
   "execution_count": 77,
   "metadata": {
    "id": "TSSjAe_9iody"
   },
   "outputs": [],
   "source": [
    "def nDCG(data, path, max_limit, reduction_dim, option, N, k=None, r=None):\n",
    "    '''\n",
    "    calculates average nDCG @N for all data points as well as \n",
    "    the average of nDCG @N on all data points as queries;\n",
    "    N should be <= k;\n",
    "    path='/content/gdrive/My Drive/IR Project/'\n",
    "    Note: Don't give values for both k and r (one of them should be None).\n",
    "    '''\n",
    "    distsData = np.array(pd.read_csv(path+\"distsData_\"+option+\".csv\", header=None))\n",
    "    distsDataArgSorts = np.array(pd.read_csv(path+\"distsDataArgSorts_\"+option+\".csv\", header=None)).tolist()\n",
    "    distsReducedData = np.array(pd.read_csv(path+\"distsReducedData_\"+option+\".csv\", header=None))\n",
    "    distsReducedDataArgSorts = np.array(pd.read_csv(path+\"distsReducedDataArgSorts_\"+option+\".csv\", header=None))\n",
    "    DCG = np.zeros(len(data))\n",
    "    if k: \n",
    "        iDCG = np.sum([(k-i)/math.log(i+2, 2) for i in range(k)])\n",
    "        for j in range(len(data)):\n",
    "            rel = np.zeros(N)\n",
    "            for i in range(N):\n",
    "                if distsReducedDataArgSorts[j][i] in distsDataArgSorts[j]:\n",
    "                    if k - distsDataArgSorts[j].index(distsReducedDataArgSorts[j][i]) > 0:\n",
    "                        rel[i] = k - distsDataArgSorts[j].index(distsReducedDataArgSorts[j][i])\n",
    "            DCG[j] = np.sum([rel[i]/math.log(i+2, 2) for i in range(N)])\n",
    "        return DCG/iDCG, np.mean(DCG/iDCG)\n",
    "    elif r:\n",
    "        for j in range(len(data)):\n",
    "            I = np.where(distsData[j] < r)[0]\n",
    "            relevant = distsDataArgSorts[j][:len(I)]\n",
    "            J = np.where(distsReducedData[j] < r)[0]\n",
    "            retrieved = distsReducedDataArgSorts[j][:len(J)]\n",
    "            relevance = list(reversed(range(1, N+1)))\n",
    "            iDCG = np.sum([relevance[i]/math.log(i+2, 2) for i in range(N)])\n",
    "            rel = np.zeros(N)\n",
    "            for i in range(N):\n",
    "                if distsReducedDataArgSorts[j][i] in distsDataArgSorts[j][:len(I)]:\n",
    "                    if N - distsDataArgSorts[j].index(distsReducedDataArgSorts[j][i]) > 0:\n",
    "                        rel[i] = N - distsDataArgSorts[j].index(distsReducedDataArgSorts[j][i])\n",
    "            DCG[j] = np.sum([rel[i]/math.log(i+2, 2) for i in range(N)])\n",
    "        return DCG/iDCG, np.mean(DCG/iDCG)"
   ]
  },
  {
   "cell_type": "code",
   "execution_count": 78,
   "metadata": {},
   "outputs": [
    {
     "name": "stdout",
     "output_type": "stream",
     "text": [
      "option: binary\n",
      "\u001b[33mnDCGs@5: [0.91817087 0.78217436 0.5823225 ]\u001b[0m\n",
      "\u001b[33mnDCGs@10: [0.94426914 0.9393703  0.79893225]\u001b[0m\n"
     ]
    }
   ],
   "source": [
    "# N <= k\n",
    "print('option:', option)\n",
    "nDCGs = []\n",
    "for k in [5, 10, 20]:\n",
    "    nDCGs.append(nDCG(data_sample, path1, max_limit, reduction_dim, option, N=5, \n",
    "                      k=k, r=None)[1])\n",
    "print(colored(f'nDCGs@5: {np.array(nDCGs)}', 'yellow'))\n",
    "\n",
    "nDCGs = []\n",
    "for k in [5, 10, 20]:\n",
    "    nDCGs.append(nDCG(data_sample, path1, max_limit, reduction_dim, option, N=10, \n",
    "                      k=k, r=None)[1])\n",
    "print(colored(f'nDCGs@10: {np.array(nDCGs)}', 'yellow'))"
   ]
  },
  {
   "cell_type": "code",
   "execution_count": 42,
   "metadata": {},
   "outputs": [
    {
     "name": "stdout",
     "output_type": "stream",
     "text": [
      "option: multipass\n",
      "\u001b[33mnDCGs@5: [0.98217857 0.82328761 0.602873  ]\u001b[0m\n",
      "\u001b[33mnDCGs@10: [0.99300194 0.9885653  0.83295832]\u001b[0m\n"
     ]
    }
   ],
   "source": [
    "# N <= k\n",
    "print('option:', option)\n",
    "nDCGs = []\n",
    "for k in [5, 10, 20]:\n",
    "    nDCGs.append(nDCG(data_sample, path1, max_limit, reduction_dim, option, N=5, \n",
    "                      k=k, r=None)[1])\n",
    "print(colored(f'nDCGs@5: {np.array(nDCGs)}', 'yellow'))\n",
    "\n",
    "nDCGs = []\n",
    "for k in [5, 10, 20]:\n",
    "    nDCGs.append(nDCG(data_sample, path1, max_limit, reduction_dim, option, N=10, \n",
    "                      k=k, r=None)[1])\n",
    "print(colored(f'nDCGs@10: {np.array(nDCGs)}', 'yellow'))"
   ]
  },
  {
   "cell_type": "code",
   "execution_count": 79,
   "metadata": {},
   "outputs": [
    {
     "name": "stdout",
     "output_type": "stream",
     "text": [
      "option: binary\n",
      "\u001b[33mnDCG@5: [0.72604454 0.88933002 0.91817087]\u001b[0m\n",
      "\u001b[33mnDCG@10: [0.65587901 0.8951388  0.9390234 ]\u001b[0m\n"
     ]
    }
   ],
   "source": [
    "print('option:', option)\n",
    "nDCGs = []\n",
    "for r in [0.001, 0.005, 0.01]:\n",
    "    nDCGs.append(nDCG(data_sample, path1, max_limit, reduction_dim, option, N=5, \n",
    "                      k=None, r=r)[1])\n",
    "print(colored(f'nDCG@5: {np.array(nDCGs)}', 'yellow'))\n",
    "\n",
    "nDCGs = []\n",
    "for r in [0.001, 0.005, 0.01]:\n",
    "    nDCGs.append(nDCG(data_sample, path1, max_limit, reduction_dim, option, N=10, \n",
    "                      k=None, r=r)[1])\n",
    "print(colored(f'nDCG@10: {np.array(nDCGs)}', 'yellow'))"
   ]
  },
  {
   "cell_type": "code",
   "execution_count": 45,
   "metadata": {},
   "outputs": [
    {
     "name": "stdout",
     "output_type": "stream",
     "text": [
      "option: multipass\n",
      "\u001b[33mnDCG@5: [0.49055102 0.52913039 0.57346069]\u001b[0m\n",
      "\u001b[33mnDCG@10: [0.33669295 0.37478629 0.42755948]\u001b[0m\n"
     ]
    }
   ],
   "source": [
    "print('option:', option)\n",
    "nDCGs = []\n",
    "for r in [0.001, 0.005, 0.01]:\n",
    "    nDCGs.append(nDCG(data_sample, path1, max_limit, reduction_dim, option, N=5, \n",
    "                      k=None, r=r)[1])\n",
    "print(colored(f'nDCG@5: {np.array(nDCGs)}', 'yellow'))\n",
    "\n",
    "nDCGs = []\n",
    "for r in [0.001, 0.005, 0.01]:\n",
    "    nDCGs.append(nDCG(data_sample, path1, max_limit, reduction_dim, option, N=10, \n",
    "                      k=None, r=r)[1])\n",
    "print(colored(f'nDCG@10: {np.array(nDCGs)}', 'yellow'))"
   ]
  }
 ],
 "metadata": {
  "colab": {
   "collapsed_sections": [
    "ubAIAs89PJw8",
    "AfbIPquYs0B0",
    "FvCrw-XVT1mL",
    "fbVNMAwhZmAV",
    "Y1IjMDNXWl-g",
    "prEAqI933_SS",
    "v9BAgZgze_Ms"
   ],
   "name": "IR_Project.ipynb",
   "provenance": []
  },
  "kernelspec": {
   "display_name": "Python 3 (ipykernel)",
   "language": "python",
   "name": "python3"
  },
  "language_info": {
   "codemirror_mode": {
    "name": "ipython",
    "version": 3
   },
   "file_extension": ".py",
   "mimetype": "text/x-python",
   "name": "python",
   "nbconvert_exporter": "python",
   "pygments_lexer": "ipython3",
   "version": "3.7.11"
  }
 },
 "nbformat": 4,
 "nbformat_minor": 1
}
